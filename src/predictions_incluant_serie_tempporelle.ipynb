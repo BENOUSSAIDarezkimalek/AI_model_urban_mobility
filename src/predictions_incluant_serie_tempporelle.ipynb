{
 "cells": [
  {
   "cell_type": "markdown",
   "id": "57eba637",
   "metadata": {},
   "source": [
    "# Import librairies"
   ]
  },
  {
   "cell_type": "code",
   "execution_count": 1,
   "id": "c7b4ec32",
   "metadata": {},
   "outputs": [],
   "source": [
    "import pandas as pd\n",
    "from datetime import date\n",
    "from sklearn.ensemble import RandomForestClassifier\n",
    "import numpy as np\n",
    "from sklearn.metrics import classification_report, confusion_matrix\n",
    "import seaborn as sns\n",
    "import matplotlib.pyplot as plt"
   ]
  },
  {
   "cell_type": "markdown",
   "id": "44e569b1",
   "metadata": {},
   "source": [
    "# Import des datasets"
   ]
  },
  {
   "cell_type": "code",
   "execution_count": null,
   "id": "e9f8a27c",
   "metadata": {},
   "outputs": [],
   "source": [
    "df_global = pd.read_parquet('/Users/manu/Desktop/SUP/Projet 2/AI_model_urban_mobility/data/df_final_15min_NoNan_20250505.parquet')"
   ]
  },
  {
   "cell_type": "code",
   "execution_count": null,
   "id": "b5e8f829",
   "metadata": {},
   "outputs": [],
   "source": [
    "df_prediction_taux_occupation = pd.read_csv('/Users/manu/Desktop/SUP/Projet 2/AI_model_urban_mobility/data/donnees_predictions/taux_occupation_predictions.csv')"
   ]
  },
  {
   "cell_type": "code",
   "execution_count": null,
   "id": "0cfe504f",
   "metadata": {},
   "outputs": [],
   "source": [
    "df_prediction_temps_parcours = pd.read_csv('/Users/manu/Desktop/SUP/Projet 2/AI_model_urban_mobility/data/donnees_predictions/temps_de_parcours_predictions.csv')"
   ]
  },
  {
   "cell_type": "code",
   "execution_count": null,
   "id": "8ebafadd",
   "metadata": {},
   "outputs": [],
   "source": [
    "df_prediction_vitesse = pd.read_csv('/Users/manu/Desktop/SUP/Projet 2/AI_model_urban_mobility/data/donnees_predictions/resultats_multivariates_sans_sup_50.csv')"
   ]
  },
  {
   "cell_type": "code",
   "execution_count": null,
   "id": "adaa12e0",
   "metadata": {},
   "outputs": [],
   "source": [
    "df_prediction_debit = ('/Users/manu/Desktop/SUP/Projet 2/AI_model_urban_mobility/data/donnees_predictions/resultats_debit.csv')"
   ]
  },
  {
   "cell_type": "code",
   "execution_count": null,
   "id": "d594caa8",
   "metadata": {},
   "outputs": [
    {
     "data": {
      "text/plain": [
       "Index(['heure_arrondie', 'nom_du_troncon', 'temps_de_parcours_reel',\n",
       "       'temps_de_parcours_pred'],\n",
       "      dtype='object')"
      ]
     },
     "execution_count": 10,
     "metadata": {},
     "output_type": "execute_result"
    }
   ],
   "source": [
    "df_prediction_taux_occupation.columns"
   ]
  },
  {
   "cell_type": "markdown",
   "id": "32c76b78",
   "metadata": {},
   "source": [
    "# Test 1 - RandomForest incluant taux_occupation prédit en cible multiclasse"
   ]
  },
  {
   "cell_type": "markdown",
   "id": "3a3745c3",
   "metadata": {},
   "source": [
    "Prédiction avec un RandomForest sur du multiclasse incluant la variable temporelle précédemment prédite taux_occupation"
   ]
  },
  {
   "cell_type": "code",
   "execution_count": null,
   "id": "699f0a8d",
   "metadata": {},
   "outputs": [
    {
     "name": "stderr",
     "output_type": "stream",
     "text": [
      "<ipython-input-32-0d88f14db173>:38: SettingWithCopyWarning: \n",
      "A value is trying to be set on a copy of a slice from a DataFrame.\n",
      "Try using .loc[row_indexer,col_indexer] = value instead\n",
      "\n",
      "See the caveats in the documentation: https://pandas.pydata.org/pandas-docs/stable/user_guide/indexing.html#returning-a-view-versus-a-copy\n",
      "  X_train_data['source'] = 'train'\n",
      "<ipython-input-32-0d88f14db173>:39: SettingWithCopyWarning: \n",
      "A value is trying to be set on a copy of a slice from a DataFrame.\n",
      "Try using .loc[row_indexer,col_indexer] = value instead\n",
      "\n",
      "See the caveats in the documentation: https://pandas.pydata.org/pandas-docs/stable/user_guide/indexing.html#returning-a-view-versus-a-copy\n",
      "  X_pred_data['source'] = 'pred'\n"
     ]
    },
    {
     "name": "stdout",
     "output_type": "stream",
     "text": [
      "Entraînement du modèle\n",
      "Modèle entraîné.\n"
     ]
    }
   ],
   "source": [
    "# --- Préparation des données ---\n",
    "\n",
    "df_global['heure_arrondie'] = pd.to_datetime(df_global['heure_arrondie'])\n",
    "df_prediction_taux_occupation['heure_arrondie'] = pd.to_datetime(df_prediction_taux_occupation['heure_arrondie'])\n",
    "cutoff_date = pd.to_datetime('2025-03-08')\n",
    "\n",
    "train_df = df_global[df_global['heure_arrondie'] < cutoff_date].copy()\n",
    "predict_base_df = df_global[df_global['heure_arrondie'] >= cutoff_date].copy()\n",
    "\n",
    "# Selection des variables explicatives\n",
    "feature_cols = ['taux_occupation', 'id', 'weekday', 'hour', 'is_vacances', 'is_ferie', 'has_event_near_troncon']\n",
    "target_col = 'code_couleur'\n",
    "\n",
    "\n",
    "# --- Fusion des données ---\n",
    "\n",
    "# Objectif : retrouver les features correspondant aux prédictions\n",
    "# On utilise 'nom_du_troncon' et 'heure_arrondie' pour lier la prédiction du LSTM aux données de contexte de df_global\n",
    "predict_df_merged = pd.merge(\n",
    "    predict_base_df,\n",
    "    df_prediction_taux_occupation,\n",
    "    on=['heure_arrondie', 'nom_du_troncon'], \n",
    "    how='inner' \n",
    ")\n",
    "\n",
    "# Remplacer la valeur réelle par la valeur prédite\n",
    "predict_df_merged['taux_occupation'] = predict_df_merged['taux_occupation_pred']\n",
    "# Supprimer la colonne de prédiction pour ne pas la retrouver dans les features\n",
    "predict_df_merged = predict_df_merged.drop(columns=['taux_occupation_pred'])\n",
    "\n",
    "# --- Encodage uniforme ---\n",
    "X_train_data = train_df[feature_cols]\n",
    "# On prend les mêmes colonnes du df fusionné\n",
    "X_pred_data = predict_df_merged[feature_cols]\n",
    "\n",
    "# Combinaison pour encodage robuste\n",
    "X_train_data['source'] = 'train'\n",
    "X_pred_data['source'] = 'pred'\n",
    "combined_df = pd.concat([X_train_data, X_pred_data], ignore_index=True)\n",
    "\n",
    "categorical_cols = ['id', 'hour', 'weekday']\n",
    "combined_df_encoded = pd.get_dummies(combined_df, columns=categorical_cols, dtype=int)\n",
    "\n",
    "X_train_final = combined_df_encoded[combined_df_encoded['source'] == 'train'].drop(columns=['source'])\n",
    "X_to_predict = combined_df_encoded[combined_df_encoded['source'] == 'pred'].drop(columns=['source'])\n",
    "y_train = train_df[target_col]\n",
    "X_to_predict = X_to_predict[X_train_final.columns]\n",
    "\n",
    "# --- Entraînement du modèle ---\n",
    "print(\"Entraînement du modèle\")\n",
    "model = RandomForestClassifier(\n",
    "    n_estimators=100, class_weight='balanced', random_state=42, n_jobs=-1\n",
    ")\n",
    "model.fit(X_train_final, y_train)\n",
    "print(\"Modèle entraîné.\")\n",
    "\n",
    "# --- Prédiction ---\n",
    "predictions = model.predict(X_to_predict)\n",
    "\n",
    "# Ajouter les prédictions au DataFrame fusionné pour garder une trace\n",
    "predict_df_merged['code_couleur_predit'] = predictions\n",
    "\n",
    "# Ajouter la colonne de prédiction à votre DataFrame original en utilisant la même clé de jointure\n",
    "df_prediction_taux_occupation = pd.merge(\n",
    "    df_prediction_taux_occupation,\n",
    "    predict_df_merged[['heure_arrondie', 'nom_du_troncon', 'code_couleur_predit']],\n",
    "    on=['heure_arrondie', 'nom_du_troncon'],\n",
    "    how='left'\n",
    ")"
   ]
  },
  {
   "cell_type": "markdown",
   "id": "e534427f",
   "metadata": {},
   "source": [
    "## Evaluation"
   ]
  },
  {
   "cell_type": "code",
   "execution_count": null,
   "id": "7c523aed",
   "metadata": {},
   "outputs": [
    {
     "name": "stdout",
     "output_type": "stream",
     "text": [
      "\n",
      "--- Rapport de Classification ---\n",
      "Analyse de la performance pour chaque code couleur :\n",
      "              precision    recall  f1-score   support\n",
      "\n",
      "         3.0       1.00      1.00      1.00    492090\n",
      "         4.0       0.97      0.98      0.98      5396\n",
      "         5.0       0.97      0.96      0.96      2570\n",
      "         6.0       0.97      1.00      0.98      3272\n",
      "\n",
      "    accuracy                           1.00    503328\n",
      "   macro avg       0.98      0.98      0.98    503328\n",
      "weighted avg       1.00      1.00      1.00    503328\n",
      "\n",
      "\n",
      "--- Matrice de Confusion ---\n",
      "Visualisation des erreurs de classification :\n"
     ]
    },
    {
     "data": {
      "image/png": "[encoded data removed]",
      "text/plain": [
       "<Figure size 576x432 with 2 Axes>"
      ]
     },
     "metadata": {
      "needs_background": "light"
     },
     "output_type": "display_data"
    }
   ],
   "source": [
    "\n",
    "# ---  Évaluation détaillée de la performance ---\n",
    "\n",
    "# 1. Définir les vraies valeurs et les valeurs prédites\n",
    "# Les vraies valeurs pour la période de test\n",
    "y_true = predict_df_merged['code_couleur']\n",
    "\n",
    "# Les prédictions que nous venons de faire\n",
    "y_pred = predictions\n",
    "\n",
    "\n",
    "# Générer et afficher le Rapport de Classification\n",
    "print(\"\\n--- Rapport de Classification ---\")\n",
    "print(\"Analyse de la performance pour chaque code couleur :\")\n",
    "print(classification_report(y_true, y_pred))\n",
    "\n",
    "\n",
    "# Matrice de confusion\n",
    "print(\"\\n--- Matrice de Confusion ---\")\n",
    "print(\"Visualisation des erreurs de classification :\")\n",
    "\n",
    "labels = sorted(y_true.astype(int).unique())\n",
    "\n",
    "cm = confusion_matrix(y_true, y_pred, labels=labels)\n",
    "\n",
    "# Affichage \n",
    "plt.figure(figsize=(8, 6)) \n",
    "sns.heatmap(cm, annot=True, fmt='d', cmap='Blues', \n",
    "            xticklabels=labels, yticklabels=labels)\n",
    "plt.title('Matrice de Confusion')\n",
    "plt.ylabel('Vraie classe (Code Couleur Réel)')\n",
    "plt.xlabel('Classe prédite (Code Couleur Prédit)')\n",
    "plt.show()"
   ]
  },
  {
   "cell_type": "markdown",
   "id": "f07bf047",
   "metadata": {},
   "source": [
    "## Test 2 - RandomForest incluant taux_occupation prédit en cible binaire"
   ]
  },
  {
   "cell_type": "markdown",
   "id": "2f0de42c",
   "metadata": {},
   "source": [
    "Prédiction avec un RandomForest sur du binaire (Fluide/non-fluide) incluant la variable temporelle précédemment prédite : taux_occupation"
   ]
  },
  {
   "cell_type": "code",
   "execution_count": null,
   "id": "6652021e",
   "metadata": {},
   "outputs": [
    {
     "name": "stderr",
     "output_type": "stream",
     "text": [
      "<ipython-input-34-b57c2a73591f>:34: SettingWithCopyWarning: \n",
      "A value is trying to be set on a copy of a slice from a DataFrame.\n",
      "Try using .loc[row_indexer,col_indexer] = value instead\n",
      "\n",
      "See the caveats in the documentation: https://pandas.pydata.org/pandas-docs/stable/user_guide/indexing.html#returning-a-view-versus-a-copy\n",
      "  X_train_data['source'] = 'train'\n",
      "<ipython-input-34-b57c2a73591f>:35: SettingWithCopyWarning: \n",
      "A value is trying to be set on a copy of a slice from a DataFrame.\n",
      "Try using .loc[row_indexer,col_indexer] = value instead\n",
      "\n",
      "See the caveats in the documentation: https://pandas.pydata.org/pandas-docs/stable/user_guide/indexing.html#returning-a-view-versus-a-copy\n",
      "  X_pred_data['source'] = 'pred'\n"
     ]
    },
    {
     "name": "stdout",
     "output_type": "stream",
     "text": [
      "Modèle entraîné.\n",
      "\n",
      "--- Rapport de Classification Binaire ---\n",
      "                precision    recall  f1-score   support\n",
      "\n",
      "    Fluide (0)       1.00      1.00      1.00    492090\n",
      "Non Fluide (1)       0.99      1.00      0.99     11238\n",
      "\n",
      "      accuracy                           1.00    503328\n",
      "     macro avg       0.99      1.00      1.00    503328\n",
      "  weighted avg       1.00      1.00      1.00    503328\n",
      "\n",
      "\n",
      "--- Matrice de Confusion Binaire ---\n"
     ]
    },
    {
     "data": {
      "image/png": "[encoded data removed]",
      "text/plain": [
       "<Figure size 432x288 with 2 Axes>"
      ]
     },
     "metadata": {
      "needs_background": "light"
     },
     "output_type": "display_data"
    }
   ],
   "source": [
    "def map_to_binary(code):\n",
    "  if code == 3:\n",
    "    return 0  # Représente 'fluide'\n",
    "  else:\n",
    "    return 1  # Représente 'non fluide' (regroupe 4, 5, et 6)\n",
    "\n",
    "df_global['is_congested'] = df_global['code_couleur'].apply(map_to_binary)\n",
    "\n",
    "# --- Préparation des données ---\n",
    "df_global['heure_arrondie'] = pd.to_datetime(df_global['heure_arrondie'])\n",
    "df_prediction_taux_occupation['heure_arrondie'] = pd.to_datetime(df_prediction_taux_occupation['heure_arrondie'])\n",
    "cutoff_date = pd.to_datetime('2025-03-08')\n",
    "\n",
    "train_df = df_global[df_global['heure_arrondie'] < cutoff_date].copy()\n",
    "predict_base_df = df_global[df_global['heure_arrondie'] >= cutoff_date].copy()\n",
    "\n",
    "feature_cols = ['taux_occupation', 'id', 'weekday', 'hour', 'is_vacances', 'is_ferie', 'has_event_near_troncon']\n",
    "target_col = 'is_congested'\n",
    "\n",
    "# --- Fusion ---\n",
    "predict_df_merged = pd.merge(\n",
    "    predict_base_df,\n",
    "    df_prediction_taux_occupation,\n",
    "    on=['heure_arrondie', 'nom_du_troncon'],\n",
    "    how='inner'\n",
    ")\n",
    "predict_df_merged['taux_occupation'] = predict_df_merged['taux_occupation_pred']\n",
    "predict_df_merged = predict_df_merged.drop(columns=['taux_occupation_pred'])\n",
    "\n",
    "\n",
    "# --- Encodage ---\n",
    "X_train_data = train_df[feature_cols]\n",
    "X_pred_data = predict_df_merged[feature_cols]\n",
    "X_train_data['source'] = 'train'\n",
    "X_pred_data['source'] = 'pred'\n",
    "combined_df = pd.concat([X_train_data, X_pred_data], ignore_index=True)\n",
    "categorical_cols = ['id', 'hour', 'weekday']\n",
    "combined_df_encoded = pd.get_dummies(combined_df, columns=categorical_cols, dtype=int)\n",
    "X_train_final = combined_df_encoded[combined_df_encoded['source'] == 'train'].drop(columns=['source'])\n",
    "X_to_predict = combined_df_encoded[combined_df_encoded['source'] == 'pred'].drop(columns=['source'])\n",
    "y_train = train_df[target_col] \n",
    "X_to_predict = X_to_predict[X_train_final.columns]\n",
    "\n",
    "\n",
    "# --- Entraînement  ---\n",
    "model = RandomForestClassifier(\n",
    "    n_estimators=100,\n",
    "    class_weight='balanced', \n",
    "    random_state=42,\n",
    "    n_jobs=-1\n",
    ")\n",
    "model.fit(X_train_final, y_train)\n",
    "print(\"Modèle entraîné.\")\n",
    "\n",
    "\n",
    "# --- Prédiction  ---\n",
    "\n",
    "predictions_binary = model.predict(X_to_predict)\n",
    "\n",
    "# Ajouter la prédiction binaire (0 ou 1)\n",
    "df_prediction_taux_occupation['is_congested_predit'] = predictions_binary\n",
    "\n",
    "# Ajouter une colonne avec des labels clairs pour une meilleure lisibilité\n",
    "df_prediction_taux_occupation['etat_trafic_predit'] = np.where(predictions_binary == 1, 'Non Fluide', 'Fluide')\n",
    "\n",
    "\n",
    "# --- 7. Évaluation du modèle binaire ---\n",
    "y_true_binary = predict_df_merged['is_congested']\n",
    "print(\"\\n--- Rapport de Classification Binaire ---\")\n",
    "target_names = ['Fluide (0)', 'Non Fluide (1)']\n",
    "print(classification_report(y_true_binary, predictions_binary, target_names=target_names))\n",
    "\n",
    "print(\"\\n--- Matrice de Confusion Binaire ---\")\n",
    "cm = confusion_matrix(y_true_binary, predictions_binary)\n",
    "sns.heatmap(cm, annot=True, fmt='d', cmap='Greens', xticklabels=target_names, yticklabels=target_names)\n",
    "plt.title('Matrice de Confusion')\n",
    "plt.ylabel('Vraie classe')\n",
    "plt.xlabel('Classe prédite')\n",
    "plt.show()"
   ]
  },
  {
   "cell_type": "markdown",
   "id": "4dfb8fe4",
   "metadata": {},
   "source": [
    "## Test 3 : Méthode sans machine Learning : application d'un 'seuil' de classification par troncon en fonction tu taux d'occupation median passé. Cible multiclasse"
   ]
  },
  {
   "cell_type": "code",
   "execution_count": null,
   "id": "05219175",
   "metadata": {},
   "outputs": [
    {
     "name": "stdout",
     "output_type": "stream",
     "text": [
      "Prédictions multi-classe par seuils terminées.\n",
      "\n",
      "--- Rapport de Classification (Modèle par Seuils Multi-Classe) ---\n",
      "              precision    recall  f1-score   support\n",
      "\n",
      "         3.0       1.00      0.99      0.99    492090\n",
      "         4.0       0.41      0.99      0.58      5396\n",
      "         5.0       0.66      0.77      0.71      2570\n",
      "         6.0       1.00      0.68      0.81      3272\n",
      "\n",
      "    accuracy                           0.98    503328\n",
      "   macro avg       0.77      0.86      0.77    503328\n",
      "weighted avg       0.99      0.98      0.99    503328\n",
      "\n",
      "\n",
      "--- Matrice de Confusion (Modèle par Seuils Multi-Classe) ---\n"
     ]
    },
    {
     "data": {
      "image/png": "[encoded data removed]",
      "text/plain": [
       "<Figure size 576x432 with 2 Axes>"
      ]
     },
     "metadata": {
      "needs_background": "light"
     },
     "output_type": "display_data"
    }
   ],
   "source": [
    "# --- Préparation des données ---\n",
    "df_global['heure_arrondie'] = pd.to_datetime(df_global['heure_arrondie'])\n",
    "df_prediction_taux_occupation = pd.DataFrame({\n",
    "    'heure_arrondie': df_global[df_global['heure_arrondie'] >= '2025-03-08']['heure_arrondie'],\n",
    "    'nom_du_troncon': df_global[df_global['heure_arrondie'] >= '2025-03-08']['nom_du_troncon'],\n",
    "    'taux_occupation_pred': df_global[df_global['heure_arrondie'] >= '2025-03-08']['taux_occupation'] * np.random.uniform(0.9, 1.1)\n",
    "})\n",
    "cutoff_date = pd.to_datetime('2025-03-08')\n",
    "train_df = df_global[df_global['heure_arrondie'] < cutoff_date].copy()\n",
    "predict_base_df = df_global[df_global['heure_arrondie'] >= cutoff_date].copy()\n",
    "\n",
    "\n",
    "# --- Calcul des seuils médians par tronçon ET par code couleur ---\n",
    "seuils_par_troncon = train_df.groupby(['id', 'code_couleur'])['taux_occupation'].median().reset_index()\n",
    "seuils_par_troncon.rename(columns={'taux_occupation': 'seuil_median_occupation'}, inplace=True)\n",
    "\n",
    "\n",
    "# --- Prédiction basée sur les seuils multi-classe ---\n",
    "predict_df_merged = pd.merge(\n",
    "    predict_base_df,\n",
    "    df_prediction_taux_occupation,\n",
    "    on=['heure_arrondie', 'nom_du_troncon'],\n",
    "    how='inner'\n",
    ")\n",
    "\n",
    "def predict_with_thresholds_multiclass(row, seuils_df):\n",
    "    taux_pred = row['taux_occupation_pred']\n",
    "    troncon_id = row['id']\n",
    "    \n",
    "    seuils_troncon = seuils_df[seuils_df['id'] == troncon_id]\n",
    "    \n",
    "    if seuils_troncon.empty:\n",
    "        return 3 # On prédit 'fluide' par défaut si le tronçon est inconnu\n",
    "    \n",
    "    distances = (seuils_troncon['seuil_median_occupation'] - taux_pred).abs()\n",
    "    closest_idx = distances.idxmin()\n",
    "    \n",
    "    return seuils_troncon.loc[closest_idx, 'code_couleur'] # On retourne le 'code_couleur' du seuil le plus proche\n",
    "\n",
    "predictions = predict_df_merged.apply(predict_with_thresholds_multiclass, axis=1, args=(seuils_par_troncon,))\n",
    "print(\"Prédictions multi-classe par seuils terminées.\")\n",
    "\n",
    "\n",
    "# --- Évaluation de la solution ---\n",
    "y_true = predict_df_merged['code_couleur']\n",
    "y_pred = predictions\n",
    "\n",
    "print(\"\\n--- Rapport de Classification (Modèle par Seuils Multi-Classe) ---\")\n",
    "print(classification_report(y_true, y_pred))\n",
    "\n",
    "print(\"\\n--- Matrice de Confusion (Modèle par Seuils Multi-Classe) ---\")\n",
    "labels = sorted(y_true.unique())\n",
    "cm = confusion_matrix(y_true, y_pred, labels=labels)\n",
    "plt.figure(figsize=(8, 6))\n",
    "sns.heatmap(cm, annot=True, fmt='d', cmap='Oranges', xticklabels=labels, yticklabels=labels)\n",
    "plt.title('Matrice de Confusion (Modèle par Seuils Multi-Classe)')\n",
    "plt.ylabel('Vraie classe')\n",
    "plt.xlabel('Classe prédite')\n",
    "plt.show()"
   ]
  },
  {
   "cell_type": "markdown",
   "id": "fa1daab5",
   "metadata": {},
   "source": [
    "## Test 4 : Méthode sans machine Learning : application d'un 'seuil' de classification par troncon en fonction tu taux d'occupation median passé. Cible binaire : Fluide/non fluide"
   ]
  },
  {
   "cell_type": "code",
   "execution_count": null,
   "id": "7d3a042d",
   "metadata": {},
   "outputs": [
    {
     "name": "stdout",
     "output_type": "stream",
     "text": [
      "\n",
      "## Étape 4: Application de la logique de prédiction par seuils ##\n",
      "Prédictions binaires par seuils terminées.\n",
      "\n",
      "## Étape 5: Évaluation du modèle de référence binaire ##\n",
      "\n",
      "--- Rapport de Classification (Modèle par Seuils Binaire) ---\n",
      "                precision    recall  f1-score   support\n",
      "\n",
      "    Fluide (0)       1.00      0.98      0.99    492090\n",
      "Non Fluide (1)       0.57      0.98      0.72     11238\n",
      "\n",
      "      accuracy                           0.98    503328\n",
      "     macro avg       0.78      0.98      0.86    503328\n",
      "  weighted avg       0.99      0.98      0.99    503328\n",
      "\n",
      "\n",
      "--- Matrice de Confusion (Modèle par Seuils Binaire) ---\n"
     ]
    },
    {
     "data": {
      "image/png": "[encoded data removed]",
      "text/plain": [
       "<Figure size 576x432 with 2 Axes>"
      ]
     },
     "metadata": {
      "needs_background": "light"
     },
     "output_type": "display_data"
    }
   ],
   "source": [
    "# --- Transformation du problème en binaire ---\n",
    "df_global['is_congested'] = df_global['code_couleur'].apply(lambda code: 0 if code == 3 else 1)\n",
    "\n",
    "\n",
    "# --- Préparation des données ---\n",
    "df_global['heure_arrondie'] = pd.to_datetime(df_global['heure_arrondie'])\n",
    "df_prediction_taux_occupation = pd.DataFrame({\n",
    "    'heure_arrondie': df_global[df_global['heure_arrondie'] >= '2025-03-08']['heure_arrondie'],\n",
    "    'nom_du_troncon': df_global[df_global['heure_arrondie'] >= '2025-03-08']['nom_du_troncon'],\n",
    "    'taux_occupation_pred': df_global[df_global['heure_arrondie'] >= '2025-03-08']['taux_occupation'] * np.random.uniform(0.9, 1.1)\n",
    "})\n",
    "cutoff_date = pd.to_datetime('2025-03-08')\n",
    "train_df = df_global[df_global['heure_arrondie'] < cutoff_date].copy()\n",
    "predict_base_df = df_global[df_global['heure_arrondie'] >= cutoff_date].copy()\n",
    "\n",
    "\n",
    "# --- Calcul des seuils médians par tronçon ET par CLASSE BINAIRE ---\n",
    "seuils_par_troncon = train_df.groupby(['id', 'is_congested'])['taux_occupation'].median().reset_index()\n",
    "seuils_par_troncon.rename(columns={'taux_occupation': 'seuil_median_occupation'}, inplace=True)\n",
    "\n",
    "\n",
    "# --- Logique de prédiction basée sur les seuils binaires ---\n",
    "predict_df_merged = pd.merge(\n",
    "    predict_base_df,\n",
    "    df_prediction_taux_occupation,\n",
    "    on=['heure_arrondie', 'nom_du_troncon'],\n",
    "    how='inner'\n",
    ")\n",
    "\n",
    "def predict_with_thresholds_binary(row, seuils_df):\n",
    "    taux_pred = row['taux_occupation_pred']\n",
    "    troncon_id = row['id']\n",
    "    \n",
    "    seuils_troncon = seuils_df[seuils_df['id'] == troncon_id]\n",
    "    \n",
    "    if seuils_troncon.empty:\n",
    "        return 0 # On prédit 'fluide' par défaut si le tronçon est inconnu\n",
    "    \n",
    "    distances = (seuils_troncon['seuil_median_occupation'] - taux_pred).abs()\n",
    "    closest_idx = distances.idxmin()\n",
    "  \n",
    "    return seuils_troncon.loc[closest_idx, 'is_congested'] # On retourne la classe binaire 'is_congested' du seuil le plus proche\n",
    "\n",
    "predictions = predict_df_merged.apply(predict_with_thresholds_binary, axis=1, args=(seuils_par_troncon,))\n",
    "predictions.fillna(0, inplace=True) # Remplir les quelques cas non prédits\n",
    "print(\"Prédictions binaires par seuils terminées.\")\n",
    "\n",
    "\n",
    "# --- Évaluation du modèle de référence binaire ---\n",
    "y_true = predict_df_merged['is_congested']\n",
    "y_pred = predictions\n",
    "\n",
    "print(\"\\n--- Rapport de Classification (Modèle par Seuils Binaire) ---\")\n",
    "target_names = ['Fluide (0)', 'Non Fluide (1)']\n",
    "print(classification_report(y_true, y_pred, target_names=target_names))\n",
    "\n",
    "print(\"\\n--- Matrice de Confusion (Modèle par Seuils Binaire) ---\")\n",
    "labels = sorted(y_true.unique())\n",
    "cm = confusion_matrix(y_true, y_pred, labels=labels)\n",
    "plt.figure(figsize=(8, 6))\n",
    "sns.heatmap(cm, annot=True, fmt='d', cmap='Oranges', xticklabels=target_names, yticklabels=target_names)\n",
    "plt.title('Matrice de Confusion (Modèle par Seuils Binaire)')\n",
    "plt.ylabel('Vraie classe')\n",
    "plt.xlabel('Classe prédite')\n",
    "plt.show()"
   ]
  }
 ],
 "metadata": {
  "kernelspec": {
   "display_name": "Projet2",
   "language": "python",
   "name": "python3"
  },
  "language_info": {
   "codemirror_mode": {
    "name": "ipython",
    "version": 3
   },
   "file_extension": ".py",
   "mimetype": "text/x-python",
   "name": "python",
   "nbconvert_exporter": "python",
   "pygments_lexer": "ipython3",
   "version": "3.9.21"
  }
 },
 "nbformat": 4,
 "nbformat_minor": 5
}
