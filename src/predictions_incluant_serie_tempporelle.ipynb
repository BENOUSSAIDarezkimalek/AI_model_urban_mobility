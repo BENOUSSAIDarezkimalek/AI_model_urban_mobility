{
 "cells": [
  {
   "cell_type": "markdown",
   "id": "57eba637",
   "metadata": {},
   "source": [
    "# Import librairies"
   ]
  },
  {
   "cell_type": "code",
   "execution_count": 1,
   "id": "c7b4ec32",
   "metadata": {},
   "outputs": [],
   "source": [
    "import pandas as pd\n",
    "from datetime import date\n",
    "from sklearn.ensemble import RandomForestClassifier\n",
    "import numpy as np\n",
    "from sklearn.metrics import classification_report, confusion_matrix\n",
    "import seaborn as sns\n",
    "import matplotlib.pyplot as plt"
   ]
  },
  {
   "cell_type": "markdown",
   "id": "44e569b1",
   "metadata": {},
   "source": [
    "# Import des datasets"
   ]
  },
  {
   "cell_type": "code",
   "execution_count": 2,
   "id": "e9f8a27c",
   "metadata": {},
   "outputs": [],
   "source": [
    "df_global = pd.read_parquet('/Users/manu/Desktop/SUP/Projet 2/AI_model_urban_mobility/data/df_final_15min_NoNan_20250505.parquet')"
   ]
  },
  {
   "cell_type": "code",
   "execution_count": 3,
   "id": "b5e8f829",
   "metadata": {},
   "outputs": [],
   "source": [
    "df_prediction_taux_occupation = pd.read_csv('/Users/manu/Desktop/SUP/Projet 2/AI_model_urban_mobility/data/donnees_predictions/taux_occupation_predictions.csv')"
   ]
  },
  {
   "cell_type": "markdown",
   "id": "32c76b78",
   "metadata": {},
   "source": [
    "# Test 1 - RandomForest incluant taux_occupation prédit en cible multiclasse"
   ]
  },
  {
   "cell_type": "markdown",
   "id": "3a3745c3",
   "metadata": {},
   "source": [
    "Prédiction avec un RandomForest sur du multiclasse incluant la variable temporelle précédemment prédite taux_occupation"
   ]
  },
  {
   "cell_type": "code",
   "execution_count": 8,
   "id": "699f0a8d",
   "metadata": {},
   "outputs": [
    {
     "name": "stderr",
     "output_type": "stream",
     "text": [
      "<ipython-input-8-7d6ef9ab8072>:37: SettingWithCopyWarning: \n",
      "A value is trying to be set on a copy of a slice from a DataFrame.\n",
      "Try using .loc[row_indexer,col_indexer] = value instead\n",
      "\n",
      "See the caveats in the documentation: https://pandas.pydata.org/pandas-docs/stable/user_guide/indexing.html#returning-a-view-versus-a-copy\n",
      "  X_train_data['source'] = 'train'\n",
      "<ipython-input-8-7d6ef9ab8072>:38: SettingWithCopyWarning: \n",
      "A value is trying to be set on a copy of a slice from a DataFrame.\n",
      "Try using .loc[row_indexer,col_indexer] = value instead\n",
      "\n",
      "See the caveats in the documentation: https://pandas.pydata.org/pandas-docs/stable/user_guide/indexing.html#returning-a-view-versus-a-copy\n",
      "  X_pred_data['source'] = 'pred'\n"
     ]
    },
    {
     "name": "stdout",
     "output_type": "stream",
     "text": [
      "Entraînement du modèle\n",
      "Modèle entraîné.\n"
     ]
    }
   ],
   "source": [
    "# --- Préparation des données ---\n",
    "\n",
    "df_global['heure_arrondie'] = pd.to_datetime(df_global['heure_arrondie'])\n",
    "df_prediction_taux_occupation['heure_arrondie'] = pd.to_datetime(df_prediction_taux_occupation['heure_arrondie'])\n",
    "cutoff_date = pd.to_datetime('2025-03-08')\n",
    "\n",
    "train_df = df_global[df_global['heure_arrondie'] < cutoff_date].copy()\n",
    "predict_base_df = df_global[df_global['heure_arrondie'] >= cutoff_date].copy()\n",
    "\n",
    "# Selection des variables explicatives\n",
    "feature_cols = ['taux_occupation', 'id', 'weekday', 'hour', 'is_vacances', 'is_ferie', 'has_event_near_troncon']\n",
    "target_col = 'code_couleur'\n",
    "\n",
    "\n",
    "# --- Fusion des données ---\n",
    "\n",
    "# Objectif : retrouver les features correspondant aux prédictions\n",
    "# On utilise 'nom_du_troncon' et 'heure_arrondie' pour lier la prédiction du LSTM aux données de contexte de df_global\n",
    "predict_df_merged = pd.merge(\n",
    "    predict_base_df,\n",
    "    df_prediction_taux_occupation,\n",
    "    on=['heure_arrondie', 'nom_du_troncon'], \n",
    "    how='inner' \n",
    ")\n",
    "\n",
    "# Remplacer la valeur réelle par la valeur prédite\n",
    "predict_df_merged['taux_occupation'] = predict_df_merged['taux_occupation_pred']\n",
    "# Supprimer la colonne de prédiction pour ne pas la retrouver dans les features\n",
    "predict_df_merged = predict_df_merged.drop(columns=['taux_occupation_pred'])\n",
    "\n",
    "# --- Encodage uniforme ---\n",
    "X_train_data = train_df[feature_cols]\n",
    "# On prend les mêmes colonnes du df fusionné\n",
    "X_pred_data = predict_df_merged[feature_cols]\n",
    "\n",
    "# Combinaison pour encodage robuste\n",
    "X_train_data['source'] = 'train'\n",
    "X_pred_data['source'] = 'pred'\n",
    "combined_df = pd.concat([X_train_data, X_pred_data], ignore_index=True)\n",
    "\n",
    "categorical_cols = ['id', 'hour', 'weekday']\n",
    "combined_df_encoded = pd.get_dummies(combined_df, columns=categorical_cols, dtype=int)\n",
    "\n",
    "X_train_final = combined_df_encoded[combined_df_encoded['source'] == 'train'].drop(columns=['source'])\n",
    "X_to_predict = combined_df_encoded[combined_df_encoded['source'] == 'pred'].drop(columns=['source'])\n",
    "y_train = train_df[target_col]\n",
    "X_to_predict = X_to_predict[X_train_final.columns]\n",
    "\n",
    "# --- Entraînement du modèle ---\n",
    "print(\"Entraînement du modèle\")\n",
    "model = RandomForestClassifier(\n",
    "    n_estimators=100, class_weight='balanced', random_state=42, n_jobs=-1\n",
    ")\n",
    "model.fit(X_train_final, y_train)\n",
    "print(\"Modèle entraîné.\")\n",
    "\n",
    "# --- Prédiction ---\n",
    "predictions = model.predict(X_to_predict)\n",
    "\n",
    "# Ajouter les prédictions au DataFrame fusionné pour garder une trace\n",
    "predict_df_merged['code_couleur_predit'] = predictions\n",
    "\n",
    "# Ajouter la colonne de prédiction à votre DataFrame original en utilisant la même clé de jointure\n",
    "df_prediction_taux_occupation = pd.merge(\n",
    "    df_prediction_taux_occupation,\n",
    "    predict_df_merged[['heure_arrondie', 'nom_du_troncon', 'code_couleur_predit']],\n",
    "    on=['heure_arrondie', 'nom_du_troncon'],\n",
    "    how='left'\n",
    ")"
   ]
  },
  {
   "cell_type": "markdown",
   "id": "e534427f",
   "metadata": {},
   "source": [
    "## Evaluation"
   ]
  },
  {
   "cell_type": "code",
   "execution_count": 9,
   "id": "7c523aed",
   "metadata": {},
   "outputs": [
    {
     "name": "stdout",
     "output_type": "stream",
     "text": [
      "\n",
      "--- Rapport de Classification ---\n",
      "Analyse de la performance pour chaque code couleur :\n"
     ]
    },
    {
     "name": "stderr",
     "output_type": "stream",
     "text": [
      "/Users/manu/opt/anaconda3/envs/Projet2/lib/python3.9/site-packages/sklearn/metrics/_classification.py:1565: UndefinedMetricWarning: Precision is ill-defined and being set to 0.0 in labels with no predicted samples. Use `zero_division` parameter to control this behavior.\n",
      "  _warn_prf(average, modifier, f\"{metric.capitalize()} is\", len(result))\n",
      "/Users/manu/opt/anaconda3/envs/Projet2/lib/python3.9/site-packages/sklearn/metrics/_classification.py:1565: UndefinedMetricWarning: Precision is ill-defined and being set to 0.0 in labels with no predicted samples. Use `zero_division` parameter to control this behavior.\n",
      "  _warn_prf(average, modifier, f\"{metric.capitalize()} is\", len(result))\n",
      "/Users/manu/opt/anaconda3/envs/Projet2/lib/python3.9/site-packages/sklearn/metrics/_classification.py:1565: UndefinedMetricWarning: Precision is ill-defined and being set to 0.0 in labels with no predicted samples. Use `zero_division` parameter to control this behavior.\n",
      "  _warn_prf(average, modifier, f\"{metric.capitalize()} is\", len(result))\n"
     ]
    },
    {
     "name": "stdout",
     "output_type": "stream",
     "text": [
      "              precision    recall  f1-score   support\n",
      "\n",
      "         3.0       0.98      1.00      0.99    422099\n",
      "         4.0       0.00      0.00      0.00      4501\n",
      "         5.0       0.00      0.00      0.00      2139\n",
      "         6.0       0.00      0.00      0.00      2685\n",
      "\n",
      "    accuracy                           0.98    431424\n",
      "   macro avg       0.24      0.25      0.25    431424\n",
      "weighted avg       0.96      0.98      0.97    431424\n",
      "\n",
      "\n",
      "--- Matrice de Confusion ---\n",
      "Visualisation des erreurs de classification :\n"
     ]
    },
    {
     "data": {
      "image/png": "[encoded data removed]",
      "text/plain": [
       "<Figure size 576x432 with 2 Axes>"
      ]
     },
     "metadata": {
      "needs_background": "light"
     },
     "output_type": "display_data"
    }
   ],
   "source": [
    "\n",
    "# ---  Évaluation détaillée de la performance ---\n",
    "\n",
    "# 1. Définir les vraies valeurs et les valeurs prédites\n",
    "# Les vraies valeurs pour la période de test\n",
    "y_true = predict_df_merged['code_couleur']\n",
    "\n",
    "# Les prédictions que nous venons de faire\n",
    "y_pred = predictions\n",
    "\n",
    "\n",
    "# Générer et afficher le Rapport de Classification\n",
    "print(\"\\n--- Rapport de Classification ---\")\n",
    "print(\"Analyse de la performance pour chaque code couleur :\")\n",
    "print(classification_report(y_true, y_pred))\n",
    "\n",
    "\n",
    "# Matrice de confusion\n",
    "print(\"\\n--- Matrice de Confusion ---\")\n",
    "print(\"Visualisation des erreurs de classification :\")\n",
    "\n",
    "labels = sorted(y_true.astype(int).unique())\n",
    "\n",
    "cm = confusion_matrix(y_true, y_pred, labels=labels)\n",
    "\n",
    "# Affichage \n",
    "plt.figure(figsize=(8, 6)) \n",
    "sns.heatmap(cm, annot=True, fmt='d', cmap='Blues', \n",
    "            xticklabels=labels, yticklabels=labels)\n",
    "plt.title('Matrice de Confusion')\n",
    "plt.ylabel('Vraie classe (Code Couleur Réel)')\n",
    "plt.xlabel('Classe prédite (Code Couleur Prédit)')\n",
    "plt.show()"
   ]
  },
  {
   "cell_type": "markdown",
   "id": "f07bf047",
   "metadata": {},
   "source": [
    "## Test 2 - RandomForest incluant taux_occupation prédit en cible binaire"
   ]
  },
  {
   "cell_type": "markdown",
   "id": "2f0de42c",
   "metadata": {},
   "source": [
    "Prédiction avec un RandomForest sur du binaire (Fluide/non-fluide) incluant la variable temporelle précédemment prédite : taux_occupation"
   ]
  },
  {
   "cell_type": "code",
   "execution_count": 4,
   "id": "6652021e",
   "metadata": {},
   "outputs": [
    {
     "name": "stderr",
     "output_type": "stream",
     "text": [
      "<ipython-input-4-b57c2a73591f>:34: SettingWithCopyWarning: \n",
      "A value is trying to be set on a copy of a slice from a DataFrame.\n",
      "Try using .loc[row_indexer,col_indexer] = value instead\n",
      "\n",
      "See the caveats in the documentation: https://pandas.pydata.org/pandas-docs/stable/user_guide/indexing.html#returning-a-view-versus-a-copy\n",
      "  X_train_data['source'] = 'train'\n",
      "<ipython-input-4-b57c2a73591f>:35: SettingWithCopyWarning: \n",
      "A value is trying to be set on a copy of a slice from a DataFrame.\n",
      "Try using .loc[row_indexer,col_indexer] = value instead\n",
      "\n",
      "See the caveats in the documentation: https://pandas.pydata.org/pandas-docs/stable/user_guide/indexing.html#returning-a-view-versus-a-copy\n",
      "  X_pred_data['source'] = 'pred'\n"
     ]
    },
    {
     "name": "stdout",
     "output_type": "stream",
     "text": [
      "Modèle entraîné.\n",
      "\n",
      "--- Rapport de Classification Binaire ---\n"
     ]
    },
    {
     "name": "stderr",
     "output_type": "stream",
     "text": [
      "/Users/manu/opt/anaconda3/envs/Projet2/lib/python3.9/site-packages/sklearn/metrics/_classification.py:1565: UndefinedMetricWarning: Precision is ill-defined and being set to 0.0 in labels with no predicted samples. Use `zero_division` parameter to control this behavior.\n",
      "  _warn_prf(average, modifier, f\"{metric.capitalize()} is\", len(result))\n",
      "/Users/manu/opt/anaconda3/envs/Projet2/lib/python3.9/site-packages/sklearn/metrics/_classification.py:1565: UndefinedMetricWarning: Precision is ill-defined and being set to 0.0 in labels with no predicted samples. Use `zero_division` parameter to control this behavior.\n",
      "  _warn_prf(average, modifier, f\"{metric.capitalize()} is\", len(result))\n",
      "/Users/manu/opt/anaconda3/envs/Projet2/lib/python3.9/site-packages/sklearn/metrics/_classification.py:1565: UndefinedMetricWarning: Precision is ill-defined and being set to 0.0 in labels with no predicted samples. Use `zero_division` parameter to control this behavior.\n",
      "  _warn_prf(average, modifier, f\"{metric.capitalize()} is\", len(result))\n"
     ]
    },
    {
     "name": "stdout",
     "output_type": "stream",
     "text": [
      "                precision    recall  f1-score   support\n",
      "\n",
      "    Fluide (0)       0.98      1.00      0.99    422099\n",
      "Non Fluide (1)       0.00      0.00      0.00      9325\n",
      "\n",
      "      accuracy                           0.98    431424\n",
      "     macro avg       0.49      0.50      0.49    431424\n",
      "  weighted avg       0.96      0.98      0.97    431424\n",
      "\n",
      "\n",
      "--- Matrice de Confusion Binaire ---\n"
     ]
    },
    {
     "data": {
      "image/png": "[encoded data removed]",
      "text/plain": [
       "<Figure size 432x288 with 2 Axes>"
      ]
     },
     "metadata": {
      "needs_background": "light"
     },
     "output_type": "display_data"
    }
   ],
   "source": [
    "def map_to_binary(code):\n",
    "  if code == 3:\n",
    "    return 0  # Représente 'fluide'\n",
    "  else:\n",
    "    return 1  # Représente 'non fluide' (regroupe 4, 5, et 6)\n",
    "\n",
    "df_global['is_congested'] = df_global['code_couleur'].apply(map_to_binary)\n",
    "\n",
    "# --- Préparation des données ---\n",
    "df_global['heure_arrondie'] = pd.to_datetime(df_global['heure_arrondie'])\n",
    "df_prediction_taux_occupation['heure_arrondie'] = pd.to_datetime(df_prediction_taux_occupation['heure_arrondie'])\n",
    "cutoff_date = pd.to_datetime('2025-03-08')\n",
    "\n",
    "train_df = df_global[df_global['heure_arrondie'] < cutoff_date].copy()\n",
    "predict_base_df = df_global[df_global['heure_arrondie'] >= cutoff_date].copy()\n",
    "\n",
    "feature_cols = ['taux_occupation', 'id', 'weekday', 'hour', 'is_vacances', 'is_ferie', 'has_event_near_troncon']\n",
    "target_col = 'is_congested'\n",
    "\n",
    "# --- Fusion ---\n",
    "predict_df_merged = pd.merge(\n",
    "    predict_base_df,\n",
    "    df_prediction_taux_occupation,\n",
    "    on=['heure_arrondie', 'nom_du_troncon'],\n",
    "    how='inner'\n",
    ")\n",
    "predict_df_merged['taux_occupation'] = predict_df_merged['taux_occupation_pred']\n",
    "predict_df_merged = predict_df_merged.drop(columns=['taux_occupation_pred'])\n",
    "\n",
    "\n",
    "# --- Encodage ---\n",
    "X_train_data = train_df[feature_cols]\n",
    "X_pred_data = predict_df_merged[feature_cols]\n",
    "X_train_data['source'] = 'train'\n",
    "X_pred_data['source'] = 'pred'\n",
    "combined_df = pd.concat([X_train_data, X_pred_data], ignore_index=True)\n",
    "categorical_cols = ['id', 'hour', 'weekday']\n",
    "combined_df_encoded = pd.get_dummies(combined_df, columns=categorical_cols, dtype=int)\n",
    "X_train_final = combined_df_encoded[combined_df_encoded['source'] == 'train'].drop(columns=['source'])\n",
    "X_to_predict = combined_df_encoded[combined_df_encoded['source'] == 'pred'].drop(columns=['source'])\n",
    "y_train = train_df[target_col] \n",
    "X_to_predict = X_to_predict[X_train_final.columns]\n",
    "\n",
    "\n",
    "# --- Entraînement  ---\n",
    "model = RandomForestClassifier(\n",
    "    n_estimators=100,\n",
    "    class_weight='balanced', \n",
    "    random_state=42,\n",
    "    n_jobs=-1\n",
    ")\n",
    "model.fit(X_train_final, y_train)\n",
    "print(\"Modèle entraîné.\")\n",
    "\n",
    "\n",
    "# --- Prédiction  ---\n",
    "\n",
    "predictions_binary = model.predict(X_to_predict)\n",
    "\n",
    "# Ajouter la prédiction binaire (0 ou 1)\n",
    "df_prediction_taux_occupation['is_congested_predit'] = predictions_binary\n",
    "\n",
    "# Ajouter une colonne avec des labels clairs pour une meilleure lisibilité\n",
    "df_prediction_taux_occupation['etat_trafic_predit'] = np.where(predictions_binary == 1, 'Non Fluide', 'Fluide')\n",
    "\n",
    "\n",
    "# --- 7. Évaluation du modèle binaire ---\n",
    "y_true_binary = predict_df_merged['is_congested']\n",
    "print(\"\\n--- Rapport de Classification Binaire ---\")\n",
    "target_names = ['Fluide (0)', 'Non Fluide (1)']\n",
    "print(classification_report(y_true_binary, predictions_binary, target_names=target_names))\n",
    "\n",
    "print(\"\\n--- Matrice de Confusion Binaire ---\")\n",
    "cm = confusion_matrix(y_true_binary, predictions_binary)\n",
    "sns.heatmap(cm, annot=True, fmt='d', cmap='Greens', xticklabels=target_names, yticklabels=target_names)\n",
    "plt.title('Matrice de Confusion')\n",
    "plt.ylabel('Vraie classe')\n",
    "plt.xlabel('Classe prédite')\n",
    "plt.show()"
   ]
  },
  {
   "cell_type": "markdown",
   "id": "4dfb8fe4",
   "metadata": {},
   "source": [
    "## Test 3 : Méthode sans machine Learning : application d'un 'seuil' de classification par troncon en fonction tu taux d'occupation median passé. Cible multiclasse"
   ]
  },
  {
   "cell_type": "code",
   "execution_count": 8,
   "id": "05219175",
   "metadata": {},
   "outputs": [
    {
     "name": "stdout",
     "output_type": "stream",
     "text": [
      "Prédictions multi-classe par seuils terminées.\n",
      "\n",
      "--- Rapport de Classification (Modèle par Seuils Multi-Classe) ---\n",
      "              precision    recall  f1-score   support\n",
      "\n",
      "         3.0       1.00      0.99      0.99    492090\n",
      "         4.0       0.42      0.99      0.59      5396\n",
      "         5.0       0.63      0.73      0.68      2570\n",
      "         6.0       1.00      0.67      0.80      3272\n",
      "\n",
      "    accuracy                           0.98    503328\n",
      "   macro avg       0.76      0.84      0.76    503328\n",
      "weighted avg       0.99      0.98      0.99    503328\n",
      "\n",
      "\n",
      "--- Matrice de Confusion (Modèle par Seuils Multi-Classe) ---\n"
     ]
    },
    {
     "data": {
      "image/png": "[encoded data removed]",
      "text/plain": [
       "<Figure size 576x432 with 2 Axes>"
      ]
     },
     "metadata": {
      "needs_background": "light"
     },
     "output_type": "display_data"
    }
   ],
   "source": [
    "# --- Préparation des données ---\n",
    "df_global['heure_arrondie'] = pd.to_datetime(df_global['heure_arrondie'])\n",
    "df_prediction_taux_occupation['heure_arrondie'] = pd.to_datetime(df_global['heure_arrondie'])\n",
    "\n",
    "cutoff_date = pd.to_datetime('2025-03-08')\n",
    "train_df = df_global[df_global['heure_arrondie'] < cutoff_date].copy()\n",
    "predict_base_df = df_global[df_global['heure_arrondie'] >= cutoff_date].copy()\n",
    "\n",
    "\n",
    "# --- Calcul des seuils médians par tronçon ET par code couleur ---\n",
    "seuils_par_troncon = train_df.groupby(['id', 'code_couleur'])['taux_occupation'].median().reset_index()\n",
    "seuils_par_troncon.rename(columns={'taux_occupation': 'seuil_median_occupation'}, inplace=True)\n",
    "\n",
    "\n",
    "# --- Prédiction basée sur les seuils multi-classe ---\n",
    "predict_df_merged = pd.merge(\n",
    "    predict_base_df,\n",
    "    df_prediction_taux_occupation,\n",
    "    on=['heure_arrondie', 'nom_du_troncon'],\n",
    "    how='inner'\n",
    ")\n",
    "\n",
    "def predict_with_thresholds_multiclass(row, seuils_df):\n",
    "    taux_pred = row['taux_occupation_pred']\n",
    "    troncon_id = row['id']\n",
    "    \n",
    "    seuils_troncon = seuils_df[seuils_df['id'] == troncon_id]\n",
    "    \n",
    "    if seuils_troncon.empty:\n",
    "        return 3 # On prédit 'fluide' par défaut si le tronçon est inconnu\n",
    "    \n",
    "    distances = (seuils_troncon['seuil_median_occupation'] - taux_pred).abs()\n",
    "    closest_idx = distances.idxmin()\n",
    "    \n",
    "    return seuils_troncon.loc[closest_idx, 'code_couleur'] # On retourne le 'code_couleur' du seuil le plus proche\n",
    "\n",
    "predictions = predict_df_merged.apply(predict_with_thresholds_multiclass, axis=1, args=(seuils_par_troncon,))\n",
    "print(\"Prédictions multi-classe par seuils terminées.\")\n",
    "\n",
    "\n",
    "# --- Évaluation de la solution ---\n",
    "y_true = predict_df_merged['code_couleur']\n",
    "y_pred = predictions\n",
    "\n",
    "print(\"\\n--- Rapport de Classification (Modèle par Seuils Multi-Classe) ---\")\n",
    "print(classification_report(y_true, y_pred))\n",
    "\n",
    "print(\"\\n--- Matrice de Confusion (Modèle par Seuils Multi-Classe) ---\")\n",
    "labels = sorted(y_true.unique())\n",
    "cm = confusion_matrix(y_true, y_pred, labels=labels)\n",
    "plt.figure(figsize=(8, 6))\n",
    "sns.heatmap(cm, annot=True, fmt='d', cmap='Oranges', xticklabels=labels, yticklabels=labels)\n",
    "plt.title('Matrice de Confusion (Modèle par Seuils Multi-Classe)')\n",
    "plt.ylabel('Vraie classe')\n",
    "plt.xlabel('Classe prédite')\n",
    "plt.show()"
   ]
  },
  {
   "cell_type": "markdown",
   "id": "fa1daab5",
   "metadata": {},
   "source": [
    "## Test 4 : Méthode sans machine Learning : application d'un 'seuil' de classification par troncon en fonction tu taux d'occupation median passé. Cible binaire : Fluide/non fluide"
   ]
  },
  {
   "cell_type": "code",
   "execution_count": 9,
   "id": "f30e15b0",
   "metadata": {},
   "outputs": [
    {
     "name": "stdout",
     "output_type": "stream",
     "text": [
      "## Étape 1: Transformation en problème binaire à partir de 'etat_du_trafic' ##\n",
      "Distribution de la nouvelle cible binaire sur df_global:\n",
      "is_not_fluid\n",
      "0    1836582\n",
      "1      44157\n",
      "Name: count, dtype: int64\n",
      "\n",
      "## Étape 2: Calcul des seuils médians par tronçon ##\n",
      "Table des seuils binaires calculée.\n",
      "\n",
      "## Étape 3: Application de la logique de prédiction par seuils ##\n",
      "\n",
      "## Étape 4: Évaluation du modèle de référence binaire ##\n",
      "\n",
      "--- Rapport de Classification (Modèle par Seuils Binaire) ---\n",
      "                precision    recall  f1-score   support\n",
      "\n",
      "    Fluide (0)       0.98      1.00      0.99    861646\n",
      "Non Fluide (1)       1.00      0.00      0.00     19058\n",
      "\n",
      "      accuracy                           0.98    880704\n",
      "     macro avg       0.99      0.50      0.49    880704\n",
      "  weighted avg       0.98      0.98      0.97    880704\n",
      "\n",
      "\n",
      "--- Matrice de Confusion (Modèle par Seuils Binaire) ---\n"
     ]
    },
    {
     "data": {
      "image/png": "[encoded data removed]",
      "text/plain": [
       "<Figure size 576x432 with 2 Axes>"
      ]
     },
     "metadata": {
      "needs_background": "light"
     },
     "output_type": "display_data"
    }
   ],
   "source": [
    "# --- ÉTAPE 1: Transformation du problème en binaire ---\n",
    "print(\"## Étape 1: Transformation en problème binaire à partir de 'etat_du_trafic' ##\")\n",
    "\n",
    "def map_to_binary_from_etat(etat):\n",
    "  if etat == 'Fluide':\n",
    "    return 0  # Représente 'fluide'\n",
    "  else:\n",
    "    return 1  # Représente 'non fluide'\n",
    "\n",
    "df_global['is_not_fluid'] = df_global['etat_du_trafic'].apply(map_to_binary_from_etat)\n",
    "print(\"Distribution de la nouvelle cible binaire sur df_global:\")\n",
    "print(df_global['is_not_fluid'].value_counts())\n",
    "\n",
    "\n",
    "# --- ÉTAPE 2: Préparation des données et calcul des seuils ---\n",
    "print(\"\\n## Étape 2: Calcul des seuils médians par tronçon ##\")\n",
    "cutoff_date = pd.to_datetime('2025-03-08')\n",
    "train_df = df_global[df_global['heure_arrondie'] < cutoff_date].copy()\n",
    "\n",
    "# Calculer les seuils basés sur la nouvelle colonne binaire\n",
    "seuils_par_troncon = train_df.groupby(['id', 'is_not_fluid'])['taux_occupation'].median().reset_index()\n",
    "seuils_par_troncon.rename(columns={'taux_occupation': 'seuil_median_occupation'}, inplace=True)\n",
    "print(\"Table des seuils binaires calculée.\")\n",
    "\n",
    "\n",
    "# --- ÉTAPE 3: Prédiction basée sur les seuils ---\n",
    "print(\"\\n## Étape 3: Application de la logique de prédiction par seuils ##\")\n",
    "\n",
    "# Il faut l'id du tronçon dans le dataframe de prédiction, on le récupère de df_global\n",
    "df_prediction_with_id = pd.merge(\n",
    "    df_prediction_taux_occupation,\n",
    "    df_global[['nom_du_troncon', 'id']].drop_duplicates(),\n",
    "    on='nom_du_troncon',\n",
    "    how='left'\n",
    ")\n",
    "\n",
    "# Fonction qui applique la logique de prédiction pour une seule ligne\n",
    "def predict_with_thresholds_binary(row, seuils_df):\n",
    "    taux_pred = row['taux_occupation_pred']\n",
    "    troncon_id = row['id']\n",
    "    \n",
    "    seuils_troncon = seuils_df[seuils_df['id'] == troncon_id]\n",
    "    \n",
    "    if seuils_troncon.empty:\n",
    "        return 0 # On prédit 'fluide' par défaut si le tronçon est inconnu\n",
    "    \n",
    "    # Calculer la distance entre le taux prédit et chaque seuil\n",
    "    distances = (seuils_troncon['seuil_median_occupation'] - taux_pred).abs()\n",
    "    \n",
    "    # Trouver l'index du seuil le plus proche\n",
    "    closest_idx = distances.idxmin()\n",
    "    \n",
    "    # Retourner la classe binaire du seuil le plus proche\n",
    "    return seuils_troncon.loc[closest_idx, 'is_not_fluid']\n",
    "\n",
    "# Appliquer la fonction pour obtenir les prédictions\n",
    "predictions = df_prediction_with_id.apply(predict_with_thresholds_binary, axis=1, args=(seuils_par_troncon,))\n",
    "df_prediction_with_id['prediction'] = predictions.astype(int)\n",
    "\n",
    "\n",
    "# --- ÉTAPE 4: Évaluation de la solution ---\n",
    "print(\"\\n## Étape 4: Évaluation du modèle de référence binaire ##\")\n",
    "\n",
    "# Pour évaluer, il nous faut la vraie valeur de 'is_not_fluid' pour la période de test\n",
    "# On la récupère depuis df_global\n",
    "y_true_df = df_global[df_global['heure_arrondie'] >= cutoff_date][['heure_arrondie', 'nom_du_troncon', 'is_not_fluid']]\n",
    "evaluation_df = pd.merge(\n",
    "    df_prediction_with_id,\n",
    "    y_true_df,\n",
    "    on=['heure_arrondie', 'nom_du_troncon'],\n",
    "    how='inner'\n",
    ")\n",
    "\n",
    "y_true = evaluation_df['is_not_fluid']\n",
    "y_pred = evaluation_df['prediction']\n",
    "\n",
    "print(\"\\n--- Rapport de Classification (Modèle par Seuils Binaire) ---\")\n",
    "target_names = ['Fluide (0)', 'Non Fluide (1)']\n",
    "print(classification_report(y_true, y_pred, target_names=target_names))\n",
    "\n",
    "print(\"\\n--- Matrice de Confusion (Modèle par Seuils Binaire) ---\")\n",
    "cm = confusion_matrix(y_true, y_pred)\n",
    "plt.figure(figsize=(8, 6))\n",
    "sns.heatmap(cm, annot=True, fmt='d', cmap='Oranges', xticklabels=target_names, yticklabels=target_names)\n",
    "plt.title('Matrice de Confusion (Modèle par Seuils Binaire)')\n",
    "plt.ylabel('Vraie classe')\n",
    "plt.xlabel('Classe prédite')\n",
    "plt.show()"
   ]
  },
  {
   "cell_type": "code",
   "execution_count": 7,
   "id": "75438cdb",
   "metadata": {},
   "outputs": [
    {
     "data": {
      "image/png": "[encoded data removed]",
      "text/plain": [
       "<Figure size 864x576 with 1 Axes>"
      ]
     },
     "metadata": {
      "needs_background": "light"
     },
     "output_type": "display_data"
    }
   ],
   "source": [
    "import seaborn as sns\n",
    "import matplotlib.pyplot as plt\n",
    "\n",
    "plt.figure(figsize=(12, 8))\n",
    "sns.boxplot(x='etat_du_trafic', y='taux_occupation', data=df_global, \n",
    "            order=['Fluide', 'Dense', 'Saturé', 'Bloqué']) # Pour un affichage logique\n",
    "plt.title(\"Distribution du Taux d'Occupation par État du Trafic\")\n",
    "plt.xlabel(\"État du Trafic\")\n",
    "plt.ylabel(\"Taux d'Occupation (%)\")\n",
    "plt.grid(True)\n",
    "plt.show()"
   ]
  },
  {
   "cell_type": "code",
   "execution_count": 8,
   "id": "e95b0a77",
   "metadata": {},
   "outputs": [],
   "source": [
    "def predict_with_simple_rules(taux_occupation):\n",
    "    if taux_occupation < 20:  # Estimé à partir du graphique\n",
    "        return 3 # Fluide\n",
    "    elif taux_occupation < 30: # Estimé à partir du graphique\n",
    "        return 4 # Dense\n",
    "    elif taux_occupation < 45: # Estimé à partir du graphique\n",
    "        return 5 # Saturé\n",
    "    else:\n",
    "        return 6 # Bloqué\n",
    "\n",
    "# Et ensuite l'appliquer à vos données prédites\n",
    "df_prediction_taux_occupation['etat_trafic_predit'] = df_prediction_taux_occupation['taux_occupation_pred'].apply(predict_with_simple_rules)"
   ]
  },
  {
   "cell_type": "code",
   "execution_count": 9,
   "id": "aa05f424",
   "metadata": {},
   "outputs": [
    {
     "data": {
      "text/html": [
       "<div>\n",
       "<style scoped>\n",
       "    .dataframe tbody tr th:only-of-type {\n",
       "        vertical-align: middle;\n",
       "    }\n",
       "\n",
       "    .dataframe tbody tr th {\n",
       "        vertical-align: top;\n",
       "    }\n",
       "\n",
       "    .dataframe thead th {\n",
       "        text-align: right;\n",
       "    }\n",
       "</style>\n",
       "<table border=\"1\" class=\"dataframe\">\n",
       "  <thead>\n",
       "    <tr style=\"text-align: right;\">\n",
       "      <th></th>\n",
       "      <th>heure_arrondie</th>\n",
       "      <th>nom_du_troncon</th>\n",
       "      <th>taux_occupation_reel</th>\n",
       "      <th>taux_occupation_pred</th>\n",
       "      <th>etat_trafic_predit</th>\n",
       "    </tr>\n",
       "  </thead>\n",
       "  <tbody>\n",
       "    <tr>\n",
       "      <th>0</th>\n",
       "      <td>2025-03-08 00:00:00</td>\n",
       "      <td>3 Continents I</td>\n",
       "      <td>-0.109032</td>\n",
       "      <td>-0.102010</td>\n",
       "      <td>3</td>\n",
       "    </tr>\n",
       "    <tr>\n",
       "      <th>1</th>\n",
       "      <td>2025-03-08 00:15:00</td>\n",
       "      <td>3 Continents I</td>\n",
       "      <td>-0.141105</td>\n",
       "      <td>-0.246060</td>\n",
       "      <td>3</td>\n",
       "    </tr>\n",
       "    <tr>\n",
       "      <th>2</th>\n",
       "      <td>2025-03-08 00:30:00</td>\n",
       "      <td>3 Continents I</td>\n",
       "      <td>-0.012810</td>\n",
       "      <td>-0.219238</td>\n",
       "      <td>3</td>\n",
       "    </tr>\n",
       "    <tr>\n",
       "      <th>3</th>\n",
       "      <td>2025-03-08 00:45:00</td>\n",
       "      <td>3 Continents I</td>\n",
       "      <td>-0.269400</td>\n",
       "      <td>-0.123357</td>\n",
       "      <td>3</td>\n",
       "    </tr>\n",
       "    <tr>\n",
       "      <th>4</th>\n",
       "      <td>2025-03-08 01:00:00</td>\n",
       "      <td>3 Continents I</td>\n",
       "      <td>-0.325530</td>\n",
       "      <td>-0.327646</td>\n",
       "      <td>3</td>\n",
       "    </tr>\n",
       "    <tr>\n",
       "      <th>...</th>\n",
       "      <td>...</td>\n",
       "      <td>...</td>\n",
       "      <td>...</td>\n",
       "      <td>...</td>\n",
       "      <td>...</td>\n",
       "    </tr>\n",
       "    <tr>\n",
       "      <th>431419</th>\n",
       "      <td>2025-03-13 22:45:00</td>\n",
       "      <td>Voltaire I1</td>\n",
       "      <td>-0.429769</td>\n",
       "      <td>-0.443231</td>\n",
       "      <td>3</td>\n",
       "    </tr>\n",
       "    <tr>\n",
       "      <th>431420</th>\n",
       "      <td>2025-03-13 23:00:00</td>\n",
       "      <td>Voltaire I1</td>\n",
       "      <td>-0.373640</td>\n",
       "      <td>-0.413999</td>\n",
       "      <td>3</td>\n",
       "    </tr>\n",
       "    <tr>\n",
       "      <th>431421</th>\n",
       "      <td>2025-03-13 23:15:00</td>\n",
       "      <td>Voltaire I1</td>\n",
       "      <td>-0.317511</td>\n",
       "      <td>-0.403318</td>\n",
       "      <td>3</td>\n",
       "    </tr>\n",
       "    <tr>\n",
       "      <th>431422</th>\n",
       "      <td>2025-03-13 23:30:00</td>\n",
       "      <td>Voltaire I1</td>\n",
       "      <td>-0.261382</td>\n",
       "      <td>-0.383616</td>\n",
       "      <td>3</td>\n",
       "    </tr>\n",
       "    <tr>\n",
       "      <th>431423</th>\n",
       "      <td>2025-03-13 23:45:00</td>\n",
       "      <td>Voltaire I1</td>\n",
       "      <td>-0.205253</td>\n",
       "      <td>-0.334003</td>\n",
       "      <td>3</td>\n",
       "    </tr>\n",
       "  </tbody>\n",
       "</table>\n",
       "<p>431424 rows × 5 columns</p>\n",
       "</div>"
      ],
      "text/plain": [
       "             heure_arrondie  nom_du_troncon  taux_occupation_reel  \\\n",
       "0       2025-03-08 00:00:00  3 Continents I             -0.109032   \n",
       "1       2025-03-08 00:15:00  3 Continents I             -0.141105   \n",
       "2       2025-03-08 00:30:00  3 Continents I             -0.012810   \n",
       "3       2025-03-08 00:45:00  3 Continents I             -0.269400   \n",
       "4       2025-03-08 01:00:00  3 Continents I             -0.325530   \n",
       "...                     ...             ...                   ...   \n",
       "431419  2025-03-13 22:45:00     Voltaire I1             -0.429769   \n",
       "431420  2025-03-13 23:00:00     Voltaire I1             -0.373640   \n",
       "431421  2025-03-13 23:15:00     Voltaire I1             -0.317511   \n",
       "431422  2025-03-13 23:30:00     Voltaire I1             -0.261382   \n",
       "431423  2025-03-13 23:45:00     Voltaire I1             -0.205253   \n",
       "\n",
       "        taux_occupation_pred  etat_trafic_predit  \n",
       "0                  -0.102010                   3  \n",
       "1                  -0.246060                   3  \n",
       "2                  -0.219238                   3  \n",
       "3                  -0.123357                   3  \n",
       "4                  -0.327646                   3  \n",
       "...                      ...                 ...  \n",
       "431419             -0.443231                   3  \n",
       "431420             -0.413999                   3  \n",
       "431421             -0.403318                   3  \n",
       "431422             -0.383616                   3  \n",
       "431423             -0.334003                   3  \n",
       "\n",
       "[431424 rows x 5 columns]"
      ]
     },
     "execution_count": 9,
     "metadata": {},
     "output_type": "execute_result"
    }
   ],
   "source": [
    "df_prediction_taux_occupation"
   ]
  }
 ],
 "metadata": {
  "kernelspec": {
   "display_name": "Projet2",
   "language": "python",
   "name": "python3"
  },
  "language_info": {
   "codemirror_mode": {
    "name": "ipython",
    "version": 3
   },
   "file_extension": ".py",
   "mimetype": "text/x-python",
   "name": "python",
   "nbconvert_exporter": "python",
   "pygments_lexer": "ipython3",
   "version": "3.9.21"
  }
 },
 "nbformat": 4,
 "nbformat_minor": 5
}
