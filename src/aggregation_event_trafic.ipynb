{
 "cells": [
  {
   "cell_type": "markdown",
   "metadata": {},
   "source": [
    "# Import librairies"
   ]
  },
  {
   "cell_type": "code",
   "execution_count": 256,
   "metadata": {},
   "outputs": [],
   "source": [
    "import geopandas as gpd\n",
    "from shapely.geometry import Point, LineString\n",
    "import folium"
   ]
  },
  {
   "cell_type": "code",
   "execution_count": 257,
   "metadata": {},
   "outputs": [],
   "source": [
    "from modules.connecting_to_bdd import fetch_table_from_trafic_db\n",
    "from modules.geodata import convert_to_linestring, has_close_event"
   ]
  },
  {
   "cell_type": "markdown",
   "metadata": {},
   "source": [
    "# Import dataset"
   ]
  },
  {
   "cell_type": "code",
   "execution_count": 258,
   "metadata": {},
   "outputs": [],
   "source": [
    "evenements_df = fetch_table_from_trafic_db('events_data')"
   ]
  },
  {
   "cell_type": "code",
   "execution_count": 259,
   "metadata": {},
   "outputs": [],
   "source": [
    "trafic_df = fetch_table_from_trafic_db('trafic_routier')"
   ]
  },
  {
   "cell_type": "code",
   "execution_count": 260,
   "metadata": {},
   "outputs": [
    {
     "data": {
      "text/html": [
       "<div>\n",
       "<style scoped>\n",
       "    .dataframe tbody tr th:only-of-type {\n",
       "        vertical-align: middle;\n",
       "    }\n",
       "\n",
       "    .dataframe tbody tr th {\n",
       "        vertical-align: top;\n",
       "    }\n",
       "\n",
       "    .dataframe thead th {\n",
       "        text-align: right;\n",
       "    }\n",
       "</style>\n",
       "<table border=\"1\" class=\"dataframe\">\n",
       "  <thead>\n",
       "    <tr style=\"text-align: right;\">\n",
       "      <th></th>\n",
       "      <th>id_technique</th>\n",
       "      <th>id</th>\n",
       "      <th>debit</th>\n",
       "      <th>longueur</th>\n",
       "      <th>taux_occupation</th>\n",
       "      <th>code_couleur</th>\n",
       "      <th>nom_du_troncon</th>\n",
       "      <th>etat_du_trafic</th>\n",
       "      <th>temps_de_parcours</th>\n",
       "      <th>vitesse</th>\n",
       "      <th>geo_point_2d</th>\n",
       "      <th>geometrie</th>\n",
       "      <th>shape_geo</th>\n",
       "      <th>horodatage</th>\n",
       "      <th>type_geo</th>\n",
       "      <th>coordinates_geo</th>\n",
       "    </tr>\n",
       "  </thead>\n",
       "  <tbody>\n",
       "    <tr>\n",
       "      <th>0</th>\n",
       "      <td>772-20250218T205200</td>\n",
       "      <td>772</td>\n",
       "      <td>120</td>\n",
       "      <td>410</td>\n",
       "      <td>1.2</td>\n",
       "      <td>3</td>\n",
       "      <td>Vannes I9</td>\n",
       "      <td>Fluide</td>\n",
       "      <td>62</td>\n",
       "      <td>24</td>\n",
       "      <td>{47.23414730688424,-1.5808786419612229}</td>\n",
       "      <td>{{-1.583123434893785,47.235185973808406},{-1.5...</td>\n",
       "      <td>LineString</td>\n",
       "      <td>2025-02-18 20:52:00</td>\n",
       "      <td>Point</td>\n",
       "      <td>{-1.5808786419612229,47.23414730688424}</td>\n",
       "    </tr>\n",
       "    <tr>\n",
       "      <th>1</th>\n",
       "      <td>158-20250218T205200</td>\n",
       "      <td>158</td>\n",
       "      <td>300</td>\n",
       "      <td>364</td>\n",
       "      <td>3.7</td>\n",
       "      <td>3</td>\n",
       "      <td>Le Lasseur P2</td>\n",
       "      <td>Fluide</td>\n",
       "      <td>63</td>\n",
       "      <td>21</td>\n",
       "      <td>{47.23083661767159,-1.5704468983375661}</td>\n",
       "      <td>{{-1.568589501648445,47.23188191655151},{-1.57...</td>\n",
       "      <td>LineString</td>\n",
       "      <td>2025-02-18 20:52:00</td>\n",
       "      <td>Point</td>\n",
       "      <td>{-1.5704468983375661,47.23083661767159}</td>\n",
       "    </tr>\n",
       "    <tr>\n",
       "      <th>2</th>\n",
       "      <td>497-20250218T205200</td>\n",
       "      <td>497</td>\n",
       "      <td>180</td>\n",
       "      <td>224</td>\n",
       "      <td>2.0</td>\n",
       "      <td>3</td>\n",
       "      <td>Lauriol I4</td>\n",
       "      <td>Fluide</td>\n",
       "      <td>37</td>\n",
       "      <td>22</td>\n",
       "      <td>{47.23531301184315,-1.5635261418937887}</td>\n",
       "      <td>{{-1.563539784805616,47.236320687488636},{-1.5...</td>\n",
       "      <td>LineString</td>\n",
       "      <td>2025-02-18 20:52:00</td>\n",
       "      <td>Point</td>\n",
       "      <td>{-1.5635261418937887,47.23531301184315}</td>\n",
       "    </tr>\n",
       "    <tr>\n",
       "      <th>3</th>\n",
       "      <td>5444-20250218T205200</td>\n",
       "      <td>5444</td>\n",
       "      <td>240</td>\n",
       "      <td>177</td>\n",
       "      <td>2.9</td>\n",
       "      <td>3</td>\n",
       "      <td>Pasteur P1</td>\n",
       "      <td>Fluide</td>\n",
       "      <td>40</td>\n",
       "      <td>16</td>\n",
       "      <td>{47.21255561611825,-1.579953397082114}</td>\n",
       "      <td>{{-1.581033846171769,47.21286509290865},{-1.57...</td>\n",
       "      <td>LineString</td>\n",
       "      <td>2025-02-18 20:52:00</td>\n",
       "      <td>Point</td>\n",
       "      <td>{-1.579953397082114,47.21255561611825}</td>\n",
       "    </tr>\n",
       "    <tr>\n",
       "      <th>4</th>\n",
       "      <td>5053-20250218T205200</td>\n",
       "      <td>5053</td>\n",
       "      <td>60</td>\n",
       "      <td>224</td>\n",
       "      <td>0.8</td>\n",
       "      <td>3</td>\n",
       "      <td>Barbusse P2</td>\n",
       "      <td>Fluide</td>\n",
       "      <td>44</td>\n",
       "      <td>18</td>\n",
       "      <td>{47.22705355840811,-1.5524880999813486}</td>\n",
       "      <td>{{-1.551553912867712,47.22760386550291},{-1.55...</td>\n",
       "      <td>LineString</td>\n",
       "      <td>2025-02-18 20:52:00</td>\n",
       "      <td>Point</td>\n",
       "      <td>{-1.5524880999813486,47.22705355840811}</td>\n",
       "    </tr>\n",
       "  </tbody>\n",
       "</table>\n",
       "</div>"
      ],
      "text/plain": [
       "           id_technique    id  debit  longueur  taux_occupation  code_couleur  \\\n",
       "0   772-20250218T205200   772    120       410              1.2             3   \n",
       "1   158-20250218T205200   158    300       364              3.7             3   \n",
       "2   497-20250218T205200   497    180       224              2.0             3   \n",
       "3  5444-20250218T205200  5444    240       177              2.9             3   \n",
       "4  5053-20250218T205200  5053     60       224              0.8             3   \n",
       "\n",
       "  nom_du_troncon etat_du_trafic  temps_de_parcours  vitesse  \\\n",
       "0      Vannes I9         Fluide                 62       24   \n",
       "1  Le Lasseur P2         Fluide                 63       21   \n",
       "2     Lauriol I4         Fluide                 37       22   \n",
       "3     Pasteur P1         Fluide                 40       16   \n",
       "4    Barbusse P2         Fluide                 44       18   \n",
       "\n",
       "                              geo_point_2d  \\\n",
       "0  {47.23414730688424,-1.5808786419612229}   \n",
       "1  {47.23083661767159,-1.5704468983375661}   \n",
       "2  {47.23531301184315,-1.5635261418937887}   \n",
       "3   {47.21255561611825,-1.579953397082114}   \n",
       "4  {47.22705355840811,-1.5524880999813486}   \n",
       "\n",
       "                                           geometrie   shape_geo  \\\n",
       "0  {{-1.583123434893785,47.235185973808406},{-1.5...  LineString   \n",
       "1  {{-1.568589501648445,47.23188191655151},{-1.57...  LineString   \n",
       "2  {{-1.563539784805616,47.236320687488636},{-1.5...  LineString   \n",
       "3  {{-1.581033846171769,47.21286509290865},{-1.57...  LineString   \n",
       "4  {{-1.551553912867712,47.22760386550291},{-1.55...  LineString   \n",
       "\n",
       "           horodatage type_geo                          coordinates_geo  \n",
       "0 2025-02-18 20:52:00    Point  {-1.5808786419612229,47.23414730688424}  \n",
       "1 2025-02-18 20:52:00    Point  {-1.5704468983375661,47.23083661767159}  \n",
       "2 2025-02-18 20:52:00    Point  {-1.5635261418937887,47.23531301184315}  \n",
       "3 2025-02-18 20:52:00    Point   {-1.579953397082114,47.21255561611825}  \n",
       "4 2025-02-18 20:52:00    Point  {-1.5524880999813486,47.22705355840811}  "
      ]
     },
     "execution_count": 260,
     "metadata": {},
     "output_type": "execute_result"
    }
   ],
   "source": [
    "trafic_df.head()"
   ]
  },
  {
   "cell_type": "code",
   "execution_count": 261,
   "metadata": {},
   "outputs": [
    {
     "name": "stdout",
     "output_type": "stream",
     "text": [
      "<class 'pandas.core.frame.DataFrame'>\n",
      "RangeIndex: 1554761 entries, 0 to 1554760\n",
      "Data columns (total 16 columns):\n",
      " #   Column             Non-Null Count    Dtype         \n",
      "---  ------             --------------    -----         \n",
      " 0   id_technique       1554761 non-null  object        \n",
      " 1   id                 1554761 non-null  int64         \n",
      " 2   debit              1554761 non-null  int64         \n",
      " 3   longueur           1554761 non-null  int64         \n",
      " 4   taux_occupation    1554761 non-null  float64       \n",
      " 5   code_couleur       1554761 non-null  int64         \n",
      " 6   nom_du_troncon     1554761 non-null  object        \n",
      " 7   etat_du_trafic     1554761 non-null  object        \n",
      " 8   temps_de_parcours  1554761 non-null  int64         \n",
      " 9   vitesse            1554761 non-null  int64         \n",
      " 10  geo_point_2d       1554761 non-null  object        \n",
      " 11  geometrie          1554761 non-null  object        \n",
      " 12  shape_geo          1554761 non-null  object        \n",
      " 13  horodatage         1554761 non-null  datetime64[ns]\n",
      " 14  type_geo           1554761 non-null  object        \n",
      " 15  coordinates_geo    1554761 non-null  object        \n",
      "dtypes: datetime64[ns](1), float64(1), int64(6), object(8)\n",
      "memory usage: 189.8+ MB\n"
     ]
    }
   ],
   "source": [
    "trafic_df.info()"
   ]
  },
  {
   "cell_type": "code",
   "execution_count": 262,
   "metadata": {},
   "outputs": [
    {
     "data": {
      "text/html": [
       "<div>\n",
       "<style scoped>\n",
       "    .dataframe tbody tr th:only-of-type {\n",
       "        vertical-align: middle;\n",
       "    }\n",
       "\n",
       "    .dataframe tbody tr th {\n",
       "        vertical-align: top;\n",
       "    }\n",
       "\n",
       "    .dataframe thead th {\n",
       "        text-align: right;\n",
       "    }\n",
       "</style>\n",
       "<table border=\"1\" class=\"dataframe\">\n",
       "  <thead>\n",
       "    <tr style=\"text-align: right;\">\n",
       "      <th></th>\n",
       "      <th>name</th>\n",
       "      <th>description</th>\n",
       "      <th>startdate</th>\n",
       "      <th>enddate</th>\n",
       "      <th>location_name</th>\n",
       "      <th>address</th>\n",
       "      <th>city</th>\n",
       "      <th>postalcode</th>\n",
       "      <th>location_uid</th>\n",
       "      <th>coordinates_geo</th>\n",
       "      <th>event_id</th>\n",
       "    </tr>\n",
       "  </thead>\n",
       "  <tbody>\n",
       "    <tr>\n",
       "      <th>0</th>\n",
       "      <td>Football : FC Nantes / Paris SG</td>\n",
       "      <td>Match - 29e journée - Ligue 1 - Saison 2024/2025</td>\n",
       "      <td>2025-04-13 17:00:00</td>\n",
       "      <td>2025-04-13 19:00:00</td>\n",
       "      <td>Stade de la Beaujoire Louis Fonteneau</td>\n",
       "      <td>330 Route de Saint Joseph, Nantes</td>\n",
       "      <td>Nantes</td>\n",
       "      <td>44300</td>\n",
       "      <td>95545941</td>\n",
       "      <td>{-1.527812, 47.25867}</td>\n",
       "      <td>926afe1f-3bcc-4cc1-a2bd-3597dd36d86d</td>\n",
       "    </tr>\n",
       "    <tr>\n",
       "      <th>1</th>\n",
       "      <td>Football : FC Nantes / Toulouse FC</td>\n",
       "      <td>Match - 31e journée - Ligue 1 - Saison 2024/2025</td>\n",
       "      <td>2025-04-27 17:00:00</td>\n",
       "      <td>2025-04-27 19:00:00</td>\n",
       "      <td>Stade de la Beaujoire Louis Fonteneau</td>\n",
       "      <td>330 Route de Saint Joseph, Nantes</td>\n",
       "      <td>Nantes</td>\n",
       "      <td>44300</td>\n",
       "      <td>95545941</td>\n",
       "      <td>{-1.527812, 47.25867}</td>\n",
       "      <td>19bb79da-1c20-41a2-a53d-c45bcae5a0ce</td>\n",
       "    </tr>\n",
       "    <tr>\n",
       "      <th>2</th>\n",
       "      <td>Blandine Lehout - La Vie de ta mère</td>\n",
       "      <td>Blandine Lehout - La Vie de ta mère</td>\n",
       "      <td>2025-10-01 20:00:00</td>\n",
       "      <td>2025-10-01 22:30:00</td>\n",
       "      <td>Cité internationale des Congrès</td>\n",
       "      <td>5 Rue de Valmy, Nantes</td>\n",
       "      <td>Nantes</td>\n",
       "      <td>44000</td>\n",
       "      <td>47538434</td>\n",
       "      <td>{-1.544058, 47.213314}</td>\n",
       "      <td>da51b672-08bc-49e6-bcd6-516090c48e77</td>\n",
       "    </tr>\n",
       "    <tr>\n",
       "      <th>3</th>\n",
       "      <td>Alexandre Kominek - Bâtard sensible</td>\n",
       "      <td>Alexandre Kominek - Bâtard sensible</td>\n",
       "      <td>2025-03-01 20:30:00</td>\n",
       "      <td>2025-03-01 22:00:00</td>\n",
       "      <td>Cité internationale des Congrès</td>\n",
       "      <td>5 Rue de Valmy, Nantes</td>\n",
       "      <td>Nantes</td>\n",
       "      <td>44000</td>\n",
       "      <td>47538434</td>\n",
       "      <td>{-1.544058, 47.213314}</td>\n",
       "      <td>209c09e0-8d45-4429-ab15-7e1bf979f9c1</td>\n",
       "    </tr>\n",
       "    <tr>\n",
       "      <th>4</th>\n",
       "      <td>Comédie Le Clan des divorcées</td>\n",
       "      <td>Comédie Le Clan des divorcées</td>\n",
       "      <td>2025-03-02 15:00:00</td>\n",
       "      <td>2025-03-02 16:40:00</td>\n",
       "      <td>Cité internationale des Congrès</td>\n",
       "      <td>5 Rue de Valmy, Nantes</td>\n",
       "      <td>Nantes</td>\n",
       "      <td>44000</td>\n",
       "      <td>47538434</td>\n",
       "      <td>{-1.544058, 47.213314}</td>\n",
       "      <td>2eae861f-2e7f-4ff4-8c77-8f72b719fb23</td>\n",
       "    </tr>\n",
       "  </tbody>\n",
       "</table>\n",
       "</div>"
      ],
      "text/plain": [
       "                                  name  \\\n",
       "0      Football : FC Nantes / Paris SG   \n",
       "1   Football : FC Nantes / Toulouse FC   \n",
       "2  Blandine Lehout - La Vie de ta mère   \n",
       "3  Alexandre Kominek - Bâtard sensible   \n",
       "4        Comédie Le Clan des divorcées   \n",
       "\n",
       "                                        description           startdate  \\\n",
       "0  Match - 29e journée - Ligue 1 - Saison 2024/2025 2025-04-13 17:00:00   \n",
       "1  Match - 31e journée - Ligue 1 - Saison 2024/2025 2025-04-27 17:00:00   \n",
       "2               Blandine Lehout - La Vie de ta mère 2025-10-01 20:00:00   \n",
       "3               Alexandre Kominek - Bâtard sensible 2025-03-01 20:30:00   \n",
       "4                     Comédie Le Clan des divorcées 2025-03-02 15:00:00   \n",
       "\n",
       "              enddate                          location_name  \\\n",
       "0 2025-04-13 19:00:00  Stade de la Beaujoire Louis Fonteneau   \n",
       "1 2025-04-27 19:00:00  Stade de la Beaujoire Louis Fonteneau   \n",
       "2 2025-10-01 22:30:00        Cité internationale des Congrès   \n",
       "3 2025-03-01 22:00:00        Cité internationale des Congrès   \n",
       "4 2025-03-02 16:40:00        Cité internationale des Congrès   \n",
       "\n",
       "                             address    city postalcode location_uid  \\\n",
       "0  330 Route de Saint Joseph, Nantes  Nantes      44300     95545941   \n",
       "1  330 Route de Saint Joseph, Nantes  Nantes      44300     95545941   \n",
       "2             5 Rue de Valmy, Nantes  Nantes      44000     47538434   \n",
       "3             5 Rue de Valmy, Nantes  Nantes      44000     47538434   \n",
       "4             5 Rue de Valmy, Nantes  Nantes      44000     47538434   \n",
       "\n",
       "          coordinates_geo                              event_id  \n",
       "0   {-1.527812, 47.25867}  926afe1f-3bcc-4cc1-a2bd-3597dd36d86d  \n",
       "1   {-1.527812, 47.25867}  19bb79da-1c20-41a2-a53d-c45bcae5a0ce  \n",
       "2  {-1.544058, 47.213314}  da51b672-08bc-49e6-bcd6-516090c48e77  \n",
       "3  {-1.544058, 47.213314}  209c09e0-8d45-4429-ab15-7e1bf979f9c1  \n",
       "4  {-1.544058, 47.213314}  2eae861f-2e7f-4ff4-8c77-8f72b719fb23  "
      ]
     },
     "execution_count": 262,
     "metadata": {},
     "output_type": "execute_result"
    }
   ],
   "source": [
    "evenements_df.head()"
   ]
  },
  {
   "cell_type": "markdown",
   "metadata": {},
   "source": [
    "# Jointure"
   ]
  },
  {
   "cell_type": "code",
   "execution_count": 287,
   "metadata": {},
   "outputs": [],
   "source": [
    "import geopandas as gpd\n",
    "from shapely.geometry import LineString\n",
    "\n",
    "# Fonction pour convertir les données de format semi-WKT en objets LineString\n",
    "def convert_to_linestring(line_str):\n",
    "    # Retirer les crochets doubles et extraire les coordonnées\n",
    "    coords_str = line_str.strip(\"{}\").split(\"},{\")\n",
    "    # Convertir les coordonnées en tuples (longitude, latitude)\n",
    "    coords = [tuple(map(float, coord.split(\",\"))) for coord in coords_str]\n",
    "    # Créer un objet LineString avec Shapely\n",
    "    return LineString(coords)\n",
    "\n",
    "# Appliquer la conversion à la colonne de données\n",
    "trafic_df[\"geometry\"] = trafic_df[\"geometrie\"].apply(convert_to_linestring)\n",
    "\n",
    "trafic_df_gdf = gpd.GeoDataFrame(trafic_df, geometry=\"geometry\", crs=\"EPSG:3857\")\n"
   ]
  },
  {
   "cell_type": "code",
   "execution_count": 288,
   "metadata": {},
   "outputs": [],
   "source": [
    "# Fonction pour transformer les coordonnées en objets Point\n",
    "def convert_to_point(coord_str):\n",
    "    # Retirer les accolades et séparer les coordonnées\n",
    "    coords = coord_str.strip(\"{}\").split(\", \")\n",
    "    # Convertir les coordonnées en float (longitude, latitude)\n",
    "    longitude, latitude = map(float, coords)\n",
    "    # Créer un objet Point\n",
    "    return Point(longitude, latitude)\n",
    "\n",
    "# Appliquer cette fonction à la colonne \"coordinates_geo\"\n",
    "evenements_df[\"geometry\"] = evenements_df[\"coordinates_geo\"].apply(convert_to_point)\n",
    "\n",
    "# Convertir en GeoDataFrame\n",
    "evenements_gdf = gpd.GeoDataFrame(evenements_df, geometry=\"geometry\", crs=\"EPSG:3857\")\n"
   ]
  },
  {
   "cell_type": "code",
   "execution_count": 289,
   "metadata": {},
   "outputs": [],
   "source": [
    "evenements_gdf_unique = evenements_gdf.drop_duplicates(subset=[\"coordinates_geo\"])"
   ]
  },
  {
   "cell_type": "code",
   "execution_count": 290,
   "metadata": {},
   "outputs": [],
   "source": [
    "trafic_gdf_unique = trafic_df_gdf.drop_duplicates(subset=[\"geometrie_linestring\"])"
   ]
  },
  {
   "cell_type": "code",
   "execution_count": 291,
   "metadata": {},
   "outputs": [
    {
     "data": {
      "text/plain": [
       "7"
      ]
     },
     "execution_count": 291,
     "metadata": {},
     "output_type": "execute_result"
    }
   ],
   "source": [
    "len(evenements_gdf_unique)"
   ]
  },
  {
   "cell_type": "code",
   "execution_count": 292,
   "metadata": {},
   "outputs": [
    {
     "data": {
      "text/plain": [
       "849"
      ]
     },
     "execution_count": 292,
     "metadata": {},
     "output_type": "execute_result"
    }
   ],
   "source": [
    "len(trafic_gdf_unique)"
   ]
  },
  {
   "cell_type": "code",
   "execution_count": null,
   "metadata": {},
   "outputs": [],
   "source": [
    "import geopandas as gpd\n",
    "import numpy as np\n",
    "\n",
    "# Reprojection des GeoDataFrames en EPSG:3857 pour avoir les distances en mètres\n",
    "trafic_gdf_unique = trafic_gdf_unique.to_crs(epsg=3857)\n",
    "evenements_gdf_unique = evenements_gdf_unique.to_crs(epsg=3857)\n",
    "\n",
    "# Créer un buffer autour de chaque tronçon de route (500 mètres)\n",
    "trafic_gdf_unique[\"buffered_geometry\"] = trafic_gdf_unique[\"geometry\"].buffer(500)\n",
    "\n",
    "# Jointure spatiale pour vérifier si un événement tombe à l'intérieur d'un buffer\n",
    "df_join = gpd.sjoin_nearest(evenements_gdf_unique, trafic_gdf_unique, how=\"left\", distance_col=\"distance\")\n",
    "\n",
    "# Ajouter une colonne pour indiquer si l'événement est à moins de 500 mètres d'un tronçon\n",
    "df_join[\"has_event_near_troncon\"] = np.where(df_join[\"distance\"] <= 500, 1, 0)\n",
    "\n",
    "# Ajouter le nom de l'événement si l'événement est proche d'un tronçon\n",
    "df_join[\"event_location_name\"] = df_join[\"location_name\"].where(df_join[\"has_event_near_troncon\"] == 1, np.nan)\n",
    "\n",
    "# Afficher le résultat\n",
    "result = df_join[[\"id_technique\", \"nom_du_troncon\", \"has_event_near_troncon\", \"event_location_name\", \"distance\"]]\n"
   ]
  },
  {
   "cell_type": "code",
   "execution_count": 294,
   "metadata": {},
   "outputs": [
    {
     "data": {
      "text/html": [
       "<div>\n",
       "<style scoped>\n",
       "    .dataframe tbody tr th:only-of-type {\n",
       "        vertical-align: middle;\n",
       "    }\n",
       "\n",
       "    .dataframe tbody tr th {\n",
       "        vertical-align: top;\n",
       "    }\n",
       "\n",
       "    .dataframe thead th {\n",
       "        text-align: right;\n",
       "    }\n",
       "</style>\n",
       "<table border=\"1\" class=\"dataframe\">\n",
       "  <thead>\n",
       "    <tr style=\"text-align: right;\">\n",
       "      <th></th>\n",
       "      <th>id_technique</th>\n",
       "      <th>nom_du_troncon</th>\n",
       "      <th>has_event_near_troncon</th>\n",
       "      <th>event_location_name</th>\n",
       "      <th>distance</th>\n",
       "    </tr>\n",
       "  </thead>\n",
       "  <tbody>\n",
       "    <tr>\n",
       "      <th>0</th>\n",
       "      <td>5098-20250218T205200</td>\n",
       "      <td>St Joseph P09</td>\n",
       "      <td>1</td>\n",
       "      <td>Stade de la Beaujoire Louis Fonteneau</td>\n",
       "      <td>0.000206</td>\n",
       "    </tr>\n",
       "    <tr>\n",
       "      <th>2</th>\n",
       "      <td>319-20250218T205200</td>\n",
       "      <td>Bonduelle I1</td>\n",
       "      <td>1</td>\n",
       "      <td>Cité internationale des Congrès</td>\n",
       "      <td>0.000392</td>\n",
       "    </tr>\n",
       "    <tr>\n",
       "      <th>48</th>\n",
       "      <td>5208-20250218T205200</td>\n",
       "      <td>Viviani P2</td>\n",
       "      <td>1</td>\n",
       "      <td>Palais des Sports Beaulieu</td>\n",
       "      <td>0.001161</td>\n",
       "    </tr>\n",
       "    <tr>\n",
       "      <th>49</th>\n",
       "      <td>97-20250218T205200</td>\n",
       "      <td>St Joseph I04</td>\n",
       "      <td>1</td>\n",
       "      <td>Parc des Expositions de la Beaujoire</td>\n",
       "      <td>0.000373</td>\n",
       "    </tr>\n",
       "    <tr>\n",
       "      <th>50</th>\n",
       "      <td>5139-20250218T205200</td>\n",
       "      <td>Bureau P</td>\n",
       "      <td>1</td>\n",
       "      <td>STEREOLUX</td>\n",
       "      <td>0.000142</td>\n",
       "    </tr>\n",
       "    <tr>\n",
       "      <th>54</th>\n",
       "      <td>5524-20250218T205200</td>\n",
       "      <td>Paul I1</td>\n",
       "      <td>1</td>\n",
       "      <td>Zénith de Nantes Métropole</td>\n",
       "      <td>0.003865</td>\n",
       "    </tr>\n",
       "    <tr>\n",
       "      <th>100</th>\n",
       "      <td>5524-20250218T205200</td>\n",
       "      <td>Paul I1</td>\n",
       "      <td>1</td>\n",
       "      <td>Zénith de Nantes Métropole</td>\n",
       "      <td>0.007401</td>\n",
       "    </tr>\n",
       "  </tbody>\n",
       "</table>\n",
       "</div>"
      ],
      "text/plain": [
       "             id_technique nom_du_troncon  has_event_near_troncon  \\\n",
       "0    5098-20250218T205200  St Joseph P09                       1   \n",
       "2     319-20250218T205200   Bonduelle I1                       1   \n",
       "48   5208-20250218T205200     Viviani P2                       1   \n",
       "49     97-20250218T205200  St Joseph I04                       1   \n",
       "50   5139-20250218T205200       Bureau P                       1   \n",
       "54   5524-20250218T205200        Paul I1                       1   \n",
       "100  5524-20250218T205200        Paul I1                       1   \n",
       "\n",
       "                       event_location_name  distance  \n",
       "0    Stade de la Beaujoire Louis Fonteneau  0.000206  \n",
       "2          Cité internationale des Congrès  0.000392  \n",
       "48              Palais des Sports Beaulieu  0.001161  \n",
       "49    Parc des Expositions de la Beaujoire  0.000373  \n",
       "50                               STEREOLUX  0.000142  \n",
       "54              Zénith de Nantes Métropole  0.003865  \n",
       "100             Zénith de Nantes Métropole  0.007401  "
      ]
     },
     "execution_count": 294,
     "metadata": {},
     "output_type": "execute_result"
    }
   ],
   "source": [
    "result"
   ]
  },
  {
   "cell_type": "code",
   "execution_count": 279,
   "metadata": {},
   "outputs": [
    {
     "ename": "TypeError",
     "evalue": "'set' object is not subscriptable",
     "output_type": "error",
     "traceback": [
      "\u001b[0;31m---------------------------------------------------------------------------\u001b[0m",
      "\u001b[0;31mTypeError\u001b[0m                                 Traceback (most recent call last)",
      "Cell \u001b[0;32mIn[279], line 3\u001b[0m\n\u001b[1;32m      1\u001b[0m \u001b[38;5;28;01mimport\u001b[39;00m\u001b[38;5;250m \u001b[39m\u001b[38;5;21;01mgeopandas\u001b[39;00m\n\u001b[1;32m      2\u001b[0m \u001b[38;5;66;03m# Si tu as un Point avec les coordonnées inversées (latitude, longitude)\u001b[39;00m\n\u001b[0;32m----> 3\u001b[0m evenements_df[\u001b[38;5;124m\"\u001b[39m\u001b[38;5;124mgeometry\u001b[39m\u001b[38;5;124m\"\u001b[39m] \u001b[38;5;241m=\u001b[39m \u001b[43mevenements_df\u001b[49m\u001b[43m[\u001b[49m\u001b[38;5;124;43m\"\u001b[39;49m\u001b[38;5;124;43mcoordinates_geo\u001b[39;49m\u001b[38;5;124;43m\"\u001b[39;49m\u001b[43m]\u001b[49m\u001b[38;5;241;43m.\u001b[39;49m\u001b[43mapply\u001b[49m\u001b[43m(\u001b[49m\n\u001b[1;32m      4\u001b[0m \u001b[43m    \u001b[49m\u001b[38;5;28;43;01mlambda\u001b[39;49;00m\u001b[43m \u001b[49m\u001b[43mx\u001b[49m\u001b[43m:\u001b[49m\u001b[43m \u001b[49m\u001b[43mPoint\u001b[49m\u001b[43m(\u001b[49m\u001b[38;5;28;43meval\u001b[39;49m\u001b[43m(\u001b[49m\u001b[43mx\u001b[49m\u001b[43m)\u001b[49m\u001b[43m[\u001b[49m\u001b[38;5;241;43m1\u001b[39;49m\u001b[43m]\u001b[49m\u001b[43m,\u001b[49m\u001b[43m \u001b[49m\u001b[38;5;28;43meval\u001b[39;49m\u001b[43m(\u001b[49m\u001b[43mx\u001b[49m\u001b[43m)\u001b[49m\u001b[43m[\u001b[49m\u001b[38;5;241;43m0\u001b[39;49m\u001b[43m]\u001b[49m\u001b[43m)\u001b[49m\u001b[43m  \u001b[49m\u001b[38;5;66;43;03m# Inverser les coordonnées\u001b[39;49;00m\n\u001b[1;32m      5\u001b[0m \u001b[43m)\u001b[49m\n",
      "File \u001b[0;32m~/opt/anaconda3/envs/Projet2/lib/python3.9/site-packages/pandas/core/series.py:4917\u001b[0m, in \u001b[0;36mSeries.apply\u001b[0;34m(self, func, convert_dtype, args, by_row, **kwargs)\u001b[0m\n\u001b[1;32m   4789\u001b[0m \u001b[38;5;28;01mdef\u001b[39;00m\u001b[38;5;250m \u001b[39m\u001b[38;5;21mapply\u001b[39m(\n\u001b[1;32m   4790\u001b[0m     \u001b[38;5;28mself\u001b[39m,\n\u001b[1;32m   4791\u001b[0m     func: AggFuncType,\n\u001b[0;32m   (...)\u001b[0m\n\u001b[1;32m   4796\u001b[0m     \u001b[38;5;241m*\u001b[39m\u001b[38;5;241m*\u001b[39mkwargs,\n\u001b[1;32m   4797\u001b[0m ) \u001b[38;5;241m-\u001b[39m\u001b[38;5;241m>\u001b[39m DataFrame \u001b[38;5;241m|\u001b[39m Series:\n\u001b[1;32m   4798\u001b[0m \u001b[38;5;250m    \u001b[39m\u001b[38;5;124;03m\"\"\"\u001b[39;00m\n\u001b[1;32m   4799\u001b[0m \u001b[38;5;124;03m    Invoke function on values of Series.\u001b[39;00m\n\u001b[1;32m   4800\u001b[0m \n\u001b[0;32m   (...)\u001b[0m\n\u001b[1;32m   4915\u001b[0m \u001b[38;5;124;03m    dtype: float64\u001b[39;00m\n\u001b[1;32m   4916\u001b[0m \u001b[38;5;124;03m    \"\"\"\u001b[39;00m\n\u001b[0;32m-> 4917\u001b[0m     \u001b[38;5;28;01mreturn\u001b[39;00m \u001b[43mSeriesApply\u001b[49m\u001b[43m(\u001b[49m\n\u001b[1;32m   4918\u001b[0m \u001b[43m        \u001b[49m\u001b[38;5;28;43mself\u001b[39;49m\u001b[43m,\u001b[49m\n\u001b[1;32m   4919\u001b[0m \u001b[43m        \u001b[49m\u001b[43mfunc\u001b[49m\u001b[43m,\u001b[49m\n\u001b[1;32m   4920\u001b[0m \u001b[43m        \u001b[49m\u001b[43mconvert_dtype\u001b[49m\u001b[38;5;241;43m=\u001b[39;49m\u001b[43mconvert_dtype\u001b[49m\u001b[43m,\u001b[49m\n\u001b[1;32m   4921\u001b[0m \u001b[43m        \u001b[49m\u001b[43mby_row\u001b[49m\u001b[38;5;241;43m=\u001b[39;49m\u001b[43mby_row\u001b[49m\u001b[43m,\u001b[49m\n\u001b[1;32m   4922\u001b[0m \u001b[43m        \u001b[49m\u001b[43margs\u001b[49m\u001b[38;5;241;43m=\u001b[39;49m\u001b[43margs\u001b[49m\u001b[43m,\u001b[49m\n\u001b[1;32m   4923\u001b[0m \u001b[43m        \u001b[49m\u001b[43mkwargs\u001b[49m\u001b[38;5;241;43m=\u001b[39;49m\u001b[43mkwargs\u001b[49m\u001b[43m,\u001b[49m\n\u001b[1;32m   4924\u001b[0m \u001b[43m    \u001b[49m\u001b[43m)\u001b[49m\u001b[38;5;241;43m.\u001b[39;49m\u001b[43mapply\u001b[49m\u001b[43m(\u001b[49m\u001b[43m)\u001b[49m\n",
      "File \u001b[0;32m~/opt/anaconda3/envs/Projet2/lib/python3.9/site-packages/pandas/core/apply.py:1427\u001b[0m, in \u001b[0;36mSeriesApply.apply\u001b[0;34m(self)\u001b[0m\n\u001b[1;32m   1424\u001b[0m     \u001b[38;5;28;01mreturn\u001b[39;00m \u001b[38;5;28mself\u001b[39m\u001b[38;5;241m.\u001b[39mapply_compat()\n\u001b[1;32m   1426\u001b[0m \u001b[38;5;66;03m# self.func is Callable\u001b[39;00m\n\u001b[0;32m-> 1427\u001b[0m \u001b[38;5;28;01mreturn\u001b[39;00m \u001b[38;5;28;43mself\u001b[39;49m\u001b[38;5;241;43m.\u001b[39;49m\u001b[43mapply_standard\u001b[49m\u001b[43m(\u001b[49m\u001b[43m)\u001b[49m\n",
      "File \u001b[0;32m~/opt/anaconda3/envs/Projet2/lib/python3.9/site-packages/pandas/core/apply.py:1507\u001b[0m, in \u001b[0;36mSeriesApply.apply_standard\u001b[0;34m(self)\u001b[0m\n\u001b[1;32m   1501\u001b[0m \u001b[38;5;66;03m# row-wise access\u001b[39;00m\n\u001b[1;32m   1502\u001b[0m \u001b[38;5;66;03m# apply doesn't have a `na_action` keyword and for backward compat reasons\u001b[39;00m\n\u001b[1;32m   1503\u001b[0m \u001b[38;5;66;03m# we need to give `na_action=\"ignore\"` for categorical data.\u001b[39;00m\n\u001b[1;32m   1504\u001b[0m \u001b[38;5;66;03m# TODO: remove the `na_action=\"ignore\"` when that default has been changed in\u001b[39;00m\n\u001b[1;32m   1505\u001b[0m \u001b[38;5;66;03m#  Categorical (GH51645).\u001b[39;00m\n\u001b[1;32m   1506\u001b[0m action \u001b[38;5;241m=\u001b[39m \u001b[38;5;124m\"\u001b[39m\u001b[38;5;124mignore\u001b[39m\u001b[38;5;124m\"\u001b[39m \u001b[38;5;28;01mif\u001b[39;00m \u001b[38;5;28misinstance\u001b[39m(obj\u001b[38;5;241m.\u001b[39mdtype, CategoricalDtype) \u001b[38;5;28;01melse\u001b[39;00m \u001b[38;5;28;01mNone\u001b[39;00m\n\u001b[0;32m-> 1507\u001b[0m mapped \u001b[38;5;241m=\u001b[39m \u001b[43mobj\u001b[49m\u001b[38;5;241;43m.\u001b[39;49m\u001b[43m_map_values\u001b[49m\u001b[43m(\u001b[49m\n\u001b[1;32m   1508\u001b[0m \u001b[43m    \u001b[49m\u001b[43mmapper\u001b[49m\u001b[38;5;241;43m=\u001b[39;49m\u001b[43mcurried\u001b[49m\u001b[43m,\u001b[49m\u001b[43m \u001b[49m\u001b[43mna_action\u001b[49m\u001b[38;5;241;43m=\u001b[39;49m\u001b[43maction\u001b[49m\u001b[43m,\u001b[49m\u001b[43m \u001b[49m\u001b[43mconvert\u001b[49m\u001b[38;5;241;43m=\u001b[39;49m\u001b[38;5;28;43mself\u001b[39;49m\u001b[38;5;241;43m.\u001b[39;49m\u001b[43mconvert_dtype\u001b[49m\n\u001b[1;32m   1509\u001b[0m \u001b[43m\u001b[49m\u001b[43m)\u001b[49m\n\u001b[1;32m   1511\u001b[0m \u001b[38;5;28;01mif\u001b[39;00m \u001b[38;5;28mlen\u001b[39m(mapped) \u001b[38;5;129;01mand\u001b[39;00m \u001b[38;5;28misinstance\u001b[39m(mapped[\u001b[38;5;241m0\u001b[39m], ABCSeries):\n\u001b[1;32m   1512\u001b[0m     \u001b[38;5;66;03m# GH#43986 Need to do list(mapped) in order to get treated as nested\u001b[39;00m\n\u001b[1;32m   1513\u001b[0m     \u001b[38;5;66;03m#  See also GH#25959 regarding EA support\u001b[39;00m\n\u001b[1;32m   1514\u001b[0m     \u001b[38;5;28;01mreturn\u001b[39;00m obj\u001b[38;5;241m.\u001b[39m_constructor_expanddim(\u001b[38;5;28mlist\u001b[39m(mapped), index\u001b[38;5;241m=\u001b[39mobj\u001b[38;5;241m.\u001b[39mindex)\n",
      "File \u001b[0;32m~/opt/anaconda3/envs/Projet2/lib/python3.9/site-packages/pandas/core/base.py:921\u001b[0m, in \u001b[0;36mIndexOpsMixin._map_values\u001b[0;34m(self, mapper, na_action, convert)\u001b[0m\n\u001b[1;32m    918\u001b[0m \u001b[38;5;28;01mif\u001b[39;00m \u001b[38;5;28misinstance\u001b[39m(arr, ExtensionArray):\n\u001b[1;32m    919\u001b[0m     \u001b[38;5;28;01mreturn\u001b[39;00m arr\u001b[38;5;241m.\u001b[39mmap(mapper, na_action\u001b[38;5;241m=\u001b[39mna_action)\n\u001b[0;32m--> 921\u001b[0m \u001b[38;5;28;01mreturn\u001b[39;00m \u001b[43malgorithms\u001b[49m\u001b[38;5;241;43m.\u001b[39;49m\u001b[43mmap_array\u001b[49m\u001b[43m(\u001b[49m\u001b[43marr\u001b[49m\u001b[43m,\u001b[49m\u001b[43m \u001b[49m\u001b[43mmapper\u001b[49m\u001b[43m,\u001b[49m\u001b[43m \u001b[49m\u001b[43mna_action\u001b[49m\u001b[38;5;241;43m=\u001b[39;49m\u001b[43mna_action\u001b[49m\u001b[43m,\u001b[49m\u001b[43m \u001b[49m\u001b[43mconvert\u001b[49m\u001b[38;5;241;43m=\u001b[39;49m\u001b[43mconvert\u001b[49m\u001b[43m)\u001b[49m\n",
      "File \u001b[0;32m~/opt/anaconda3/envs/Projet2/lib/python3.9/site-packages/pandas/core/algorithms.py:1743\u001b[0m, in \u001b[0;36mmap_array\u001b[0;34m(arr, mapper, na_action, convert)\u001b[0m\n\u001b[1;32m   1741\u001b[0m values \u001b[38;5;241m=\u001b[39m arr\u001b[38;5;241m.\u001b[39mastype(\u001b[38;5;28mobject\u001b[39m, copy\u001b[38;5;241m=\u001b[39m\u001b[38;5;28;01mFalse\u001b[39;00m)\n\u001b[1;32m   1742\u001b[0m \u001b[38;5;28;01mif\u001b[39;00m na_action \u001b[38;5;129;01mis\u001b[39;00m \u001b[38;5;28;01mNone\u001b[39;00m:\n\u001b[0;32m-> 1743\u001b[0m     \u001b[38;5;28;01mreturn\u001b[39;00m \u001b[43mlib\u001b[49m\u001b[38;5;241;43m.\u001b[39;49m\u001b[43mmap_infer\u001b[49m\u001b[43m(\u001b[49m\u001b[43mvalues\u001b[49m\u001b[43m,\u001b[49m\u001b[43m \u001b[49m\u001b[43mmapper\u001b[49m\u001b[43m,\u001b[49m\u001b[43m \u001b[49m\u001b[43mconvert\u001b[49m\u001b[38;5;241;43m=\u001b[39;49m\u001b[43mconvert\u001b[49m\u001b[43m)\u001b[49m\n\u001b[1;32m   1744\u001b[0m \u001b[38;5;28;01melse\u001b[39;00m:\n\u001b[1;32m   1745\u001b[0m     \u001b[38;5;28;01mreturn\u001b[39;00m lib\u001b[38;5;241m.\u001b[39mmap_infer_mask(\n\u001b[1;32m   1746\u001b[0m         values, mapper, mask\u001b[38;5;241m=\u001b[39misna(values)\u001b[38;5;241m.\u001b[39mview(np\u001b[38;5;241m.\u001b[39muint8), convert\u001b[38;5;241m=\u001b[39mconvert\n\u001b[1;32m   1747\u001b[0m     )\n",
      "File \u001b[0;32mlib.pyx:2972\u001b[0m, in \u001b[0;36mpandas._libs.lib.map_infer\u001b[0;34m()\u001b[0m\n",
      "Cell \u001b[0;32mIn[279], line 4\u001b[0m, in \u001b[0;36m<lambda>\u001b[0;34m(x)\u001b[0m\n\u001b[1;32m      1\u001b[0m \u001b[38;5;28;01mimport\u001b[39;00m\u001b[38;5;250m \u001b[39m\u001b[38;5;21;01mgeopandas\u001b[39;00m\n\u001b[1;32m      2\u001b[0m \u001b[38;5;66;03m# Si tu as un Point avec les coordonnées inversées (latitude, longitude)\u001b[39;00m\n\u001b[1;32m      3\u001b[0m evenements_df[\u001b[38;5;124m\"\u001b[39m\u001b[38;5;124mgeometry\u001b[39m\u001b[38;5;124m\"\u001b[39m] \u001b[38;5;241m=\u001b[39m evenements_df[\u001b[38;5;124m\"\u001b[39m\u001b[38;5;124mcoordinates_geo\u001b[39m\u001b[38;5;124m\"\u001b[39m]\u001b[38;5;241m.\u001b[39mapply(\n\u001b[0;32m----> 4\u001b[0m     \u001b[38;5;28;01mlambda\u001b[39;00m x: Point(\u001b[38;5;28;43meval\u001b[39;49m\u001b[43m(\u001b[49m\u001b[43mx\u001b[49m\u001b[43m)\u001b[49m\u001b[43m[\u001b[49m\u001b[38;5;241;43m1\u001b[39;49m\u001b[43m]\u001b[49m, \u001b[38;5;28meval\u001b[39m(x)[\u001b[38;5;241m0\u001b[39m])  \u001b[38;5;66;03m# Inverser les coordonnées\u001b[39;00m\n\u001b[1;32m      5\u001b[0m )\n",
      "\u001b[0;31mTypeError\u001b[0m: 'set' object is not subscriptable"
     ]
    }
   ],
   "source": [
    "import geopandas\n",
    "# Si tu as un Point avec les coordonnées inversées (latitude, longitude)\n",
    "evenements_df[\"geometry\"] = evenements_df[\"coordinates_geo\"].apply(\n",
    "    lambda x: Point(eval(x)[1], eval(x)[0])  # Inverser les coordonnées\n",
    ")\n"
   ]
  },
  {
   "cell_type": "code",
   "execution_count": 272,
   "metadata": {},
   "outputs": [
    {
     "data": {
      "text/plain": [
       "7"
      ]
     },
     "execution_count": 272,
     "metadata": {},
     "output_type": "execute_result"
    }
   ],
   "source": [
    "# Suppression des doublons dans 'evenements_gdf' (lieux uniques)\n",
    "evenements_gdf_unique = evenements_gdf.drop_duplicates(subset=[\"coordinates_geo\"])\n",
    "len(evenements_gdf_unique)"
   ]
  },
  {
   "cell_type": "code",
   "execution_count": 273,
   "metadata": {},
   "outputs": [
    {
     "data": {
      "text/plain": [
       "849"
      ]
     },
     "execution_count": 273,
     "metadata": {},
     "output_type": "execute_result"
    }
   ],
   "source": [
    "# Suppression des doublons dans 'trafic_gdf' (tronçons uniques)\n",
    "trafic_gdf_unique = trafic_gdf.drop_duplicates(subset=[\"geometrie_linestring\"])\n",
    "len(trafic_gdf_unique)"
   ]
  },
  {
   "cell_type": "code",
   "execution_count": 274,
   "metadata": {},
   "outputs": [
    {
     "name": "stdout",
     "output_type": "stream",
     "text": [
      "EPSG:4326\n",
      "EPSG:4326\n"
     ]
    }
   ],
   "source": [
    "print(trafic_gdf_unique.crs)\n",
    "print(evenements_gdf_unique.crs)\n"
   ]
  },
  {
   "cell_type": "code",
   "execution_count": 275,
   "metadata": {},
   "outputs": [
    {
     "name": "stdout",
     "output_type": "stream",
     "text": [
      "               id_technique       nom_du_troncon  has_event_place_nearby  \\\n",
      "0       772-20250218T205200            Vannes I9                       0   \n",
      "1       158-20250218T205200        Le Lasseur P2                       0   \n",
      "2       497-20250218T205200           Lauriol I4                       0   \n",
      "3      5444-20250218T205200           Pasteur P1                       0   \n",
      "4      5053-20250218T205200          Barbusse P2                       0   \n",
      "..                      ...                  ...                     ...   \n",
      "844     197-20250218T205200          Massacre I2                       0   \n",
      "845  100076-20250218T205200              VEIL I1                       0   \n",
      "846  100083-20250218T205200            HALIMI P3                       0   \n",
      "847   10074-20250218T205200               VM 723                       0   \n",
      "848  100087-20250218T205200  Estuaire vers Ouest                       0   \n",
      "\n",
      "    event_location_name      distance  \n",
      "0                   NaN  8.205796e+06  \n",
      "1                   NaN  8.204905e+06  \n",
      "2                   NaN  8.204829e+06  \n",
      "3                   NaN  8.203251e+06  \n",
      "4                   NaN  8.203062e+06  \n",
      "..                  ...           ...  \n",
      "844                 NaN  8.206668e+06  \n",
      "845                 NaN  8.200465e+06  \n",
      "846                 NaN  8.200686e+06  \n",
      "847                 NaN  8.202591e+06  \n",
      "848                 NaN  8.200991e+06  \n",
      "\n",
      "[849 rows x 5 columns]\n"
     ]
    }
   ],
   "source": [
    "import geopandas as gpd\n",
    "import pandas as pd\n",
    "from shapely import wkt\n",
    "import shapely\n",
    "import numpy as np\n",
    "\n",
    "# Reprojection des GeoDataFrame pour travailler avec des unités en mètres (EPSG:3857)\n",
    "trafic_gdf_unique = trafic_gdf_unique.to_crs(epsg=3857)\n",
    "evenements_gdf_unique = evenements_gdf_unique.to_crs(epsg=3857)\n",
    "\n",
    "# Conversion des géométries en utilisant shapely (s'il y a des chaînes WKT dans les colonnes)\n",
    "# Si les géométries sont déjà sous forme de shapely, cette étape n'est pas nécessaire\n",
    "# Pour les événements : les géométries sont des points\n",
    "evenements_gdf_unique[\"geometry\"] = evenements_gdf_unique[\"geometrie_point\"].apply(lambda x: shapely.wkt.dumps(x))\n",
    "\n",
    "# Pour les tronçons : les géométries sont des LineString\n",
    "trafic_gdf_unique[\"geometry\"] = trafic_gdf_unique[\"geometrie_linestring\"].apply(lambda x: shapely.wkt.dumps(x))\n",
    "\n",
    "# Réajuster le CRS des deux GeoDataFrame pour qu'ils aient le même système de projection\n",
    "evenements_gdf_unique = evenements_gdf_unique.to_crs(trafic_gdf_unique.crs)\n",
    "\n",
    "# Utilisation de sjoin_nearest pour joindre les points d'événements avec le tronçon le plus proche\n",
    "df_n = gpd.sjoin_nearest(trafic_gdf_unique, evenements_gdf_unique, how=\"left\", distance_col=\"distance\")\n",
    "\n",
    "# Ajouter la colonne 'has_event_place_nearby' pour indiquer s'il y a un événement à proximité\n",
    "df_n[\"has_event_place_nearby\"] = df_n[\"distance\"].apply(lambda x: 1 if x <= 500 else 0)\n",
    "\n",
    "# Ajouter la colonne 'event_location_name' pour afficher le nom de l'événement s'il est à proximité\n",
    "df_n[\"event_location_name\"] = df_n[\"location_name\"].where(df_n[\"has_event_place_nearby\"] == 1, np.nan)\n",
    "\n",
    "# Affichage du résultat\n",
    "print(df_n[[\"id_technique\", \"nom_du_troncon\", \"has_event_place_nearby\", \"event_location_name\", \"distance\"]])\n"
   ]
  },
  {
   "cell_type": "code",
   "execution_count": 276,
   "metadata": {},
   "outputs": [
    {
     "data": {
      "text/html": [
       "<div>\n",
       "<style scoped>\n",
       "    .dataframe tbody tr th:only-of-type {\n",
       "        vertical-align: middle;\n",
       "    }\n",
       "\n",
       "    .dataframe tbody tr th {\n",
       "        vertical-align: top;\n",
       "    }\n",
       "\n",
       "    .dataframe thead th {\n",
       "        text-align: right;\n",
       "    }\n",
       "</style>\n",
       "<table border=\"1\" class=\"dataframe\">\n",
       "  <thead>\n",
       "    <tr style=\"text-align: right;\">\n",
       "      <th></th>\n",
       "      <th>id_technique</th>\n",
       "      <th>id</th>\n",
       "      <th>debit</th>\n",
       "      <th>longueur</th>\n",
       "      <th>taux_occupation</th>\n",
       "      <th>code_couleur</th>\n",
       "      <th>nom_du_troncon</th>\n",
       "      <th>etat_du_trafic</th>\n",
       "      <th>temps_de_parcours</th>\n",
       "      <th>vitesse</th>\n",
       "      <th>...</th>\n",
       "      <th>address</th>\n",
       "      <th>city</th>\n",
       "      <th>postalcode</th>\n",
       "      <th>location_uid</th>\n",
       "      <th>coordinates_geo_right</th>\n",
       "      <th>event_id</th>\n",
       "      <th>geometry_right</th>\n",
       "      <th>distance</th>\n",
       "      <th>has_event_place_nearby</th>\n",
       "      <th>event_location_name</th>\n",
       "    </tr>\n",
       "  </thead>\n",
       "  <tbody>\n",
       "  </tbody>\n",
       "</table>\n",
       "<p>0 rows × 34 columns</p>\n",
       "</div>"
      ],
      "text/plain": [
       "Empty GeoDataFrame\n",
       "Columns: [id_technique, id, debit, longueur, taux_occupation, code_couleur, nom_du_troncon, etat_du_trafic, temps_de_parcours, vitesse, geo_point_2d, geometrie, shape_geo, horodatage, type_geo, coordinates_geo_left, geometrie_linestring, geometry_left, index_right, name, description, startdate, enddate, location_name, address, city, postalcode, location_uid, coordinates_geo_right, event_id, geometry_right, distance, has_event_place_nearby, event_location_name]\n",
       "Index: []\n",
       "\n",
       "[0 rows x 34 columns]"
      ]
     },
     "execution_count": 276,
     "metadata": {},
     "output_type": "execute_result"
    }
   ],
   "source": [
    "df_n.loc[df_n['has_event_place_nearby']==1]"
   ]
  }
 ],
 "metadata": {
  "kernelspec": {
   "display_name": "Projet2",
   "language": "python",
   "name": "python3"
  },
  "language_info": {
   "codemirror_mode": {
    "name": "ipython",
    "version": 3
   },
   "file_extension": ".py",
   "mimetype": "text/x-python",
   "name": "python",
   "nbconvert_exporter": "python",
   "pygments_lexer": "ipython3",
   "version": "3.9.21"
  }
 },
 "nbformat": 4,
 "nbformat_minor": 2
}
