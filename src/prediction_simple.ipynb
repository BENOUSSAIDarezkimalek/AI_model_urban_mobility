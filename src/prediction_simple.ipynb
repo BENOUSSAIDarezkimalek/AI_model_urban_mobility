{
 "cells": [
  {
   "cell_type": "code",
   "execution_count": 37,
   "id": "e2b5b1ab",
   "metadata": {},
   "outputs": [],
   "source": [
    "import pandas as pd\n",
    "from sklearn.cluster import KMeans\n",
    "from sklearn.preprocessing import StandardScaler\n",
    "import matplotlib.pyplot as plt\n",
    "import numpy as np\n",
    "from collections import Counter\n",
    "from sklearn.metrics import silhouette_score\n",
    "from tqdm import tqdm"
   ]
  },
  {
   "cell_type": "code",
   "execution_count": 2,
   "id": "dfe27842",
   "metadata": {},
   "outputs": [],
   "source": [
    "df = pd.read_parquet('/Users/manu/Desktop/SUP/Projet 2/AI_model_urban_mobility/data/df_final_15min_NoNan_20250505.parquet')"
   ]
  },
  {
   "cell_type": "markdown",
   "id": "1114b740",
   "metadata": {},
   "source": [
    "# Gestion des données temporelles"
   ]
  },
  {
   "cell_type": "markdown",
   "id": "55617827",
   "metadata": {},
   "source": [
    "Afin de capturer les profils temporels dans le modèle, nous appliquons un clustering basé sur le jour de la semaine, le créneau horaire, les vacances et les jours fériés. Ce cluster reflète des schémas typiques de trafic et est ensuite utilisé comme variable d’entrée dans le modèle prédictif."
   ]
  },
  {
   "cell_type": "markdown",
   "id": "86e8b3d6",
   "metadata": {},
   "source": [
    "## Calcul des moyennes horaires par tronçon"
   ]
  },
  {
   "cell_type": "markdown",
   "id": "2433e630",
   "metadata": {},
   "source": [
    "Création d'une variable quarter_hour qui identifie chaque créneau de 15 minutes dans la journée, afin de capturer plus finement la variation temporelle du trafic dans le modèle."
   ]
  },
  {
   "cell_type": "code",
   "execution_count": null,
   "id": "946242ce",
   "metadata": {},
   "outputs": [],
   "source": [
    "df['quarter_hour'] = df['hour'] * 4 + df['minute'] // 15"
   ]
  },
  {
   "cell_type": "markdown",
   "id": "6daf6ba6",
   "metadata": {},
   "source": [
    "## Touver le nombre de cluster ideal"
   ]
  },
  {
   "cell_type": "code",
   "execution_count": 38,
   "id": "9287d2c1",
   "metadata": {},
   "outputs": [],
   "source": [
    "def find_best_k(df_t, max_k=10):\n",
    "    X = df_t[['weekday', 'quarter_hour', 'is_vacances', 'is_ferie']].copy()\n",
    "    X_scaled = StandardScaler().fit_transform(X)\n",
    "\n",
    "    best_score = -1\n",
    "    best_k = 2\n",
    "\n",
    "    for k in range(2, max_k + 1):\n",
    "        kmeans = KMeans(n_clusters=k, random_state=42, n_init='auto')\n",
    "        labels = kmeans.fit_predict(X_scaled)\n",
    "        score = silhouette_score(X_scaled, labels)\n",
    "\n",
    "        if score > best_score:\n",
    "            best_score = score\n",
    "            best_k = k\n",
    "\n",
    "    return best_k"
   ]
  },
  {
   "cell_type": "code",
   "execution_count": 39,
   "id": "ec327777",
   "metadata": {},
   "outputs": [
    {
     "name": "stderr",
     "output_type": "stream",
     "text": [
      "Recherche de k optimal: 100%|██████████| 200/200 [03:39<00:00,  1.10s/it]"
     ]
    },
    {
     "name": "stdout",
     "output_type": "stream",
     "text": [
      "Nombre optimal de clusters trouvé sur 200 tronçons : 8\n"
     ]
    },
    {
     "name": "stderr",
     "output_type": "stream",
     "text": [
      "\n"
     ]
    }
   ],
   "source": [
    "# Application sur un echantillon de 200 tronçons aléatoire\n",
    "troncons_sample = np.random.choice(df['troncon_enc'].unique(), size=200, replace=False)\n",
    "k_list = []\n",
    "\n",
    "for troncon in tqdm(troncons_sample, desc=\"Recherche de k optimal\"):\n",
    "    df_t = df[df['troncon_enc'] == troncon]\n",
    "    if len(df_t) >= 10: \n",
    "        k_opt = find_best_k(df_t, max_k=10)\n",
    "        k_list.append(k_opt)\n",
    "\n",
    "# Trouver la valeur la plus fréquente\n",
    "mode_k = Counter(k_list).most_common(1)[0][0]\n",
    "print(f\"Nombre optimal de clusters trouvé sur 200 tronçons : {mode_k}\")"
   ]
  },
  {
   "cell_type": "markdown",
   "id": "3ab4f80f",
   "metadata": {},
   "source": [
    "## Aggrégation"
   ]
  },
  {
   "cell_type": "markdown",
   "id": "6c94eaec",
   "metadata": {},
   "source": [
    "Réduit la granularité temporelle et avoir des profils plus stables et moins bruités, ce qui facilite le clustering et donne des clusters plus représentatifs."
   ]
  },
  {
   "cell_type": "code",
   "execution_count": 41,
   "id": "ce096fb3",
   "metadata": {},
   "outputs": [],
   "source": [
    "agg = df.groupby(['troncon_enc', 'weekday', 'quarter_hour', 'is_vacances', 'is_ferie']).agg({\n",
    "    'code_couleur': 'mean'\n",
    "}).reset_index()\n"
   ]
  },
  {
   "cell_type": "markdown",
   "id": "9a8b3a65",
   "metadata": {},
   "source": [
    "## Application du clustering"
   ]
  },
  {
   "cell_type": "code",
   "execution_count": 43,
   "id": "e6c66f56",
   "metadata": {},
   "outputs": [],
   "source": [
    "def compute_final_time_clusters(df_agg, n_clusters=5):\n",
    "    all_clusters = []\n",
    "\n",
    "    for troncon in tqdm(df_agg['troncon_enc'].unique(), desc=\"Clustering final par tronçon\"):\n",
    "        df_t = df_agg[df_agg['troncon_enc'] == troncon].copy()\n",
    "        X = df_t[['weekday', 'quarter_hour', 'is_vacances', 'is_ferie']]\n",
    "        X_scaled = StandardScaler().fit_transform(X)\n",
    "\n",
    "        kmeans = KMeans(n_clusters=n_clusters, random_state=42, n_init='auto')\n",
    "        df_t['time_cluster'] = kmeans.fit_predict(X_scaled)\n",
    "\n",
    "        all_clusters.append(df_t)\n",
    "\n",
    "    return pd.concat(all_clusters, ignore_index=True)\n"
   ]
  },
  {
   "cell_type": "code",
   "execution_count": 44,
   "id": "a51b4c85",
   "metadata": {},
   "outputs": [
    {
     "name": "stderr",
     "output_type": "stream",
     "text": [
      "Clustering final par tronçon: 100%|██████████| 749/749 [00:10<00:00, 74.71it/s]\n"
     ]
    }
   ],
   "source": [
    "# Application sur les données agrégées\n",
    "df_clusters = compute_final_time_clusters(agg, n_clusters=5)"
   ]
  },
  {
   "cell_type": "code",
   "execution_count": 45,
   "id": "206f9f29",
   "metadata": {},
   "outputs": [],
   "source": [
    "# Merge sur les colonnes clés temporelles et tronçon\n",
    "df_final = df.merge(\n",
    "    df_clusters[['troncon_enc', 'weekday', 'quarter_hour', 'is_vacances', 'is_ferie', 'time_cluster']],\n",
    "    on=['troncon_enc', 'weekday', 'quarter_hour', 'is_vacances', 'is_ferie'],\n",
    "    how='left'\n",
    ")"
   ]
  }
 ],
 "metadata": {
  "kernelspec": {
   "display_name": "Projet2",
   "language": "python",
   "name": "python3"
  },
  "language_info": {
   "codemirror_mode": {
    "name": "ipython",
    "version": 3
   },
   "file_extension": ".py",
   "mimetype": "text/x-python",
   "name": "python",
   "nbconvert_exporter": "python",
   "pygments_lexer": "ipython3",
   "version": "3.9.21"
  }
 },
 "nbformat": 4,
 "nbformat_minor": 5
}
