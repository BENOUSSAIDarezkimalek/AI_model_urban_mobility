{
 "cells": [
  {
   "cell_type": "markdown",
   "metadata": {},
   "source": [
    "# Import librairies"
   ]
  },
  {
   "cell_type": "code",
   "execution_count": null,
   "metadata": {},
   "outputs": [],
   "source": [
    "import pandas as pd\n",
    "import requests"
   ]
  },
  {
   "cell_type": "markdown",
   "metadata": {},
   "source": [
    "# Récupérer les vacances scolaires"
   ]
  },
  {
   "cell_type": "code",
   "execution_count": 213,
   "metadata": {},
   "outputs": [],
   "source": [
    "# URL de l'API des vacances scolaires\n",
    "url_vacances = \"https://data.education.gouv.fr/api/records/1.0/search/?dataset=fr-en-calendrier-scolaire&q=&rows=1000&sort=start_date&facet=zone&facet=description&facet=start_date&facet=end_date\"\n",
    "\n",
    "# Charger les données\n",
    "response = requests.get(url_vacances)\n",
    "if response.status_code == 200 :\n",
    "    data = response.json()\n",
    "    records = data['records']\n",
    "\n",
    "# Convertir en DataFrame\n",
    "df = pd.json_normalize(records)\n",
    "\n",
    "df.columns = df.columns.str.replace('^fields.', '', regex=True)\n",
    "\n",
    "# Filtrer la Zone B uniquement\n",
    "df_zone_b_nantes = df[(df['zones'] == 'Zone B') & (df['location'] == 'Nantes')].copy()\n",
    "\n",
    "# Filtrer années 2025 et 2026\n",
    "df_year_filtered = df_zone_b_nantes[(df_zone_b_nantes['annee_scolaire'] == '2024-2025') | (df_zone_b_nantes['annee_scolaire'] == '2025-2026')].copy()\n",
    "\n",
    "# Garder l'essentiel\n",
    "df_vacances = df_year_filtered[['start_date', 'end_date', 'location', 'annee_scolaire', 'description']].copy()\n",
    "df_vacances['end_date'] = pd.to_datetime(df_vacances['end_date']).dt.date\n",
    "df_vacances['start_date'] = pd.to_datetime(df_vacances['start_date']).dt.date\n"
   ]
  },
  {
   "cell_type": "code",
   "execution_count": 214,
   "metadata": {},
   "outputs": [
    {
     "data": {
      "text/html": [
       "<div>\n",
       "<style scoped>\n",
       "    .dataframe tbody tr th:only-of-type {\n",
       "        vertical-align: middle;\n",
       "    }\n",
       "\n",
       "    .dataframe tbody tr th {\n",
       "        vertical-align: top;\n",
       "    }\n",
       "\n",
       "    .dataframe thead th {\n",
       "        text-align: right;\n",
       "    }\n",
       "</style>\n",
       "<table border=\"1\" class=\"dataframe\">\n",
       "  <thead>\n",
       "    <tr style=\"text-align: right;\">\n",
       "      <th></th>\n",
       "      <th>start_date</th>\n",
       "      <th>end_date</th>\n",
       "      <th>location</th>\n",
       "      <th>annee_scolaire</th>\n",
       "      <th>description</th>\n",
       "    </tr>\n",
       "  </thead>\n",
       "  <tbody>\n",
       "    <tr>\n",
       "      <th>28</th>\n",
       "      <td>2026-07-03</td>\n",
       "      <td>2026-07-03</td>\n",
       "      <td>Nantes</td>\n",
       "      <td>2025-2026</td>\n",
       "      <td>Début des Vacances d'Été</td>\n",
       "    </tr>\n",
       "    <tr>\n",
       "      <th>58</th>\n",
       "      <td>2026-05-13</td>\n",
       "      <td>2026-05-17</td>\n",
       "      <td>Nantes</td>\n",
       "      <td>2025-2026</td>\n",
       "      <td>Pont de l'Ascension</td>\n",
       "    </tr>\n",
       "    <tr>\n",
       "      <th>79</th>\n",
       "      <td>2026-04-10</td>\n",
       "      <td>2026-04-26</td>\n",
       "      <td>Nantes</td>\n",
       "      <td>2025-2026</td>\n",
       "      <td>Vacances de Printemps</td>\n",
       "    </tr>\n",
       "    <tr>\n",
       "      <th>111</th>\n",
       "      <td>2026-02-13</td>\n",
       "      <td>2026-03-01</td>\n",
       "      <td>Nantes</td>\n",
       "      <td>2025-2026</td>\n",
       "      <td>Vacances d'Hiver</td>\n",
       "    </tr>\n",
       "    <tr>\n",
       "      <th>150</th>\n",
       "      <td>2025-12-19</td>\n",
       "      <td>2026-01-04</td>\n",
       "      <td>Nantes</td>\n",
       "      <td>2025-2026</td>\n",
       "      <td>Vacances de Noël</td>\n",
       "    </tr>\n",
       "  </tbody>\n",
       "</table>\n",
       "</div>"
      ],
      "text/plain": [
       "     start_date    end_date location annee_scolaire               description\n",
       "28   2026-07-03  2026-07-03   Nantes      2025-2026  Début des Vacances d'Été\n",
       "58   2026-05-13  2026-05-17   Nantes      2025-2026       Pont de l'Ascension\n",
       "79   2026-04-10  2026-04-26   Nantes      2025-2026     Vacances de Printemps\n",
       "111  2026-02-13  2026-03-01   Nantes      2025-2026          Vacances d'Hiver\n",
       "150  2025-12-19  2026-01-04   Nantes      2025-2026          Vacances de Noël"
      ]
     },
     "execution_count": 214,
     "metadata": {},
     "output_type": "execute_result"
    }
   ],
   "source": [
    "df_vacances.head()"
   ]
  },
  {
   "cell_type": "markdown",
   "metadata": {},
   "source": [
    "Faire une ligne par jour de vacances"
   ]
  },
  {
   "cell_type": "code",
   "execution_count": 215,
   "metadata": {},
   "outputs": [],
   "source": [
    "# On génère une colonne avec les plages de dates\n",
    "df_vacances['dates'] = df_vacances.apply(\n",
    "    lambda row: pd.date_range(start=row['start_date'], end=row['end_date']).tolist(),\n",
    "    axis=1\n",
    ")\n",
    "\n",
    "df_vacances_day_by_day = df_vacances.explode('dates')\n",
    "\n",
    "df_vacances_final = df_vacances_day_by_day[['dates', 'description']].reset_index(drop=True)\n"
   ]
  },
  {
   "cell_type": "code",
   "execution_count": 216,
   "metadata": {},
   "outputs": [
    {
     "data": {
      "text/html": [
       "<div>\n",
       "<style scoped>\n",
       "    .dataframe tbody tr th:only-of-type {\n",
       "        vertical-align: middle;\n",
       "    }\n",
       "\n",
       "    .dataframe tbody tr th {\n",
       "        vertical-align: top;\n",
       "    }\n",
       "\n",
       "    .dataframe thead th {\n",
       "        text-align: right;\n",
       "    }\n",
       "</style>\n",
       "<table border=\"1\" class=\"dataframe\">\n",
       "  <thead>\n",
       "    <tr style=\"text-align: right;\">\n",
       "      <th></th>\n",
       "      <th>dates</th>\n",
       "      <th>description</th>\n",
       "    </tr>\n",
       "  </thead>\n",
       "  <tbody>\n",
       "    <tr>\n",
       "      <th>0</th>\n",
       "      <td>2026-07-03</td>\n",
       "      <td>Début des Vacances d'Été</td>\n",
       "    </tr>\n",
       "    <tr>\n",
       "      <th>1</th>\n",
       "      <td>2026-05-13</td>\n",
       "      <td>Pont de l'Ascension</td>\n",
       "    </tr>\n",
       "    <tr>\n",
       "      <th>2</th>\n",
       "      <td>2026-05-14</td>\n",
       "      <td>Pont de l'Ascension</td>\n",
       "    </tr>\n",
       "    <tr>\n",
       "      <th>3</th>\n",
       "      <td>2026-05-15</td>\n",
       "      <td>Pont de l'Ascension</td>\n",
       "    </tr>\n",
       "    <tr>\n",
       "      <th>4</th>\n",
       "      <td>2026-05-16</td>\n",
       "      <td>Pont de l'Ascension</td>\n",
       "    </tr>\n",
       "  </tbody>\n",
       "</table>\n",
       "</div>"
      ],
      "text/plain": [
       "       dates               description\n",
       "0 2026-07-03  Début des Vacances d'Été\n",
       "1 2026-05-13       Pont de l'Ascension\n",
       "2 2026-05-14       Pont de l'Ascension\n",
       "3 2026-05-15       Pont de l'Ascension\n",
       "4 2026-05-16       Pont de l'Ascension"
      ]
     },
     "execution_count": 216,
     "metadata": {},
     "output_type": "execute_result"
    }
   ],
   "source": [
    "df_vacances_final.head()"
   ]
  },
  {
   "cell_type": "code",
   "execution_count": 218,
   "metadata": {},
   "outputs": [],
   "source": [
    "df_vacances_final['is_holiday'] = 1"
   ]
  },
  {
   "cell_type": "markdown",
   "metadata": {},
   "source": [
    "# Récupérer les jours feriés"
   ]
  },
  {
   "cell_type": "code",
   "execution_count": 219,
   "metadata": {},
   "outputs": [],
   "source": [
    "# Récupération des jours fériés\n",
    "fr_holidays = holidays.France(years=[2024,2025,2026])\n",
    "jours_feries_data = [{'dates': date, 'description': name} for date, name in sorted(fr_holidays.items())]\n",
    "df_feries = pd.DataFrame(jours_feries_data)"
   ]
  },
  {
   "cell_type": "code",
   "execution_count": 220,
   "metadata": {},
   "outputs": [
    {
     "name": "stdout",
     "output_type": "stream",
     "text": [
      "<class 'pandas.core.frame.DataFrame'>\n",
      "RangeIndex: 33 entries, 0 to 32\n",
      "Data columns (total 2 columns):\n",
      " #   Column       Non-Null Count  Dtype \n",
      "---  ------       --------------  ----- \n",
      " 0   dates        33 non-null     object\n",
      " 1   description  33 non-null     object\n",
      "dtypes: object(2)\n",
      "memory usage: 656.0+ bytes\n"
     ]
    }
   ],
   "source": [
    "df_feries.info()"
   ]
  },
  {
   "cell_type": "code",
   "execution_count": 221,
   "metadata": {},
   "outputs": [],
   "source": [
    "df_feries['is_public_holiday'] = 1"
   ]
  },
  {
   "cell_type": "markdown",
   "metadata": {},
   "source": [
    "# Récupérer les jours de week-end"
   ]
  },
  {
   "cell_type": "code",
   "execution_count": 222,
   "metadata": {},
   "outputs": [],
   "source": [
    "# Définir la période\n",
    "start_date = '2025-02-15'\n",
    "end_date = '2026-12-31'\n",
    "\n",
    "# Générer toutes les dates\n",
    "dates = pd.date_range(start=start_date, end=end_date, freq='D')\n",
    "\n",
    "# Filtrer uniquement les week-ends (samedi=5, dimanche=6)\n",
    "weekends = dates[dates.weekday >= 5]\n",
    "\n",
    "# Mettre dans un DataFrame\n",
    "df_weekends = pd.DataFrame({'dates': weekends})\n",
    "\n",
    "# Ajouter la colonne 'description' => \"Samedi\" ou \"Dimanche\"\n",
    "df_weekends['description'] = df_weekends['dates'].dt.weekday.map({5: 'Samedi', 6: 'Dimanche'})\n",
    "\n"
   ]
  },
  {
   "cell_type": "code",
   "execution_count": 223,
   "metadata": {},
   "outputs": [],
   "source": [
    "df_weekends['Saturday'] = df_weekends.apply(lambda x : 1 if x['description'] == 'Samedi' else 0, axis = 1)\n",
    "df_weekends['Sunday'] = df_weekends.apply(lambda x : 1 if x['description'] == 'Dimanche' else 0, axis = 1)"
   ]
  },
  {
   "cell_type": "code",
   "execution_count": 224,
   "metadata": {},
   "outputs": [
    {
     "data": {
      "text/html": [
       "<div>\n",
       "<style scoped>\n",
       "    .dataframe tbody tr th:only-of-type {\n",
       "        vertical-align: middle;\n",
       "    }\n",
       "\n",
       "    .dataframe tbody tr th {\n",
       "        vertical-align: top;\n",
       "    }\n",
       "\n",
       "    .dataframe thead th {\n",
       "        text-align: right;\n",
       "    }\n",
       "</style>\n",
       "<table border=\"1\" class=\"dataframe\">\n",
       "  <thead>\n",
       "    <tr style=\"text-align: right;\">\n",
       "      <th></th>\n",
       "      <th>dates</th>\n",
       "      <th>description</th>\n",
       "      <th>Saturday</th>\n",
       "      <th>Sunday</th>\n",
       "    </tr>\n",
       "  </thead>\n",
       "  <tbody>\n",
       "    <tr>\n",
       "      <th>0</th>\n",
       "      <td>2025-02-15</td>\n",
       "      <td>Samedi</td>\n",
       "      <td>1</td>\n",
       "      <td>0</td>\n",
       "    </tr>\n",
       "    <tr>\n",
       "      <th>1</th>\n",
       "      <td>2025-02-16</td>\n",
       "      <td>Dimanche</td>\n",
       "      <td>0</td>\n",
       "      <td>1</td>\n",
       "    </tr>\n",
       "    <tr>\n",
       "      <th>2</th>\n",
       "      <td>2025-02-22</td>\n",
       "      <td>Samedi</td>\n",
       "      <td>1</td>\n",
       "      <td>0</td>\n",
       "    </tr>\n",
       "    <tr>\n",
       "      <th>3</th>\n",
       "      <td>2025-02-23</td>\n",
       "      <td>Dimanche</td>\n",
       "      <td>0</td>\n",
       "      <td>1</td>\n",
       "    </tr>\n",
       "    <tr>\n",
       "      <th>4</th>\n",
       "      <td>2025-03-01</td>\n",
       "      <td>Samedi</td>\n",
       "      <td>1</td>\n",
       "      <td>0</td>\n",
       "    </tr>\n",
       "  </tbody>\n",
       "</table>\n",
       "</div>"
      ],
      "text/plain": [
       "       dates description  Saturday  Sunday\n",
       "0 2025-02-15      Samedi         1       0\n",
       "1 2025-02-16    Dimanche         0       1\n",
       "2 2025-02-22      Samedi         1       0\n",
       "3 2025-02-23    Dimanche         0       1\n",
       "4 2025-03-01      Samedi         1       0"
      ]
     },
     "execution_count": 224,
     "metadata": {},
     "output_type": "execute_result"
    }
   ],
   "source": [
    "df_weekends.head()"
   ]
  },
  {
   "cell_type": "markdown",
   "metadata": {},
   "source": [
    "# Grouper les dataset"
   ]
  },
  {
   "cell_type": "code",
   "execution_count": 225,
   "metadata": {},
   "outputs": [
    {
     "name": "stderr",
     "output_type": "stream",
     "text": [
      "<ipython-input-225-a2ba4baa897c>:8: FutureWarning: The behavior of 'isin' with dtype=datetime64[ns] and castable values (e.g. strings) is deprecated. In a future version, these will not be considered matching by isin. Explicitly cast to the appropriate dtype before calling isin instead.\n",
      "  calendrier['is_ferie'] = calendrier['dates'].isin(df_feries['dates']).astype(int)\n"
     ]
    }
   ],
   "source": [
    "\n",
    "# Construire le calendrier complet\n",
    "start_date = '2025-02-15'\n",
    "end_date = '2026-12-31'\n",
    "calendrier = pd.DataFrame({'dates': pd.date_range(start=start_date, end=end_date, freq='D')})\n",
    "\n",
    "# Ajouter les indicateurs\n",
    "calendrier['is_vacances'] = calendrier['dates'].isin(df_vacances_final['dates']).astype(int)\n",
    "calendrier['is_ferie'] = calendrier['dates'].isin(df_feries['dates']).astype(int)\n",
    "calendrier['is_samedi'] = (calendrier['dates'].dt.weekday == 5).astype(int)\n",
    "calendrier['is_dimanche'] = (calendrier['dates'].dt.weekday == 6).astype(int)\n"
   ]
  },
  {
   "cell_type": "code",
   "execution_count": 226,
   "metadata": {},
   "outputs": [],
   "source": [
    "calendrier['dates'] = pd.to_datetime(calendrier['dates'])"
   ]
  },
  {
   "cell_type": "code",
   "execution_count": 227,
   "metadata": {},
   "outputs": [
    {
     "name": "stdout",
     "output_type": "stream",
     "text": [
      "<class 'pandas.core.frame.DataFrame'>\n",
      "RangeIndex: 685 entries, 0 to 684\n",
      "Data columns (total 5 columns):\n",
      " #   Column       Non-Null Count  Dtype         \n",
      "---  ------       --------------  -----         \n",
      " 0   dates        685 non-null    datetime64[ns]\n",
      " 1   is_vacances  685 non-null    int64         \n",
      " 2   is_ferie     685 non-null    int64         \n",
      " 3   is_samedi    685 non-null    int64         \n",
      " 4   is_dimanche  685 non-null    int64         \n",
      "dtypes: datetime64[ns](1), int64(4)\n",
      "memory usage: 26.9 KB\n"
     ]
    }
   ],
   "source": [
    "calendrier.info()"
   ]
  },
  {
   "cell_type": "code",
   "execution_count": 228,
   "metadata": {},
   "outputs": [],
   "source": [
    "#calendrier.to_csv('data/preprocessed/weekend_holiday_public_holidays.csv', index=False)s"
   ]
  }
 ],
 "metadata": {
  "kernelspec": {
   "display_name": "Projet2",
   "language": "python",
   "name": "python3"
  },
  "language_info": {
   "codemirror_mode": {
    "name": "ipython",
    "version": 3
   },
   "file_extension": ".py",
   "mimetype": "text/x-python",
   "name": "python",
   "nbconvert_exporter": "python",
   "pygments_lexer": "ipython3",
   "version": "3.9.21"
  }
 },
 "nbformat": 4,
 "nbformat_minor": 2
}
