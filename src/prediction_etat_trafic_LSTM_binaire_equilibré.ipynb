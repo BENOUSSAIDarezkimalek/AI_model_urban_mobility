{
 "cells": [
  {
   "cell_type": "code",
   "execution_count": 1,
   "id": "292042f7",
   "metadata": {},
   "outputs": [],
   "source": [
    "import pandas as pd\n",
    "import numpy as np\n",
    "import matplotlib.pyplot as plt\n",
    "from sklearn.utils import class_weight\n",
    "from sklearn.preprocessing import MinMaxScaler\n",
    "from tensorflow.keras.models import Sequential\n",
    "from tensorflow.keras.layers import LSTM, Dense, Dropout\n",
    "from tensorflow.keras.utils import to_categorical\n",
    "from sklearn.metrics import classification_report, confusion_matrix\n",
    "import seaborn as sns"
   ]
  },
  {
   "cell_type": "code",
   "execution_count": 2,
   "id": "9b5daaf6",
   "metadata": {},
   "outputs": [],
   "source": [
    "link = '/Users/manu/Desktop/SUP/Projet 2/AI_model_urban_mobility/data/df_final_15min_NoNan_20250505.parquet'"
   ]
  },
  {
   "cell_type": "code",
   "execution_count": 3,
   "id": "8f9fc17f",
   "metadata": {},
   "outputs": [],
   "source": [
    "df_trafic = pd.read_parquet(link)"
   ]
  },
  {
   "cell_type": "code",
   "execution_count": 4,
   "id": "5a27296c",
   "metadata": {},
   "outputs": [],
   "source": [
    "df_prediction_taux_occupation = pd.read_csv('/Users/manu/Desktop/SUP/Projet 2/AI_model_urban_mobility/data/donnees_predictions/taux_occupation_predictions.csv')"
   ]
  },
  {
   "cell_type": "code",
   "execution_count": 5,
   "id": "68bb9d7a",
   "metadata": {},
   "outputs": [],
   "source": [
    "df_prediction_taux_occupation['heure_arrondie'] = pd.to_datetime(df_prediction_taux_occupation['heure_arrondie'])"
   ]
  },
  {
   "cell_type": "code",
   "execution_count": 6,
   "id": "3ffa3ba5",
   "metadata": {},
   "outputs": [],
   "source": [
    "df_trafic['heure_arrondie'] = pd.to_datetime(df_trafic['heure_arrondie'])\n",
    "cutoff_date = pd.to_datetime('2025-03-08')\n",
    "df_train = df_trafic[df_trafic['heure_arrondie'] < cutoff_date].copy()\n",
    "df_train = df_train.sort_values(by=['nom_du_troncon', 'heure_arrondie'])"
   ]
  },
  {
   "cell_type": "code",
   "execution_count": 7,
   "id": "6a37c2cf",
   "metadata": {},
   "outputs": [],
   "source": [
    "df_train['is_congested'] = df_train['etat_du_trafic'].apply(lambda x : 0 if x == 'Fluide' else 1)"
   ]
  },
  {
   "cell_type": "code",
   "execution_count": 8,
   "id": "29164f56",
   "metadata": {},
   "outputs": [],
   "source": [
    "df_test = pd.merge(\n",
    "    df_prediction_taux_occupation,\n",
    "    df_trafic,\n",
    "    on=['heure_arrondie', 'nom_du_troncon']\n",
    ")\n",
    "df_test = df_test.drop(columns='taux_occupation')\n",
    "df_test.rename(columns = {'taux_occupation_pred' : 'taux_occupation'}, inplace=True)\n",
    "df_test = df_test.sort_values(by=['nom_du_troncon', 'heure_arrondie'])\n",
    "df_test['is_congested'] = df_test['etat_du_trafic'].apply(lambda x : 0 if x == 'Fluide' else 1)"
   ]
  },
  {
   "cell_type": "code",
   "execution_count": 9,
   "id": "e00e14c1",
   "metadata": {},
   "outputs": [
    {
     "name": "stdout",
     "output_type": "stream",
     "text": [
      "Shape de X_train: (1377407, 4, 9)\n",
      "Shape de y_train: (1377407, 2)\n"
     ]
    }
   ],
   "source": [
    "# --- ÉTAPE 1 : PRÉPARATION DES DONNÉES ---\n",
    "\n",
    "# 1a. Sélection des features et de la cible\n",
    "features = ['taux_occupation', 'weekday', 'is_vacances', 'is_ferie', \n",
    "            'has_event_near_troncon', 'troncon_enc', 'temperature_2m', \n",
    "            'precipitation', 'visibility', 'wind_speed_10m']\n",
    "target = 'is_congested'\n",
    "\n",
    "# 1b. Encodage de la cible textuelle en numérique\n",
    "# 'Fluide' -> 0, 'Dense' -> 1, 'Saturé' -> 2, 'Bloqué' -> 3\n",
    "# label_encoder = LabelEncoder()\n",
    "# df_train['target_enc'] = label_encoder.fit_transform(df_train[target])\n",
    "# df_test['target_enc'] = label_encoder.transform(df_test[target]) # Utiliser le même encodeur\n",
    "N_CLASSES = 2\n",
    "\n",
    "# # Concaténer les features et la cible encodée pour la création des séquences\n",
    "# data_train_processed = pd.concat([df_train[features], df_train['target_enc']], axis=1)\n",
    "# data_test_processed = pd.concat([df_test[features], df_test['target_enc']], axis=1)\n",
    "\n",
    "# 1c. Mise à l'échelle (Scaling) des features\n",
    "scaler = MinMaxScaler()\n",
    "data_train_scaled = scaler.fit_transform(df_train[features])\n",
    "data_test_scaled = scaler.transform(df_test[features])\n",
    "\n",
    "# 1d. Création des séquences\n",
    "def create_classification_sequences(data, n_timesteps, n_classes):\n",
    "    X, y = [], []\n",
    "    for i in range(len(data) - n_timesteps):\n",
    "        X.append(data[i:(i + n_timesteps), :-1]) # Toutes les features, sauf la dernière colonne (cible)\n",
    "        y_index = int(data[i + n_timesteps, -1]) # La cible est la dernière colonne\n",
    "        y.append(y_index)\n",
    "    # One-hot encoding de la cible\n",
    "    return np.array(X), to_categorical(y, num_classes=n_classes)\n",
    "\n",
    "N_TIMESTEPS = 4 # 1h d'historique (4 * 15min)\n",
    "X_train, y_train = create_classification_sequences(data_train_scaled, N_TIMESTEPS, N_CLASSES)\n",
    "X_test, y_test = create_classification_sequences(data_test_scaled, N_TIMESTEPS, N_CLASSES)\n",
    "\n",
    "print(f\"Shape de X_train: {X_train.shape}\")\n",
    "print(f\"Shape de y_train: {y_train.shape}\") # La dernière dimension est le nombre de classes"
   ]
  },
  {
   "cell_type": "code",
   "execution_count": 10,
   "id": "c4a4e9ae",
   "metadata": {},
   "outputs": [
    {
     "name": "stderr",
     "output_type": "stream",
     "text": [
      "/Users/manu/opt/anaconda3/envs/Projet2/lib/python3.9/site-packages/keras/src/layers/rnn/rnn.py:199: UserWarning: Do not pass an `input_shape`/`input_dim` argument to a layer. When using Sequential models, prefer using an `Input(shape)` object as the first layer in the model instead.\n",
      "  super().__init__(**kwargs)\n"
     ]
    },
    {
     "data": {
      "text/html": [
       "<pre style=\"white-space:pre;overflow-x:auto;line-height:normal;font-family:Menlo,'DejaVu Sans Mono',consolas,'Courier New',monospace\"><span style=\"font-weight: bold\">Model: \"sequential\"</span>\n",
       "</pre>\n"
      ],
      "text/plain": [
       "\u001b[1mModel: \"sequential\"\u001b[0m\n"
      ]
     },
     "metadata": {},
     "output_type": "display_data"
    },
    {
     "data": {
      "text/html": [
       "<pre style=\"white-space:pre;overflow-x:auto;line-height:normal;font-family:Menlo,'DejaVu Sans Mono',consolas,'Courier New',monospace\">┏━━━━━━━━━━━━━━━━━━━━━━━━━━━━━━━━━┳━━━━━━━━━━━━━━━━━━━━━━━━┳━━━━━━━━━━━━━━━┓\n",
       "┃<span style=\"font-weight: bold\"> Layer (type)                    </span>┃<span style=\"font-weight: bold\"> Output Shape           </span>┃<span style=\"font-weight: bold\">       Param # </span>┃\n",
       "┡━━━━━━━━━━━━━━━━━━━━━━━━━━━━━━━━━╇━━━━━━━━━━━━━━━━━━━━━━━━╇━━━━━━━━━━━━━━━┩\n",
       "│ lstm (<span style=\"color: #0087ff; text-decoration-color: #0087ff\">LSTM</span>)                     │ (<span style=\"color: #00d7ff; text-decoration-color: #00d7ff\">None</span>, <span style=\"color: #00af00; text-decoration-color: #00af00\">4</span>, <span style=\"color: #00af00; text-decoration-color: #00af00\">50</span>)          │        <span style=\"color: #00af00; text-decoration-color: #00af00\">12,000</span> │\n",
       "├─────────────────────────────────┼────────────────────────┼───────────────┤\n",
       "│ dropout (<span style=\"color: #0087ff; text-decoration-color: #0087ff\">Dropout</span>)               │ (<span style=\"color: #00d7ff; text-decoration-color: #00d7ff\">None</span>, <span style=\"color: #00af00; text-decoration-color: #00af00\">4</span>, <span style=\"color: #00af00; text-decoration-color: #00af00\">50</span>)          │             <span style=\"color: #00af00; text-decoration-color: #00af00\">0</span> │\n",
       "├─────────────────────────────────┼────────────────────────┼───────────────┤\n",
       "│ lstm_1 (<span style=\"color: #0087ff; text-decoration-color: #0087ff\">LSTM</span>)                   │ (<span style=\"color: #00d7ff; text-decoration-color: #00d7ff\">None</span>, <span style=\"color: #00af00; text-decoration-color: #00af00\">50</span>)             │        <span style=\"color: #00af00; text-decoration-color: #00af00\">20,200</span> │\n",
       "├─────────────────────────────────┼────────────────────────┼───────────────┤\n",
       "│ dropout_1 (<span style=\"color: #0087ff; text-decoration-color: #0087ff\">Dropout</span>)             │ (<span style=\"color: #00d7ff; text-decoration-color: #00d7ff\">None</span>, <span style=\"color: #00af00; text-decoration-color: #00af00\">50</span>)             │             <span style=\"color: #00af00; text-decoration-color: #00af00\">0</span> │\n",
       "├─────────────────────────────────┼────────────────────────┼───────────────┤\n",
       "│ dense (<span style=\"color: #0087ff; text-decoration-color: #0087ff\">Dense</span>)                   │ (<span style=\"color: #00d7ff; text-decoration-color: #00d7ff\">None</span>, <span style=\"color: #00af00; text-decoration-color: #00af00\">2</span>)              │           <span style=\"color: #00af00; text-decoration-color: #00af00\">102</span> │\n",
       "└─────────────────────────────────┴────────────────────────┴───────────────┘\n",
       "</pre>\n"
      ],
      "text/plain": [
       "┏━━━━━━━━━━━━━━━━━━━━━━━━━━━━━━━━━┳━━━━━━━━━━━━━━━━━━━━━━━━┳━━━━━━━━━━━━━━━┓\n",
       "┃\u001b[1m \u001b[0m\u001b[1mLayer (type)                   \u001b[0m\u001b[1m \u001b[0m┃\u001b[1m \u001b[0m\u001b[1mOutput Shape          \u001b[0m\u001b[1m \u001b[0m┃\u001b[1m \u001b[0m\u001b[1m      Param #\u001b[0m\u001b[1m \u001b[0m┃\n",
       "┡━━━━━━━━━━━━━━━━━━━━━━━━━━━━━━━━━╇━━━━━━━━━━━━━━━━━━━━━━━━╇━━━━━━━━━━━━━━━┩\n",
       "│ lstm (\u001b[38;5;33mLSTM\u001b[0m)                     │ (\u001b[38;5;45mNone\u001b[0m, \u001b[38;5;34m4\u001b[0m, \u001b[38;5;34m50\u001b[0m)          │        \u001b[38;5;34m12,000\u001b[0m │\n",
       "├─────────────────────────────────┼────────────────────────┼───────────────┤\n",
       "│ dropout (\u001b[38;5;33mDropout\u001b[0m)               │ (\u001b[38;5;45mNone\u001b[0m, \u001b[38;5;34m4\u001b[0m, \u001b[38;5;34m50\u001b[0m)          │             \u001b[38;5;34m0\u001b[0m │\n",
       "├─────────────────────────────────┼────────────────────────┼───────────────┤\n",
       "│ lstm_1 (\u001b[38;5;33mLSTM\u001b[0m)                   │ (\u001b[38;5;45mNone\u001b[0m, \u001b[38;5;34m50\u001b[0m)             │        \u001b[38;5;34m20,200\u001b[0m │\n",
       "├─────────────────────────────────┼────────────────────────┼───────────────┤\n",
       "│ dropout_1 (\u001b[38;5;33mDropout\u001b[0m)             │ (\u001b[38;5;45mNone\u001b[0m, \u001b[38;5;34m50\u001b[0m)             │             \u001b[38;5;34m0\u001b[0m │\n",
       "├─────────────────────────────────┼────────────────────────┼───────────────┤\n",
       "│ dense (\u001b[38;5;33mDense\u001b[0m)                   │ (\u001b[38;5;45mNone\u001b[0m, \u001b[38;5;34m2\u001b[0m)              │           \u001b[38;5;34m102\u001b[0m │\n",
       "└─────────────────────────────────┴────────────────────────┴───────────────┘\n"
      ]
     },
     "metadata": {},
     "output_type": "display_data"
    },
    {
     "data": {
      "text/html": [
       "<pre style=\"white-space:pre;overflow-x:auto;line-height:normal;font-family:Menlo,'DejaVu Sans Mono',consolas,'Courier New',monospace\"><span style=\"font-weight: bold\"> Total params: </span><span style=\"color: #00af00; text-decoration-color: #00af00\">32,302</span> (126.18 KB)\n",
       "</pre>\n"
      ],
      "text/plain": [
       "\u001b[1m Total params: \u001b[0m\u001b[38;5;34m32,302\u001b[0m (126.18 KB)\n"
      ]
     },
     "metadata": {},
     "output_type": "display_data"
    },
    {
     "data": {
      "text/html": [
       "<pre style=\"white-space:pre;overflow-x:auto;line-height:normal;font-family:Menlo,'DejaVu Sans Mono',consolas,'Courier New',monospace\"><span style=\"font-weight: bold\"> Trainable params: </span><span style=\"color: #00af00; text-decoration-color: #00af00\">32,302</span> (126.18 KB)\n",
       "</pre>\n"
      ],
      "text/plain": [
       "\u001b[1m Trainable params: \u001b[0m\u001b[38;5;34m32,302\u001b[0m (126.18 KB)\n"
      ]
     },
     "metadata": {},
     "output_type": "display_data"
    },
    {
     "data": {
      "text/html": [
       "<pre style=\"white-space:pre;overflow-x:auto;line-height:normal;font-family:Menlo,'DejaVu Sans Mono',consolas,'Courier New',monospace\"><span style=\"font-weight: bold\"> Non-trainable params: </span><span style=\"color: #00af00; text-decoration-color: #00af00\">0</span> (0.00 B)\n",
       "</pre>\n"
      ],
      "text/plain": [
       "\u001b[1m Non-trainable params: \u001b[0m\u001b[38;5;34m0\u001b[0m (0.00 B)\n"
      ]
     },
     "metadata": {},
     "output_type": "display_data"
    }
   ],
   "source": [
    "# --- ÉTAPE 2 : CONSTRUCTION DU MODÈLE LSTM POUR LA CLASSIFICATION ---\n",
    "N_FEATURES = X_train.shape[2]\n",
    "\n",
    "model = Sequential()\n",
    "model.add(LSTM(units=50, return_sequences=True, input_shape=(N_TIMESTEPS, N_FEATURES)))\n",
    "model.add(Dropout(0.2))\n",
    "model.add(LSTM(units=50))\n",
    "model.add(Dropout(0.2))\n",
    "# MODIFICATION : Couche de sortie avec 4 neurones (1 par classe) et activation softmax\n",
    "model.add(Dense(units=N_CLASSES, activation='softmax'))\n",
    "\n",
    "# MODIFICATION : Compilation avec une 'loss' adaptée à la classification\n",
    "model.compile(optimizer='adam', loss='categorical_crossentropy', metrics=['accuracy'])\n",
    "model.summary()"
   ]
  },
  {
   "cell_type": "code",
   "execution_count": 11,
   "id": "1b42ea5f",
   "metadata": {},
   "outputs": [
    {
     "name": "stdout",
     "output_type": "stream",
     "text": [
      "Poids calculés pour les classes : {0: 1.0}\n"
     ]
    }
   ],
   "source": [
    "y_train_integers = np.argmax(y_train, axis=1)\n",
    "\n",
    "# Calculer les poids pour chaque classe (0 et 1)\n",
    "weights = class_weight.compute_class_weight(\n",
    "    class_weight='balanced',\n",
    "    classes=np.unique(y_train_integers),\n",
    "    y=y_train_integers\n",
    ")\n",
    "class_weights = dict(zip(np.unique(y_train_integers), weights))\n",
    "\n",
    "print(f\"Poids calculés pour les classes : {class_weights}\")\n"
   ]
  },
  {
   "cell_type": "code",
   "execution_count": 12,
   "id": "59da3d6b",
   "metadata": {},
   "outputs": [
    {
     "name": "stdout",
     "output_type": "stream",
     "text": [
      "\n",
      "Début de l'entraînement...\n",
      "Epoch 1/20\n",
      "\u001b[1m38740/38740\u001b[0m \u001b[32m━━━━━━━━━━━━━━━━━━━━\u001b[0m\u001b[37m\u001b[0m \u001b[1m155s\u001b[0m 4ms/step - accuracy: 0.9996 - loss: 0.0023 - val_accuracy: 1.0000 - val_loss: 0.0000e+00\n",
      "Epoch 2/20\n",
      "\u001b[1m38740/38740\u001b[0m \u001b[32m━━━━━━━━━━━━━━━━━━━━\u001b[0m\u001b[37m\u001b[0m \u001b[1m157s\u001b[0m 4ms/step - accuracy: 1.0000 - loss: 2.9512e-12 - val_accuracy: 1.0000 - val_loss: 0.0000e+00\n",
      "Epoch 3/20\n",
      "\u001b[1m38740/38740\u001b[0m \u001b[32m━━━━━━━━━━━━━━━━━━━━\u001b[0m\u001b[37m\u001b[0m \u001b[1m163s\u001b[0m 4ms/step - accuracy: 1.0000 - loss: 2.1893e-12 - val_accuracy: 1.0000 - val_loss: 0.0000e+00\n",
      "Epoch 4/20\n",
      "\u001b[1m38740/38740\u001b[0m \u001b[32m━━━━━━━━━━━━━━━━━━━━\u001b[0m\u001b[37m\u001b[0m \u001b[1m152s\u001b[0m 4ms/step - accuracy: 1.0000 - loss: 3.3759e-13 - val_accuracy: 1.0000 - val_loss: 0.0000e+00\n",
      "Epoch 5/20\n",
      "\u001b[1m38740/38740\u001b[0m \u001b[32m━━━━━━━━━━━━━━━━━━━━\u001b[0m\u001b[37m\u001b[0m \u001b[1m159s\u001b[0m 4ms/step - accuracy: 1.0000 - loss: 2.7644e-14 - val_accuracy: 1.0000 - val_loss: 0.0000e+00\n",
      "Epoch 6/20\n",
      "\u001b[1m38740/38740\u001b[0m \u001b[32m━━━━━━━━━━━━━━━━━━━━\u001b[0m\u001b[37m\u001b[0m \u001b[1m165s\u001b[0m 4ms/step - accuracy: 1.0000 - loss: 5.9159e-14 - val_accuracy: 1.0000 - val_loss: 0.0000e+00\n",
      "Epoch 7/20\n",
      "\u001b[1m38740/38740\u001b[0m \u001b[32m━━━━━━━━━━━━━━━━━━━━\u001b[0m\u001b[37m\u001b[0m \u001b[1m164s\u001b[0m 4ms/step - accuracy: 1.0000 - loss: 1.8133e-13 - val_accuracy: 1.0000 - val_loss: 0.0000e+00\n",
      "Epoch 8/20\n",
      "\u001b[1m38740/38740\u001b[0m \u001b[32m━━━━━━━━━━━━━━━━━━━━\u001b[0m\u001b[37m\u001b[0m \u001b[1m160s\u001b[0m 4ms/step - accuracy: 1.0000 - loss: 1.4551e-13 - val_accuracy: 1.0000 - val_loss: 0.0000e+00\n",
      "Epoch 9/20\n",
      "\u001b[1m38740/38740\u001b[0m \u001b[32m━━━━━━━━━━━━━━━━━━━━\u001b[0m\u001b[37m\u001b[0m \u001b[1m159s\u001b[0m 4ms/step - accuracy: 1.0000 - loss: 1.4428e-13 - val_accuracy: 1.0000 - val_loss: 0.0000e+00\n",
      "Epoch 10/20\n",
      "\u001b[1m38740/38740\u001b[0m \u001b[32m━━━━━━━━━━━━━━━━━━━━\u001b[0m\u001b[37m\u001b[0m \u001b[1m158s\u001b[0m 4ms/step - accuracy: 1.0000 - loss: 0.0000e+00 - val_accuracy: 1.0000 - val_loss: 0.0000e+00\n",
      "Epoch 11/20\n",
      "\u001b[1m38740/38740\u001b[0m \u001b[32m━━━━━━━━━━━━━━━━━━━━\u001b[0m\u001b[37m\u001b[0m \u001b[1m178s\u001b[0m 5ms/step - accuracy: 1.0000 - loss: 0.0000e+00 - val_accuracy: 1.0000 - val_loss: 0.0000e+00\n",
      "Epoch 12/20\n",
      "\u001b[1m38740/38740\u001b[0m \u001b[32m━━━━━━━━━━━━━━━━━━━━\u001b[0m\u001b[37m\u001b[0m \u001b[1m174s\u001b[0m 4ms/step - accuracy: 1.0000 - loss: 4.8023e-14 - val_accuracy: 1.0000 - val_loss: 0.0000e+00\n",
      "Epoch 13/20\n",
      "\u001b[1m38740/38740\u001b[0m \u001b[32m━━━━━━━━━━━━━━━━━━━━\u001b[0m\u001b[37m\u001b[0m \u001b[1m192s\u001b[0m 5ms/step - accuracy: 1.0000 - loss: 0.0000e+00 - val_accuracy: 1.0000 - val_loss: 0.0000e+00\n",
      "Epoch 14/20\n",
      "\u001b[1m38740/38740\u001b[0m \u001b[32m━━━━━━━━━━━━━━━━━━━━\u001b[0m\u001b[37m\u001b[0m \u001b[1m179s\u001b[0m 5ms/step - accuracy: 1.0000 - loss: 6.3879e-15 - val_accuracy: 1.0000 - val_loss: 0.0000e+00\n",
      "Epoch 15/20\n",
      "\u001b[1m38740/38740\u001b[0m \u001b[32m━━━━━━━━━━━━━━━━━━━━\u001b[0m\u001b[37m\u001b[0m \u001b[1m186s\u001b[0m 5ms/step - accuracy: 1.0000 - loss: 0.0000e+00 - val_accuracy: 1.0000 - val_loss: 0.0000e+00\n",
      "Epoch 16/20\n",
      "\u001b[1m38740/38740\u001b[0m \u001b[32m━━━━━━━━━━━━━━━━━━━━\u001b[0m\u001b[37m\u001b[0m \u001b[1m178s\u001b[0m 5ms/step - accuracy: 1.0000 - loss: 0.0000e+00 - val_accuracy: 1.0000 - val_loss: 0.0000e+00\n",
      "Epoch 17/20\n",
      "\u001b[1m38740/38740\u001b[0m \u001b[32m━━━━━━━━━━━━━━━━━━━━\u001b[0m\u001b[37m\u001b[0m \u001b[1m180s\u001b[0m 5ms/step - accuracy: 1.0000 - loss: 0.0000e+00 - val_accuracy: 1.0000 - val_loss: 0.0000e+00\n",
      "Epoch 18/20\n",
      "\u001b[1m38740/38740\u001b[0m \u001b[32m━━━━━━━━━━━━━━━━━━━━\u001b[0m\u001b[37m\u001b[0m \u001b[1m177s\u001b[0m 5ms/step - accuracy: 1.0000 - loss: 0.0000e+00 - val_accuracy: 1.0000 - val_loss: 0.0000e+00\n",
      "Epoch 19/20\n",
      "\u001b[1m38740/38740\u001b[0m \u001b[32m━━━━━━━━━━━━━━━━━━━━\u001b[0m\u001b[37m\u001b[0m \u001b[1m180s\u001b[0m 5ms/step - accuracy: 1.0000 - loss: 0.0000e+00 - val_accuracy: 1.0000 - val_loss: 0.0000e+00\n",
      "Epoch 20/20\n",
      "\u001b[1m38740/38740\u001b[0m \u001b[32m━━━━━━━━━━━━━━━━━━━━\u001b[0m\u001b[37m\u001b[0m \u001b[1m184s\u001b[0m 5ms/step - accuracy: 1.0000 - loss: 0.0000e+00 - val_accuracy: 1.0000 - val_loss: 0.0000e+00\n"
     ]
    }
   ],
   "source": [
    "# --- ÉTAPE 3 : ENTRAÎNEMENT DU MODÈLE ---\n",
    "print(\"\\nDébut de l'entraînement...\")\n",
    "history = model.fit(X_train, y_train, epochs=20, batch_size=32, validation_split=0.1, verbose=1, class_weight=class_weights )"
   ]
  },
  {
   "cell_type": "code",
   "execution_count": 14,
   "id": "1d9da377",
   "metadata": {},
   "outputs": [
    {
     "name": "stdout",
     "output_type": "stream",
     "text": [
      "\n",
      "Évaluation sur le jeu de test...\n",
      "\u001b[1m13482/13482\u001b[0m \u001b[32m━━━━━━━━━━━━━━━━━━━━\u001b[0m\u001b[37m\u001b[0m \u001b[1m21s\u001b[0m 2ms/step\n",
      "--- Rapport de Classification ---\n",
      "              precision    recall  f1-score   support\n",
      "\n",
      "      Fluide       1.00      1.00      1.00    431420\n",
      "  Non_fluide       0.00      0.00      0.00         0\n",
      "\n",
      "    accuracy                           1.00    431420\n",
      "   macro avg       0.50      0.50      0.50    431420\n",
      "weighted avg       1.00      1.00      1.00    431420\n",
      "\n",
      "\n",
      "--- Matrice de Confusion ---\n"
     ]
    },
    {
     "data": {
      "image/png": "[encoded data removed]",
      "text/plain": [
       "<Figure size 576x432 with 2 Axes>"
      ]
     },
     "metadata": {
      "needs_background": "light"
     },
     "output_type": "display_data"
    }
   ],
   "source": [
    "\n",
    "# --- ÉTAPE 4 : PRÉDICTION ET ÉVALUATION ---\n",
    "print(\"\\nÉvaluation sur le jeu de test...\")\n",
    "# La prédiction donne des probabilités pour chaque classe\n",
    "predictions_proba = model.predict(X_test)\n",
    "\n",
    "# Pour obtenir la classe prédite, on prend l'index de la probabilité la plus élevée\n",
    "y_pred_classes = np.argmax(predictions_proba, axis=1)\n",
    "\n",
    "# On doit aussi récupérer les vraies classes (non one-hot-encodées) pour la comparaison\n",
    "y_true_classes = np.argmax(y_test, axis=1)\n",
    "\n",
    "# Afficher le rapport de classification\n",
    "target_names = ['Fluide','Non_fluide']\n",
    "\n",
    "# La liste des index numériques correspondants\n",
    "# ex: [0, 1, 2, 3]\n",
    "labels_numeriques = range(N_CLASSES) \n",
    "\n",
    "# Afficher le rapport de classification en forçant tous les labels\n",
    "print(\"--- Rapport de Classification ---\")\n",
    "# J'ajoute 'zero_division=0' pour éviter un avertissement si une classe n'a aucun vrai échantillon\n",
    "print(classification_report(y_true_classes, y_pred_classes, \n",
    "                            labels=labels_numeriques, \n",
    "                            target_names=target_names, \n",
    "                            zero_division=0))\n",
    "\n",
    "# Afficher la matrice de confusion en forçant tous les labels\n",
    "print(\"\\n--- Matrice de Confusion ---\")\n",
    "# Cela garantit que la matrice cm sera toujours de taille 4x4\n",
    "cm = confusion_matrix(y_true_classes, y_pred_classes, labels=labels_numeriques)\n",
    "\n",
    "plt.figure(figsize=(8, 6))\n",
    "# Le code d'affichage est bon car il utilise déjà target_names\n",
    "sns.heatmap(cm, annot=True, fmt='d', cmap='Blues', \n",
    "            xticklabels=target_names, yticklabels=target_names)\n",
    "plt.title('Matrice de Confusion - Modèle LSTM')\n",
    "plt.ylabel('Vraie classe')\n",
    "plt.xlabel('Classe prédite')\n",
    "plt.show()"
   ]
  }
 ],
 "metadata": {
  "kernelspec": {
   "display_name": "Projet2",
   "language": "python",
   "name": "python3"
  },
  "language_info": {
   "codemirror_mode": {
    "name": "ipython",
    "version": 3
   },
   "file_extension": ".py",
   "mimetype": "text/x-python",
   "name": "python",
   "nbconvert_exporter": "python",
   "pygments_lexer": "ipython3",
   "version": "3.9.21"
  }
 },
 "nbformat": 4,
 "nbformat_minor": 5
}
