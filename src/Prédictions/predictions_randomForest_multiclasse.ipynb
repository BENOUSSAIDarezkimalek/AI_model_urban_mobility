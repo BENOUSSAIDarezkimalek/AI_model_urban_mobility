{
 "cells": [
  {
   "cell_type": "code",
   "execution_count": 1,
   "id": "9045235e",
   "metadata": {},
   "outputs": [],
   "source": [
    "import pandas as pd\n",
    "from datetime import date\n",
    "from sklearn.ensemble import RandomForestClassifier\n",
    "import numpy as np\n",
    "from sklearn.metrics import classification_report, confusion_matrix\n",
    "import seaborn as sns\n",
    "import matplotlib.pyplot as plt\n"
   ]
  },
  {
   "cell_type": "code",
   "execution_count": 2,
   "id": "5672ddb8",
   "metadata": {},
   "outputs": [],
   "source": [
    "df_global = pd.read_parquet('/Users/manu/Desktop/SUP/Projet 2/AI_model_urban_mobility/data/df_final_15min_NoNan_20250505.parquet')"
   ]
  },
  {
   "cell_type": "code",
   "execution_count": 3,
   "id": "181cdf8b",
   "metadata": {},
   "outputs": [],
   "source": [
    "df_prediction_taux_occupation = pd.read_csv('/Users/manu/Desktop/SUP/Projet 2/AI_model_urban_mobility/data/donnees_predictions/taux_occupation_predictions.csv')"
   ]
  },
  {
   "cell_type": "code",
   "execution_count": 4,
   "id": "71bde21f",
   "metadata": {},
   "outputs": [
    {
     "data": {
      "text/plain": [
       "431424"
      ]
     },
     "execution_count": 4,
     "metadata": {},
     "output_type": "execute_result"
    }
   ],
   "source": [
    "len(df_prediction_taux_occupation)"
   ]
  },
  {
   "cell_type": "code",
   "execution_count": 5,
   "id": "d5ab7843",
   "metadata": {},
   "outputs": [
    {
     "data": {
      "text/plain": [
       "Index(['heure_arrondie', 'nom_du_troncon', 'taux_occupation_reel',\n",
       "       'taux_occupation_pred'],\n",
       "      dtype='object')"
      ]
     },
     "execution_count": 5,
     "metadata": {},
     "output_type": "execute_result"
    }
   ],
   "source": [
    "df_prediction_taux_occupation.columns"
   ]
  },
  {
   "cell_type": "code",
   "execution_count": 6,
   "id": "129e37db",
   "metadata": {},
   "outputs": [],
   "source": [
    "df_global['heure_arrondie'] = pd.to_datetime(df_global['heure_arrondie'])\n",
    "df_prediction_taux_occupation['heure_arrondie'] = pd.to_datetime(df_prediction_taux_occupation['heure_arrondie'])\n",
    "cutoff_date = pd.to_datetime('2025-03-08')\n",
    "\n",
    "train_df = df_global[df_global['heure_arrondie'] < cutoff_date].copy()"
   ]
  },
  {
   "cell_type": "code",
   "execution_count": 7,
   "id": "a321418b",
   "metadata": {},
   "outputs": [],
   "source": [
    "train_df['code_couleur'] = train_df['code_couleur'].astype('int')"
   ]
  },
  {
   "cell_type": "code",
   "execution_count": 8,
   "id": "7c4d7fc6",
   "metadata": {},
   "outputs": [],
   "source": [
    "test_df = pd.merge(\n",
    "    df_prediction_taux_occupation,\n",
    "    df_global,\n",
    "    on=['heure_arrondie', 'nom_du_troncon']\n",
    ")"
   ]
  },
  {
   "cell_type": "code",
   "execution_count": 9,
   "id": "89907cc9",
   "metadata": {},
   "outputs": [],
   "source": [
    "# Selection des variables explicatives\n",
    "feature_cols_train = ['taux_occupation', 'weekday', 'hour', 'minute','is_vacances', 'is_ferie', 'has_event_near_troncon', 'troncon_enc', 'temperature_2m', 'precipitation', 'visibility','wind_speed_10m']\n",
    "feature_cols_test = ['taux_occupation_pred', 'weekday', 'hour', 'minute','is_vacances', 'is_ferie', 'has_event_near_troncon', 'troncon_enc', 'temperature_2m', 'precipitation', 'visibility','wind_speed_10m']\n",
    "target_col = 'code_couleur'"
   ]
  },
  {
   "cell_type": "code",
   "execution_count": 10,
   "id": "1ee691f3",
   "metadata": {},
   "outputs": [],
   "source": [
    "X_train = train_df[feature_cols_train]\n",
    "X_test = test_df[feature_cols_test]\n",
    "y_train = train_df['code_couleur']"
   ]
  },
  {
   "cell_type": "code",
   "execution_count": 11,
   "id": "c0c1a12c",
   "metadata": {},
   "outputs": [
    {
     "name": "stderr",
     "output_type": "stream",
     "text": [
      "<ipython-input-11-1835cdae1e2d>:1: SettingWithCopyWarning: \n",
      "A value is trying to be set on a copy of a slice from a DataFrame\n",
      "\n",
      "See the caveats in the documentation: https://pandas.pydata.org/pandas-docs/stable/user_guide/indexing.html#returning-a-view-versus-a-copy\n",
      "  X_test.rename(columns = {'taux_occupation_pred' : 'taux_occupation'}, inplace=True)\n"
     ]
    }
   ],
   "source": [
    "X_test.rename(columns = {'taux_occupation_pred' : 'taux_occupation'}, inplace=True)"
   ]
  },
  {
   "cell_type": "code",
   "execution_count": 12,
   "id": "082bf1c1",
   "metadata": {},
   "outputs": [
    {
     "name": "stdout",
     "output_type": "stream",
     "text": [
      "Entraînement du modèle\n",
      "Modèle entraîné.\n"
     ]
    }
   ],
   "source": [
    "# --- Entraînement du modèle ---\n",
    "print(\"Entraînement du modèle\")\n",
    "model = RandomForestClassifier(\n",
    "    n_estimators=100, class_weight='balanced', random_state=42, n_jobs=-1\n",
    ")\n",
    "model.fit(X_train, y_train)\n",
    "print(\"Modèle entraîné.\")"
   ]
  },
  {
   "cell_type": "code",
   "execution_count": 13,
   "id": "a1cbc6ed",
   "metadata": {},
   "outputs": [
    {
     "name": "stderr",
     "output_type": "stream",
     "text": [
      "<ipython-input-13-f4e787ce60d4>:2: SettingWithCopyWarning: \n",
      "A value is trying to be set on a copy of a slice from a DataFrame.\n",
      "Try using .loc[row_indexer,col_indexer] = value instead\n",
      "\n",
      "See the caveats in the documentation: https://pandas.pydata.org/pandas-docs/stable/user_guide/indexing.html#returning-a-view-versus-a-copy\n",
      "  X_test['code_couleur_predit'] = y_pred\n"
     ]
    }
   ],
   "source": [
    "y_pred = model.predict(X_test)\n",
    "X_test['code_couleur_predit'] = y_pred"
   ]
  },
  {
   "cell_type": "code",
   "execution_count": 14,
   "id": "bf5d3068",
   "metadata": {},
   "outputs": [],
   "source": [
    "y_true = test_df['code_couleur']"
   ]
  },
  {
   "cell_type": "code",
   "execution_count": 15,
   "id": "203948c1",
   "metadata": {},
   "outputs": [
    {
     "name": "stdout",
     "output_type": "stream",
     "text": [
      "\n",
      "--- Rapport de Classification ---\n",
      "Analyse de la performance pour chaque code couleur :\n",
      "              precision    recall  f1-score   support\n",
      "\n",
      "         3.0       0.99      0.99      0.99    422099\n",
      "         4.0       0.18      0.18      0.18      4501\n",
      "         5.0       0.16      0.13      0.14      2139\n",
      "         6.0       0.37      0.16      0.22      2685\n",
      "\n",
      "    accuracy                           0.97    431424\n",
      "   macro avg       0.42      0.36      0.38    431424\n",
      "weighted avg       0.97      0.97      0.97    431424\n",
      "\n",
      "\n",
      "--- Matrice de Confusion ---\n",
      "Visualisation des erreurs de classification :\n"
     ]
    },
    {
     "data": {
      "image/png": "[encoded data removed]",
      "text/plain": [
       "<Figure size 576x432 with 2 Axes>"
      ]
     },
     "metadata": {
      "needs_background": "light"
     },
     "output_type": "display_data"
    }
   ],
   "source": [
    "# Générer et afficher le Rapport de Classification\n",
    "print(\"\\n--- Rapport de Classification ---\")\n",
    "print(\"Analyse de la performance pour chaque code couleur :\")\n",
    "print(classification_report(y_true, y_pred))\n",
    "\n",
    "\n",
    "# Matrice de confusion\n",
    "print(\"\\n--- Matrice de Confusion ---\")\n",
    "print(\"Visualisation des erreurs de classification :\")\n",
    "\n",
    "labels = sorted(y_true.astype(int).unique())\n",
    "\n",
    "cm = confusion_matrix(y_true, y_pred, labels=labels)\n",
    "\n",
    "# Affichage \n",
    "plt.figure(figsize=(8, 6)) \n",
    "sns.heatmap(cm, annot=True, fmt='d', cmap='Blues', \n",
    "            xticklabels=labels, yticklabels=labels)\n",
    "plt.title('Matrice de Confusion')\n",
    "plt.ylabel('Vraie classe (Code Couleur Réel)')\n",
    "plt.xlabel('Classe prédite (Code Couleur Prédit)')\n",
    "plt.show()"
   ]
  }
 ],
 "metadata": {
  "kernelspec": {
   "display_name": "Projet2",
   "language": "python",
   "name": "python3"
  },
  "language_info": {
   "codemirror_mode": {
    "name": "ipython",
    "version": 3
   },
   "file_extension": ".py",
   "mimetype": "text/x-python",
   "name": "python",
   "nbconvert_exporter": "python",
   "pygments_lexer": "ipython3",
   "version": "3.9.21"
  }
 },
 "nbformat": 4,
 "nbformat_minor": 5
}
