{
 "cells": [
  {
   "cell_type": "markdown",
   "id": "2269819a",
   "metadata": {},
   "source": [
    "# Import des librairies"
   ]
  },
  {
   "cell_type": "code",
   "execution_count": 15,
   "id": "292042f7",
   "metadata": {},
   "outputs": [],
   "source": [
    "import pandas as pd\n",
    "import numpy as np\n",
    "import matplotlib.pyplot as plt\n",
    "from sklearn.utils import class_weight\n",
    "from sklearn.preprocessing import MinMaxScaler\n",
    "from tensorflow.keras.models import Sequential\n",
    "from tensorflow.keras.layers import LSTM, Dense, Dropout\n",
    "from tensorflow.keras.utils import to_categorical\n",
    "from sklearn.metrics import classification_report, confusion_matrix\n",
    "import seaborn as sns"
   ]
  },
  {
   "cell_type": "markdown",
   "id": "25d619c9",
   "metadata": {},
   "source": [
    "# Import dataset"
   ]
  },
  {
   "cell_type": "code",
   "execution_count": 16,
   "id": "9b5daaf6",
   "metadata": {},
   "outputs": [],
   "source": [
    "link = '/Users/manu/Desktop/SUP/Projet 2/AI_model_urban_mobility/data/df_final_15min_NoNan_20250505.parquet'"
   ]
  },
  {
   "cell_type": "code",
   "execution_count": 17,
   "id": "8f9fc17f",
   "metadata": {},
   "outputs": [],
   "source": [
    "df_trafic = pd.read_parquet(link)"
   ]
  },
  {
   "cell_type": "code",
   "execution_count": 18,
   "id": "5a27296c",
   "metadata": {},
   "outputs": [],
   "source": [
    "df_prediction_taux_occupation = pd.read_csv('/Users/manu/Desktop/SUP/Projet 2/AI_model_urban_mobility/data/donnees_predictions/taux_occupation_predictions.csv')"
   ]
  },
  {
   "cell_type": "markdown",
   "id": "680947c9",
   "metadata": {},
   "source": [
    "# Preprocessing"
   ]
  },
  {
   "cell_type": "code",
   "execution_count": 19,
   "id": "68bb9d7a",
   "metadata": {},
   "outputs": [],
   "source": [
    "df_prediction_taux_occupation['heure_arrondie'] = pd.to_datetime(df_prediction_taux_occupation['heure_arrondie'])"
   ]
  },
  {
   "cell_type": "code",
   "execution_count": 20,
   "id": "3ffa3ba5",
   "metadata": {},
   "outputs": [],
   "source": [
    "df_trafic['heure_arrondie'] = pd.to_datetime(df_trafic['heure_arrondie'])\n",
    "cutoff_date = pd.to_datetime('2025-03-08')\n",
    "df_train = df_trafic[df_trafic['heure_arrondie'] < cutoff_date].copy()\n",
    "df_train = df_train.sort_values(by=['nom_du_troncon', 'heure_arrondie'])"
   ]
  },
  {
   "cell_type": "code",
   "execution_count": 21,
   "id": "31ba722a",
   "metadata": {},
   "outputs": [
    {
     "data": {
      "text/plain": [
       "etat_du_trafic\n",
       "Fluide    1344492\n",
       "Dense       16485\n",
       "Bloqué       9108\n",
       "Saturé       7326\n",
       "Name: count, dtype: int64"
      ]
     },
     "execution_count": 21,
     "metadata": {},
     "output_type": "execute_result"
    }
   ],
   "source": [
    "df_train['etat_du_trafic'].value_counts()"
   ]
  },
  {
   "cell_type": "code",
   "execution_count": 22,
   "id": "6a37c2cf",
   "metadata": {},
   "outputs": [],
   "source": [
    "df_train['is_congested'] = df_train['etat_du_trafic'].apply(lambda x : 0 if x == 'Fluide' else 1)"
   ]
  },
  {
   "cell_type": "code",
   "execution_count": 23,
   "id": "1ce147fd",
   "metadata": {},
   "outputs": [
    {
     "data": {
      "text/plain": [
       "is_congested\n",
       "0    1344492\n",
       "1      32919\n",
       "Name: count, dtype: int64"
      ]
     },
     "execution_count": 23,
     "metadata": {},
     "output_type": "execute_result"
    }
   ],
   "source": [
    "df_train['is_congested'].value_counts()"
   ]
  },
  {
   "cell_type": "code",
   "execution_count": 25,
   "id": "29164f56",
   "metadata": {},
   "outputs": [],
   "source": [
    "df_test = pd.merge(\n",
    "    df_prediction_taux_occupation,\n",
    "    df_trafic,\n",
    "    on=['heure_arrondie', 'nom_du_troncon']\n",
    ")\n",
    "df_test = df_test.drop(columns='taux_occupation')\n",
    "df_test.rename(columns = {'taux_occupation_pred' : 'taux_occupation'}, inplace=True)\n",
    "df_test = df_test.sort_values(by=['nom_du_troncon', 'heure_arrondie'])\n",
    "df_test['is_congested'] = df_test['etat_du_trafic'].apply(lambda x : 0 if x == 'Fluide' else 1)"
   ]
  },
  {
   "cell_type": "code",
   "execution_count": 27,
   "id": "56a6ca58",
   "metadata": {},
   "outputs": [
    {
     "data": {
      "text/plain": [
       "is_congested\n",
       "0    422099\n",
       "1      9325\n",
       "Name: count, dtype: int64"
      ]
     },
     "execution_count": 27,
     "metadata": {},
     "output_type": "execute_result"
    }
   ],
   "source": [
    "df_test['is_congested'].value_counts()"
   ]
  },
  {
   "cell_type": "markdown",
   "id": "3a914be5",
   "metadata": {},
   "source": [
    "# Modèle de prédiction"
   ]
  },
  {
   "cell_type": "code",
   "execution_count": null,
   "id": "e00e14c1",
   "metadata": {},
   "outputs": [
    {
     "name": "stdout",
     "output_type": "stream",
     "text": [
      "Shape de X_train après correction: (1377407, 4, 10)\n",
      "Shape de y_train après correction: (1377407, 2)\n"
     ]
    }
   ],
   "source": [
    "# --- Préprocessing (suite) ---\n",
    "\n",
    "# Sélection des features et de la cible\n",
    "features = ['taux_occupation', 'weekday', 'is_vacances', 'is_ferie', \n",
    "            'has_event_near_troncon', 'troncon_enc', 'temperature_2m', \n",
    "            'precipitation', 'visibility', 'wind_speed_10m']\n",
    "target = 'is_congested'\n",
    "\n",
    "N_CLASSES = 2\n",
    "\n",
    "#  Mise à l'échelle des features\n",
    "scaler = MinMaxScaler()\n",
    "features_train_scaled = scaler.fit_transform(df_train[features])\n",
    "features_test_scaled = scaler.transform(df_test[features])\n",
    "\n",
    "# Combiner les features scalées et la cible AVANT de créer les séquences\n",
    "# On transforme la colonne cible en array 2D pour la concaténation\n",
    "target_train_reshaped = df_train[target].values.reshape(-1, 1)\n",
    "target_test_reshaped = df_test[target].values.reshape(-1, 1)\n",
    "\n",
    "# Concaténer avec numpy : features d'abord, cible à la fin\n",
    "data_train_processed = np.hstack([features_train_scaled, target_train_reshaped])\n",
    "data_test_processed = np.hstack([features_test_scaled, target_test_reshaped])\n",
    "\n",
    "\n",
    "# Création des séquences\n",
    "def create_classification_sequences(data, n_timesteps):\n",
    "    X, y = [], []\n",
    "    n_features = data.shape[1] - 1 \n",
    "    for i in range(len(data) - n_timesteps):\n",
    "        X.append(data[i:(i + n_timesteps), :n_features]) \n",
    "        y_index = int(data[i + n_timesteps, -1]) \n",
    "        y.append(y_index)\n",
    "    \n",
    "    return np.array(X), to_categorical(y, num_classes=N_CLASSES)\n",
    "\n",
    "N_TIMESTEPS = 4 \n",
    "X_train, y_train = create_classification_sequences(data_train_processed, N_TIMESTEPS)\n",
    "X_test, y_test = create_classification_sequences(data_test_processed, N_TIMESTEPS)\n",
    "\n",
    "print(f\"Shape de X_train après correction: {X_train.shape}\")\n",
    "print(f\"Shape de y_train après correction: {y_train.shape}\")"
   ]
  },
  {
   "cell_type": "code",
   "execution_count": null,
   "id": "c4a4e9ae",
   "metadata": {},
   "outputs": [
    {
     "name": "stderr",
     "output_type": "stream",
     "text": [
      "/Users/manu/opt/anaconda3/envs/Projet2/lib/python3.9/site-packages/keras/src/layers/rnn/rnn.py:199: UserWarning: Do not pass an `input_shape`/`input_dim` argument to a layer. When using Sequential models, prefer using an `Input(shape)` object as the first layer in the model instead.\n",
      "  super().__init__(**kwargs)\n"
     ]
    },
    {
     "data": {
      "text/html": [
       "<pre style=\"white-space:pre;overflow-x:auto;line-height:normal;font-family:Menlo,'DejaVu Sans Mono',consolas,'Courier New',monospace\"><span style=\"font-weight: bold\">Model: \"sequential_1\"</span>\n",
       "</pre>\n"
      ],
      "text/plain": [
       "\u001b[1mModel: \"sequential_1\"\u001b[0m\n"
      ]
     },
     "metadata": {},
     "output_type": "display_data"
    },
    {
     "data": {
      "text/html": [
       "<pre style=\"white-space:pre;overflow-x:auto;line-height:normal;font-family:Menlo,'DejaVu Sans Mono',consolas,'Courier New',monospace\">┏━━━━━━━━━━━━━━━━━━━━━━━━━━━━━━━━━┳━━━━━━━━━━━━━━━━━━━━━━━━┳━━━━━━━━━━━━━━━┓\n",
       "┃<span style=\"font-weight: bold\"> Layer (type)                    </span>┃<span style=\"font-weight: bold\"> Output Shape           </span>┃<span style=\"font-weight: bold\">       Param # </span>┃\n",
       "┡━━━━━━━━━━━━━━━━━━━━━━━━━━━━━━━━━╇━━━━━━━━━━━━━━━━━━━━━━━━╇━━━━━━━━━━━━━━━┩\n",
       "│ lstm_2 (<span style=\"color: #0087ff; text-decoration-color: #0087ff\">LSTM</span>)                   │ (<span style=\"color: #00d7ff; text-decoration-color: #00d7ff\">None</span>, <span style=\"color: #00af00; text-decoration-color: #00af00\">4</span>, <span style=\"color: #00af00; text-decoration-color: #00af00\">50</span>)          │        <span style=\"color: #00af00; text-decoration-color: #00af00\">12,200</span> │\n",
       "├─────────────────────────────────┼────────────────────────┼───────────────┤\n",
       "│ dropout_2 (<span style=\"color: #0087ff; text-decoration-color: #0087ff\">Dropout</span>)             │ (<span style=\"color: #00d7ff; text-decoration-color: #00d7ff\">None</span>, <span style=\"color: #00af00; text-decoration-color: #00af00\">4</span>, <span style=\"color: #00af00; text-decoration-color: #00af00\">50</span>)          │             <span style=\"color: #00af00; text-decoration-color: #00af00\">0</span> │\n",
       "├─────────────────────────────────┼────────────────────────┼───────────────┤\n",
       "│ lstm_3 (<span style=\"color: #0087ff; text-decoration-color: #0087ff\">LSTM</span>)                   │ (<span style=\"color: #00d7ff; text-decoration-color: #00d7ff\">None</span>, <span style=\"color: #00af00; text-decoration-color: #00af00\">50</span>)             │        <span style=\"color: #00af00; text-decoration-color: #00af00\">20,200</span> │\n",
       "├─────────────────────────────────┼────────────────────────┼───────────────┤\n",
       "│ dropout_3 (<span style=\"color: #0087ff; text-decoration-color: #0087ff\">Dropout</span>)             │ (<span style=\"color: #00d7ff; text-decoration-color: #00d7ff\">None</span>, <span style=\"color: #00af00; text-decoration-color: #00af00\">50</span>)             │             <span style=\"color: #00af00; text-decoration-color: #00af00\">0</span> │\n",
       "├─────────────────────────────────┼────────────────────────┼───────────────┤\n",
       "│ dense_1 (<span style=\"color: #0087ff; text-decoration-color: #0087ff\">Dense</span>)                 │ (<span style=\"color: #00d7ff; text-decoration-color: #00d7ff\">None</span>, <span style=\"color: #00af00; text-decoration-color: #00af00\">2</span>)              │           <span style=\"color: #00af00; text-decoration-color: #00af00\">102</span> │\n",
       "└─────────────────────────────────┴────────────────────────┴───────────────┘\n",
       "</pre>\n"
      ],
      "text/plain": [
       "┏━━━━━━━━━━━━━━━━━━━━━━━━━━━━━━━━━┳━━━━━━━━━━━━━━━━━━━━━━━━┳━━━━━━━━━━━━━━━┓\n",
       "┃\u001b[1m \u001b[0m\u001b[1mLayer (type)                   \u001b[0m\u001b[1m \u001b[0m┃\u001b[1m \u001b[0m\u001b[1mOutput Shape          \u001b[0m\u001b[1m \u001b[0m┃\u001b[1m \u001b[0m\u001b[1m      Param #\u001b[0m\u001b[1m \u001b[0m┃\n",
       "┡━━━━━━━━━━━━━━━━━━━━━━━━━━━━━━━━━╇━━━━━━━━━━━━━━━━━━━━━━━━╇━━━━━━━━━━━━━━━┩\n",
       "│ lstm_2 (\u001b[38;5;33mLSTM\u001b[0m)                   │ (\u001b[38;5;45mNone\u001b[0m, \u001b[38;5;34m4\u001b[0m, \u001b[38;5;34m50\u001b[0m)          │        \u001b[38;5;34m12,200\u001b[0m │\n",
       "├─────────────────────────────────┼────────────────────────┼───────────────┤\n",
       "│ dropout_2 (\u001b[38;5;33mDropout\u001b[0m)             │ (\u001b[38;5;45mNone\u001b[0m, \u001b[38;5;34m4\u001b[0m, \u001b[38;5;34m50\u001b[0m)          │             \u001b[38;5;34m0\u001b[0m │\n",
       "├─────────────────────────────────┼────────────────────────┼───────────────┤\n",
       "│ lstm_3 (\u001b[38;5;33mLSTM\u001b[0m)                   │ (\u001b[38;5;45mNone\u001b[0m, \u001b[38;5;34m50\u001b[0m)             │        \u001b[38;5;34m20,200\u001b[0m │\n",
       "├─────────────────────────────────┼────────────────────────┼───────────────┤\n",
       "│ dropout_3 (\u001b[38;5;33mDropout\u001b[0m)             │ (\u001b[38;5;45mNone\u001b[0m, \u001b[38;5;34m50\u001b[0m)             │             \u001b[38;5;34m0\u001b[0m │\n",
       "├─────────────────────────────────┼────────────────────────┼───────────────┤\n",
       "│ dense_1 (\u001b[38;5;33mDense\u001b[0m)                 │ (\u001b[38;5;45mNone\u001b[0m, \u001b[38;5;34m2\u001b[0m)              │           \u001b[38;5;34m102\u001b[0m │\n",
       "└─────────────────────────────────┴────────────────────────┴───────────────┘\n"
      ]
     },
     "metadata": {},
     "output_type": "display_data"
    },
    {
     "data": {
      "text/html": [
       "<pre style=\"white-space:pre;overflow-x:auto;line-height:normal;font-family:Menlo,'DejaVu Sans Mono',consolas,'Courier New',monospace\"><span style=\"font-weight: bold\"> Total params: </span><span style=\"color: #00af00; text-decoration-color: #00af00\">32,502</span> (126.96 KB)\n",
       "</pre>\n"
      ],
      "text/plain": [
       "\u001b[1m Total params: \u001b[0m\u001b[38;5;34m32,502\u001b[0m (126.96 KB)\n"
      ]
     },
     "metadata": {},
     "output_type": "display_data"
    },
    {
     "data": {
      "text/html": [
       "<pre style=\"white-space:pre;overflow-x:auto;line-height:normal;font-family:Menlo,'DejaVu Sans Mono',consolas,'Courier New',monospace\"><span style=\"font-weight: bold\"> Trainable params: </span><span style=\"color: #00af00; text-decoration-color: #00af00\">32,502</span> (126.96 KB)\n",
       "</pre>\n"
      ],
      "text/plain": [
       "\u001b[1m Trainable params: \u001b[0m\u001b[38;5;34m32,502\u001b[0m (126.96 KB)\n"
      ]
     },
     "metadata": {},
     "output_type": "display_data"
    },
    {
     "data": {
      "text/html": [
       "<pre style=\"white-space:pre;overflow-x:auto;line-height:normal;font-family:Menlo,'DejaVu Sans Mono',consolas,'Courier New',monospace\"><span style=\"font-weight: bold\"> Non-trainable params: </span><span style=\"color: #00af00; text-decoration-color: #00af00\">0</span> (0.00 B)\n",
       "</pre>\n"
      ],
      "text/plain": [
       "\u001b[1m Non-trainable params: \u001b[0m\u001b[38;5;34m0\u001b[0m (0.00 B)\n"
      ]
     },
     "metadata": {},
     "output_type": "display_data"
    }
   ],
   "source": [
    "# --- Construction du modèle LSTM ---\n",
    "N_FEATURES = X_train.shape[2]\n",
    "\n",
    "model = Sequential()\n",
    "model.add(LSTM(units=50, return_sequences=True, input_shape=(N_TIMESTEPS, N_FEATURES)))\n",
    "model.add(Dropout(0.2))\n",
    "model.add(LSTM(units=50))\n",
    "model.add(Dropout(0.2))\n",
    "model.add(Dense(units=N_CLASSES, activation='softmax'))\n",
    "\n",
    "model.compile(optimizer='adam', loss='categorical_crossentropy', metrics=['accuracy'])\n",
    "model.summary()"
   ]
  },
  {
   "cell_type": "code",
   "execution_count": 31,
   "id": "1b42ea5f",
   "metadata": {},
   "outputs": [
    {
     "name": "stdout",
     "output_type": "stream",
     "text": [
      "Poids calculés pour les classes : {0: 0.5122422066987582, 1: 20.921154956104377}\n"
     ]
    }
   ],
   "source": [
    "y_train_integers = np.argmax(y_train, axis=1)\n",
    "\n",
    "# Calculer les poids pour chaque classe (0 et 1)\n",
    "weights = class_weight.compute_class_weight(\n",
    "    class_weight='balanced',\n",
    "    classes=np.unique(y_train_integers),\n",
    "    y=y_train_integers\n",
    ")\n",
    "class_weights = dict(zip(np.unique(y_train_integers), weights))\n",
    "\n",
    "print(f\"Poids calculés pour les classes : {class_weights}\")\n"
   ]
  },
  {
   "cell_type": "code",
   "execution_count": null,
   "id": "59da3d6b",
   "metadata": {},
   "outputs": [
    {
     "name": "stdout",
     "output_type": "stream",
     "text": [
      "\n",
      "Début de l'entraînement...\n",
      "Epoch 1/20\n",
      "\u001b[1m38740/38740\u001b[0m \u001b[32m━━━━━━━━━━━━━━━━━━━━\u001b[0m\u001b[37m\u001b[0m \u001b[1m174s\u001b[0m 4ms/step - accuracy: 0.8880 - loss: 0.3019 - val_accuracy: 0.8199 - val_loss: 0.3996\n",
      "Epoch 2/20\n",
      "\u001b[1m38740/38740\u001b[0m \u001b[32m━━━━━━━━━━━━━━━━━━━━\u001b[0m\u001b[37m\u001b[0m \u001b[1m171s\u001b[0m 4ms/step - accuracy: 0.9144 - loss: 0.2521 - val_accuracy: 0.8645 - val_loss: 0.3093\n",
      "Epoch 3/20\n",
      "\u001b[1m38740/38740\u001b[0m \u001b[32m━━━━━━━━━━━━━━━━━━━━\u001b[0m\u001b[37m\u001b[0m \u001b[1m189s\u001b[0m 5ms/step - accuracy: 0.9138 - loss: 0.2503 - val_accuracy: 0.8411 - val_loss: 0.3741\n",
      "Epoch 4/20\n",
      "\u001b[1m38740/38740\u001b[0m \u001b[32m━━━━━━━━━━━━━━━━━━━━\u001b[0m\u001b[37m\u001b[0m \u001b[1m170s\u001b[0m 4ms/step - accuracy: 0.9148 - loss: 0.2468 - val_accuracy: 0.8717 - val_loss: 0.3076\n",
      "Epoch 5/20\n",
      "\u001b[1m38740/38740\u001b[0m \u001b[32m━━━━━━━━━━━━━━━━━━━━\u001b[0m\u001b[37m\u001b[0m \u001b[1m177s\u001b[0m 5ms/step - accuracy: 0.9171 - loss: 0.2424 - val_accuracy: 0.8515 - val_loss: 0.3505\n",
      "Epoch 6/20\n",
      "\u001b[1m38740/38740\u001b[0m \u001b[32m━━━━━━━━━━━━━━━━━━━━\u001b[0m\u001b[37m\u001b[0m \u001b[1m169s\u001b[0m 4ms/step - accuracy: 0.9160 - loss: 0.2446 - val_accuracy: 0.8483 - val_loss: 0.3707\n",
      "Epoch 7/20\n",
      "\u001b[1m38740/38740\u001b[0m \u001b[32m━━━━━━━━━━━━━━━━━━━━\u001b[0m\u001b[37m\u001b[0m \u001b[1m174s\u001b[0m 4ms/step - accuracy: 0.9187 - loss: 0.2412 - val_accuracy: 0.8577 - val_loss: 0.3566\n",
      "Epoch 8/20\n",
      "\u001b[1m38740/38740\u001b[0m \u001b[32m━━━━━━━━━━━━━━━━━━━━\u001b[0m\u001b[37m\u001b[0m \u001b[1m174s\u001b[0m 4ms/step - accuracy: 0.9165 - loss: 0.2442 - val_accuracy: 0.8587 - val_loss: 0.3311\n",
      "Epoch 9/20\n",
      "\u001b[1m38740/38740\u001b[0m \u001b[32m━━━━━━━━━━━━━━━━━━━━\u001b[0m\u001b[37m\u001b[0m \u001b[1m190s\u001b[0m 5ms/step - accuracy: 0.9167 - loss: 0.2408 - val_accuracy: 0.8614 - val_loss: 0.2986\n",
      "Epoch 10/20\n",
      "\u001b[1m38740/38740\u001b[0m \u001b[32m━━━━━━━━━━━━━━━━━━━━\u001b[0m\u001b[37m\u001b[0m \u001b[1m194s\u001b[0m 5ms/step - accuracy: 0.9177 - loss: 0.2428 - val_accuracy: 0.8434 - val_loss: 0.3363\n",
      "Epoch 11/20\n",
      "\u001b[1m38740/38740\u001b[0m \u001b[32m━━━━━━━━━━━━━━━━━━━━\u001b[0m\u001b[37m\u001b[0m \u001b[1m202s\u001b[0m 5ms/step - accuracy: 0.9171 - loss: 0.2390 - val_accuracy: 0.8417 - val_loss: 0.3644\n",
      "Epoch 12/20\n",
      "\u001b[1m38740/38740\u001b[0m \u001b[32m━━━━━━━━━━━━━━━━━━━━\u001b[0m\u001b[37m\u001b[0m \u001b[1m182s\u001b[0m 5ms/step - accuracy: 0.9187 - loss: 0.2419 - val_accuracy: 0.8705 - val_loss: 0.3134\n",
      "Epoch 13/20\n",
      "\u001b[1m38740/38740\u001b[0m \u001b[32m━━━━━━━━━━━━━━━━━━━━\u001b[0m\u001b[37m\u001b[0m \u001b[1m205s\u001b[0m 5ms/step - accuracy: 0.9187 - loss: 0.2420 - val_accuracy: 0.8670 - val_loss: 0.3120\n",
      "Epoch 14/20\n",
      "\u001b[1m38740/38740\u001b[0m \u001b[32m━━━━━━━━━━━━━━━━━━━━\u001b[0m\u001b[37m\u001b[0m \u001b[1m191s\u001b[0m 5ms/step - accuracy: 0.9189 - loss: 0.2357 - val_accuracy: 0.8603 - val_loss: 0.3317\n",
      "Epoch 15/20\n",
      "\u001b[1m38740/38740\u001b[0m \u001b[32m━━━━━━━━━━━━━━━━━━━━\u001b[0m\u001b[37m\u001b[0m \u001b[1m168s\u001b[0m 4ms/step - accuracy: 0.9186 - loss: 0.2389 - val_accuracy: 0.8579 - val_loss: 0.3231\n",
      "Epoch 16/20\n",
      "\u001b[1m38740/38740\u001b[0m \u001b[32m━━━━━━━━━━━━━━━━━━━━\u001b[0m\u001b[37m\u001b[0m \u001b[1m172s\u001b[0m 4ms/step - accuracy: 0.9179 - loss: 0.2387 - val_accuracy: 0.8603 - val_loss: 0.3417\n",
      "Epoch 17/20\n",
      "\u001b[1m38740/38740\u001b[0m \u001b[32m━━━━━━━━━━━━━━━━━━━━\u001b[0m\u001b[37m\u001b[0m \u001b[1m172s\u001b[0m 4ms/step - accuracy: 0.9183 - loss: 0.2416 - val_accuracy: 0.8544 - val_loss: 0.3628\n",
      "Epoch 18/20\n",
      "\u001b[1m38740/38740\u001b[0m \u001b[32m━━━━━━━━━━━━━━━━━━━━\u001b[0m\u001b[37m\u001b[0m \u001b[1m176s\u001b[0m 5ms/step - accuracy: 0.9185 - loss: 0.2417 - val_accuracy: 0.8499 - val_loss: 0.3266\n",
      "Epoch 19/20\n",
      "\u001b[1m38740/38740\u001b[0m \u001b[32m━━━━━━━━━━━━━━━━━━━━\u001b[0m\u001b[37m\u001b[0m \u001b[1m178s\u001b[0m 5ms/step - accuracy: 0.9199 - loss: 0.2411 - val_accuracy: 0.8356 - val_loss: 0.3564\n",
      "Epoch 20/20\n",
      "\u001b[1m38740/38740\u001b[0m \u001b[32m━━━━━━━━━━━━━━━━━━━━\u001b[0m\u001b[37m\u001b[0m \u001b[1m190s\u001b[0m 5ms/step - accuracy: 0.9160 - loss: 0.2389 - val_accuracy: 0.8330 - val_loss: 0.3689\n"
     ]
    }
   ],
   "source": [
    "# --- Entraînement du modèle ---\n",
    "print(\"\\nDébut de l'entraînement...\")\n",
    "history = model.fit(X_train, y_train, epochs=20, batch_size=32, validation_split=0.1, verbose=1, class_weight=class_weights )"
   ]
  },
  {
   "cell_type": "code",
   "execution_count": null,
   "id": "1d9da377",
   "metadata": {},
   "outputs": [
    {
     "name": "stdout",
     "output_type": "stream",
     "text": [
      "\n",
      "Évaluation sur le jeu de test...\n",
      "\u001b[1m13482/13482\u001b[0m \u001b[32m━━━━━━━━━━━━━━━━━━━━\u001b[0m\u001b[37m\u001b[0m \u001b[1m28s\u001b[0m 2ms/step\n",
      "--- Rapport de Classification ---\n",
      "              precision    recall  f1-score   support\n",
      "\n",
      "      Fluide       0.99      0.93      0.96    422095\n",
      "  Non_fluide       0.17      0.71      0.28      9325\n",
      "\n",
      "    accuracy                           0.92    431420\n",
      "   macro avg       0.58      0.82      0.62    431420\n",
      "weighted avg       0.98      0.92      0.94    431420\n",
      "\n",
      "\n",
      "--- Matrice de Confusion ---\n"
     ]
    },
    {
     "data": {
      "image/png": "[encoded data removed]",
      "text/plain": [
       "<Figure size 576x432 with 2 Axes>"
      ]
     },
     "metadata": {
      "needs_background": "light"
     },
     "output_type": "display_data"
    }
   ],
   "source": [
    "\n",
    "# --- Prédiction et évaluation ---\n",
    "print(\"\\nÉvaluation sur le jeu de test...\")\n",
    "predictions_proba = model.predict(X_test)\n",
    "\n",
    "y_pred_classes = np.argmax(predictions_proba, axis=1)\n",
    "\n",
    "y_true_classes = np.argmax(y_test, axis=1)\n",
    "\n",
    "target_names = ['Fluide','Non_fluide']\n",
    "\n",
    "\n",
    "labels_numeriques = range(N_CLASSES) \n",
    "\n",
    "print(\"--- Rapport de Classification ---\")\n",
    "print(classification_report(y_true_classes, y_pred_classes, \n",
    "                            labels=labels_numeriques, \n",
    "                            target_names=target_names, \n",
    "                            zero_division=0))\n",
    "\n",
    "# Afficher la matrice de confusion en forçant tous les labels\n",
    "print(\"\\n--- Matrice de Confusion ---\")\n",
    "cm = confusion_matrix(y_true_classes, y_pred_classes, labels=labels_numeriques)\n",
    "\n",
    "plt.figure(figsize=(8, 6))\n",
    "sns.heatmap(cm, annot=True, fmt='d', cmap='Blues', \n",
    "            xticklabels=target_names, yticklabels=target_names)\n",
    "plt.title('Matrice de Confusion - Modèle LSTM')\n",
    "plt.ylabel('Vraie classe')\n",
    "plt.xlabel('Classe prédite')\n",
    "plt.show()"
   ]
  },
  {
   "cell_type": "markdown",
   "id": "e631f6f2",
   "metadata": {},
   "source": [
    "# Sauvegarde des résultats"
   ]
  },
  {
   "cell_type": "code",
   "execution_count": null,
   "id": "825f3127",
   "metadata": {},
   "outputs": [],
   "source": [
    "max_probabilities = np.max(predictions_proba, axis=1)\n"
   ]
  },
  {
   "cell_type": "code",
   "execution_count": 41,
   "id": "f24ee1ea",
   "metadata": {},
   "outputs": [],
   "source": [
    "df_resultats = df_test.iloc[N_TIMESTEPS:].copy()"
   ]
  },
  {
   "cell_type": "code",
   "execution_count": 50,
   "id": "c2b5d4ea",
   "metadata": {},
   "outputs": [],
   "source": [
    "df_resultats['code_etat_du_trafic_predit'] = y_pred_classes\n",
    "df_resultats['etat_du_trafic_predit'] = df_resultats['code_etat_du_trafic_predit'].apply(lambda x  : 'Fluide' if x == 0 else 'Non-Fluide')\n",
    "df_resultats['etat_du_trafic_predit_proba'] = max_probabilities\n",
    "df_resultats['etat_du_trafic_reel'] = df_resultats['etat_du_trafic'].apply(lambda x  : 'Fluide' if x == 'Fluide' else 'Non-Fluide')"
   ]
  },
  {
   "cell_type": "code",
   "execution_count": 52,
   "id": "8faf6362",
   "metadata": {},
   "outputs": [
    {
     "data": {
      "text/html": [
       "<div>\n",
       "<style scoped>\n",
       "    .dataframe tbody tr th:only-of-type {\n",
       "        vertical-align: middle;\n",
       "    }\n",
       "\n",
       "    .dataframe tbody tr th {\n",
       "        vertical-align: top;\n",
       "    }\n",
       "\n",
       "    .dataframe thead th {\n",
       "        text-align: right;\n",
       "    }\n",
       "</style>\n",
       "<table border=\"1\" class=\"dataframe\">\n",
       "  <thead>\n",
       "    <tr style=\"text-align: right;\">\n",
       "      <th></th>\n",
       "      <th>heure_arrondie</th>\n",
       "      <th>nom_du_troncon</th>\n",
       "      <th>taux_occupation_reel</th>\n",
       "      <th>taux_occupation</th>\n",
       "      <th>id_technique</th>\n",
       "      <th>id</th>\n",
       "      <th>debit</th>\n",
       "      <th>longueur</th>\n",
       "      <th>code_couleur</th>\n",
       "      <th>etat_du_trafic</th>\n",
       "      <th>...</th>\n",
       "      <th>has_event_near_troncon</th>\n",
       "      <th>weekday</th>\n",
       "      <th>hour</th>\n",
       "      <th>minute</th>\n",
       "      <th>troncon_enc</th>\n",
       "      <th>is_congested</th>\n",
       "      <th>code_etat_du_trafic_predit</th>\n",
       "      <th>etat_du_trafic_predit</th>\n",
       "      <th>etat_du_trafic_predit_proba</th>\n",
       "      <th>etat_du_trafic_reel</th>\n",
       "    </tr>\n",
       "  </thead>\n",
       "  <tbody>\n",
       "    <tr>\n",
       "      <th>4</th>\n",
       "      <td>2025-03-08 01:00:00</td>\n",
       "      <td>3 Continents I</td>\n",
       "      <td>2.15</td>\n",
       "      <td>2.680743</td>\n",
       "      <td>nan-2025-03-08T01:00:00</td>\n",
       "      <td>nan</td>\n",
       "      <td>220.0</td>\n",
       "      <td>478.0</td>\n",
       "      <td>3.0</td>\n",
       "      <td>Fluide</td>\n",
       "      <td>...</td>\n",
       "      <td>False</td>\n",
       "      <td>5</td>\n",
       "      <td>1</td>\n",
       "      <td>0</td>\n",
       "      <td>0</td>\n",
       "      <td>0</td>\n",
       "      <td>0</td>\n",
       "      <td>Fluide</td>\n",
       "      <td>0.827036</td>\n",
       "      <td>Fluide</td>\n",
       "    </tr>\n",
       "    <tr>\n",
       "      <th>5</th>\n",
       "      <td>2025-03-08 01:15:00</td>\n",
       "      <td>3 Continents I</td>\n",
       "      <td>1.80</td>\n",
       "      <td>2.251380</td>\n",
       "      <td>nan-2025-03-08T01:15:00</td>\n",
       "      <td>nan</td>\n",
       "      <td>200.0</td>\n",
       "      <td>478.0</td>\n",
       "      <td>3.0</td>\n",
       "      <td>Fluide</td>\n",
       "      <td>...</td>\n",
       "      <td>False</td>\n",
       "      <td>5</td>\n",
       "      <td>1</td>\n",
       "      <td>15</td>\n",
       "      <td>0</td>\n",
       "      <td>0</td>\n",
       "      <td>0</td>\n",
       "      <td>Fluide</td>\n",
       "      <td>0.841308</td>\n",
       "      <td>Fluide</td>\n",
       "    </tr>\n",
       "    <tr>\n",
       "      <th>6</th>\n",
       "      <td>2025-03-08 01:30:00</td>\n",
       "      <td>3 Continents I</td>\n",
       "      <td>1.45</td>\n",
       "      <td>1.881344</td>\n",
       "      <td>nan-2025-03-08T01:30:00</td>\n",
       "      <td>nan</td>\n",
       "      <td>180.0</td>\n",
       "      <td>478.0</td>\n",
       "      <td>3.0</td>\n",
       "      <td>Fluide</td>\n",
       "      <td>...</td>\n",
       "      <td>False</td>\n",
       "      <td>5</td>\n",
       "      <td>1</td>\n",
       "      <td>30</td>\n",
       "      <td>0</td>\n",
       "      <td>0</td>\n",
       "      <td>0</td>\n",
       "      <td>Fluide</td>\n",
       "      <td>0.864902</td>\n",
       "      <td>Fluide</td>\n",
       "    </tr>\n",
       "    <tr>\n",
       "      <th>7</th>\n",
       "      <td>2025-03-08 01:45:00</td>\n",
       "      <td>3 Continents I</td>\n",
       "      <td>1.10</td>\n",
       "      <td>1.558817</td>\n",
       "      <td>nan-2025-03-08T01:45:00</td>\n",
       "      <td>nan</td>\n",
       "      <td>160.0</td>\n",
       "      <td>478.0</td>\n",
       "      <td>3.0</td>\n",
       "      <td>Fluide</td>\n",
       "      <td>...</td>\n",
       "      <td>False</td>\n",
       "      <td>5</td>\n",
       "      <td>1</td>\n",
       "      <td>45</td>\n",
       "      <td>0</td>\n",
       "      <td>0</td>\n",
       "      <td>0</td>\n",
       "      <td>Fluide</td>\n",
       "      <td>0.890287</td>\n",
       "      <td>Fluide</td>\n",
       "    </tr>\n",
       "    <tr>\n",
       "      <th>8</th>\n",
       "      <td>2025-03-08 02:00:00</td>\n",
       "      <td>3 Continents I</td>\n",
       "      <td>0.75</td>\n",
       "      <td>1.343582</td>\n",
       "      <td>nan-2025-03-08T02:00:00</td>\n",
       "      <td>nan</td>\n",
       "      <td>140.0</td>\n",
       "      <td>478.0</td>\n",
       "      <td>3.0</td>\n",
       "      <td>Fluide</td>\n",
       "      <td>...</td>\n",
       "      <td>False</td>\n",
       "      <td>5</td>\n",
       "      <td>2</td>\n",
       "      <td>0</td>\n",
       "      <td>0</td>\n",
       "      <td>0</td>\n",
       "      <td>0</td>\n",
       "      <td>Fluide</td>\n",
       "      <td>0.923939</td>\n",
       "      <td>Fluide</td>\n",
       "    </tr>\n",
       "  </tbody>\n",
       "</table>\n",
       "<p>5 rows × 63 columns</p>\n",
       "</div>"
      ],
      "text/plain": [
       "       heure_arrondie  nom_du_troncon  taux_occupation_reel  taux_occupation  \\\n",
       "4 2025-03-08 01:00:00  3 Continents I                  2.15         2.680743   \n",
       "5 2025-03-08 01:15:00  3 Continents I                  1.80         2.251380   \n",
       "6 2025-03-08 01:30:00  3 Continents I                  1.45         1.881344   \n",
       "7 2025-03-08 01:45:00  3 Continents I                  1.10         1.558817   \n",
       "8 2025-03-08 02:00:00  3 Continents I                  0.75         1.343582   \n",
       "\n",
       "              id_technique   id  debit  longueur  code_couleur etat_du_trafic  \\\n",
       "4  nan-2025-03-08T01:00:00  nan  220.0     478.0           3.0         Fluide   \n",
       "5  nan-2025-03-08T01:15:00  nan  200.0     478.0           3.0         Fluide   \n",
       "6  nan-2025-03-08T01:30:00  nan  180.0     478.0           3.0         Fluide   \n",
       "7  nan-2025-03-08T01:45:00  nan  160.0     478.0           3.0         Fluide   \n",
       "8  nan-2025-03-08T02:00:00  nan  140.0     478.0           3.0         Fluide   \n",
       "\n",
       "   ...  has_event_near_troncon  weekday hour minute troncon_enc is_congested  \\\n",
       "4  ...                   False        5    1      0           0            0   \n",
       "5  ...                   False        5    1     15           0            0   \n",
       "6  ...                   False        5    1     30           0            0   \n",
       "7  ...                   False        5    1     45           0            0   \n",
       "8  ...                   False        5    2      0           0            0   \n",
       "\n",
       "  code_etat_du_trafic_predit etat_du_trafic_predit  \\\n",
       "4                          0                Fluide   \n",
       "5                          0                Fluide   \n",
       "6                          0                Fluide   \n",
       "7                          0                Fluide   \n",
       "8                          0                Fluide   \n",
       "\n",
       "  etat_du_trafic_predit_proba etat_du_trafic_reel  \n",
       "4                    0.827036              Fluide  \n",
       "5                    0.841308              Fluide  \n",
       "6                    0.864902              Fluide  \n",
       "7                    0.890287              Fluide  \n",
       "8                    0.923939              Fluide  \n",
       "\n",
       "[5 rows x 63 columns]"
      ]
     },
     "execution_count": 52,
     "metadata": {},
     "output_type": "execute_result"
    }
   ],
   "source": [
    "df_resultats.head()"
   ]
  },
  {
   "cell_type": "code",
   "execution_count": 54,
   "id": "a4939870",
   "metadata": {},
   "outputs": [
    {
     "name": "stdout",
     "output_type": "stream",
     "text": [
      "<class 'pandas.core.frame.DataFrame'>\n",
      "RangeIndex: 431420 entries, 4 to 431423\n",
      "Data columns (total 63 columns):\n",
      " #   Column                       Non-Null Count   Dtype         \n",
      "---  ------                       --------------   -----         \n",
      " 0   heure_arrondie               431420 non-null  datetime64[ns]\n",
      " 1   nom_du_troncon               431420 non-null  object        \n",
      " 2   taux_occupation_reel         431420 non-null  float64       \n",
      " 3   taux_occupation              431420 non-null  float64       \n",
      " 4   id_technique                 431420 non-null  object        \n",
      " 5   id                           431420 non-null  object        \n",
      " 6   debit                        431420 non-null  float64       \n",
      " 7   longueur                     431420 non-null  float64       \n",
      " 8   code_couleur                 431420 non-null  float64       \n",
      " 9   etat_du_trafic               431420 non-null  object        \n",
      " 10  temps_de_parcours            431420 non-null  float64       \n",
      " 11  vitesse                      431420 non-null  float64       \n",
      " 12  geo_point_2d                 431420 non-null  object        \n",
      " 13  geometrie                    431420 non-null  object        \n",
      " 14  shape_geo                    431420 non-null  object        \n",
      " 15  horodatage                   431420 non-null  datetime64[ns]\n",
      " 16  type_geo                     431420 non-null  object        \n",
      " 17  coordinates_geo              431420 non-null  object        \n",
      " 18  horodatage_date              431420 non-null  datetime64[ns]\n",
      " 19  jour                         431420 non-null  object        \n",
      " 20  is_vacances                  431420 non-null  int64         \n",
      " 21  is_ferie                     431420 non-null  int64         \n",
      " 22  rounded_horodatage           431420 non-null  datetime64[ns]\n",
      " 23  date                         431420 non-null  datetime64[ns]\n",
      " 24  temperature_2m               431420 non-null  float64       \n",
      " 25  visibility                   431420 non-null  float64       \n",
      " 26  precipitation                431420 non-null  float64       \n",
      " 27  wind_speed_10m               431420 non-null  float64       \n",
      " 28  gml_id                       431420 non-null  object        \n",
      " 29  date_ech                     431420 non-null  datetime64[ns]\n",
      " 30  code_qual                    431420 non-null  int64         \n",
      " 31  lib_qual                     431420 non-null  object        \n",
      " 32  coul_qual                    431420 non-null  object        \n",
      " 33  date_dif                     431420 non-null  object        \n",
      " 34  source                       431420 non-null  object        \n",
      " 35  type_zone                    431420 non-null  object        \n",
      " 36  code_zone                    431420 non-null  int64         \n",
      " 37  lib_zone                     431420 non-null  object        \n",
      " 38  code_no2                     431420 non-null  int64         \n",
      " 39  code_so2                     431420 non-null  int64         \n",
      " 40  code_o3                      431420 non-null  int64         \n",
      " 41  code_pm10                    431420 non-null  int64         \n",
      " 42  code_pm25                    431420 non-null  int64         \n",
      " 43  x_wgs84                      431420 non-null  float64       \n",
      " 44  y_wgs84                      431420 non-null  float64       \n",
      " 45  x_reg                        431420 non-null  float64       \n",
      " 46  y_reg                        431420 non-null  float64       \n",
      " 47  epsg_reg                     431420 non-null  int64         \n",
      " 48  etat_indice                  431420 non-null  object        \n",
      " 49  geom_type                    431420 non-null  object        \n",
      " 50  geom_coordinates             431420 non-null  object        \n",
      " 51  geo_point_2d_lon             431420 non-null  float64       \n",
      " 52  geo_point_2d_lat             431420 non-null  float64       \n",
      " 53  has_event_near_troncon       431420 non-null  bool          \n",
      " 54  weekday                      431420 non-null  int32         \n",
      " 55  hour                         431420 non-null  int32         \n",
      " 56  minute                       431420 non-null  int32         \n",
      " 57  troncon_enc                  431420 non-null  int64         \n",
      " 58  is_congested                 431420 non-null  int64         \n",
      " 59  code_etat_du_trafic_predit   431420 non-null  int64         \n",
      " 60  etat_du_trafic_predit        431420 non-null  object        \n",
      " 61  etat_du_trafic_predit_proba  431420 non-null  float32       \n",
      " 62  etat_du_trafic_reel          431420 non-null  object        \n",
      "dtypes: bool(1), datetime64[ns](6), float32(1), float64(17), int32(3), int64(13), object(22)\n",
      "memory usage: 197.9+ MB\n"
     ]
    }
   ],
   "source": [
    "df_resultats.info()"
   ]
  },
  {
   "cell_type": "code",
   "execution_count": null,
   "id": "97c8ba99",
   "metadata": {},
   "outputs": [],
   "source": [
    "#df_resultats.to_csv('/Users/manu/Desktop/SUP/Projet 2/AI_model_urban_mobility/data/Predictions_trafic_lstm.csv', index = False)"
   ]
  }
 ],
 "metadata": {
  "kernelspec": {
   "display_name": "Projet2",
   "language": "python",
   "name": "python3"
  },
  "language_info": {
   "codemirror_mode": {
    "name": "ipython",
    "version": 3
   },
   "file_extension": ".py",
   "mimetype": "text/x-python",
   "name": "python",
   "nbconvert_exporter": "python",
   "pygments_lexer": "ipython3",
   "version": "3.9.21"
  }
 },
 "nbformat": 4,
 "nbformat_minor": 5
}
