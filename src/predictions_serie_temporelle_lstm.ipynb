{
 "cells": [
  {
   "cell_type": "markdown",
   "id": "0baa4ea9",
   "metadata": {},
   "source": [
    "## Ce code prédit les variables taux_occupation et temps de parcours avec un LSTM (prédiction de serie temporelle) avec variables explicatives :\n",
    "## 'taux_occupation', 'temps_de_parcours', 'temperature_2m', 'precipitation', 'visibility','wind_speed_10m','has_event_near_troncon', 'weekday', 'is_vacances', 'is_ferie'"
   ]
  },
  {
   "cell_type": "markdown",
   "id": "baa6e83e",
   "metadata": {},
   "source": [
    "# Import librairies"
   ]
  },
  {
   "cell_type": "code",
   "execution_count": null,
   "id": "c900aeed",
   "metadata": {},
   "outputs": [],
   "source": [
    "import pandas as pd\n",
    "import numpy as np\n",
    "import torch\n",
    "from torch import nn\n",
    "from torch.utils.data import Dataset, DataLoader\n",
    "from sklearn.preprocessing import StandardScaler\n",
    "import matplotlib.pyplot as plt"
   ]
  },
  {
   "cell_type": "markdown",
   "id": "07389c7f",
   "metadata": {},
   "source": [
    "# Import dataset"
   ]
  },
  {
   "cell_type": "code",
   "execution_count": 2,
   "id": "4d3c99e5",
   "metadata": {},
   "outputs": [],
   "source": [
    "link = '/Users/manu/Desktop/SUP/Projet 2/AI_model_urban_mobility/data/df_final_15min_NoNan_20250505.parquet'"
   ]
  },
  {
   "cell_type": "code",
   "execution_count": 3,
   "id": "0db0a838",
   "metadata": {},
   "outputs": [],
   "source": [
    "df_trafic = pd.read_parquet(link)"
   ]
  },
  {
   "cell_type": "code",
   "execution_count": 4,
   "id": "09e61a0c",
   "metadata": {},
   "outputs": [
    {
     "data": {
      "text/plain": [
       "Index(['nom_du_troncon', 'heure_arrondie', 'id_technique', 'id', 'debit',\n",
       "       'longueur', 'taux_occupation', 'code_couleur', 'etat_du_trafic',\n",
       "       'temps_de_parcours', 'vitesse', 'geo_point_2d', 'geometrie',\n",
       "       'shape_geo', 'horodatage', 'type_geo', 'coordinates_geo',\n",
       "       'horodatage_date', 'jour', 'is_vacances', 'is_ferie',\n",
       "       'rounded_horodatage', 'date', 'temperature_2m', 'visibility',\n",
       "       'precipitation', 'wind_speed_10m', 'gml_id', 'date_ech', 'code_qual',\n",
       "       'lib_qual', 'coul_qual', 'date_dif', 'source', 'type_zone', 'code_zone',\n",
       "       'lib_zone', 'code_no2', 'code_so2', 'code_o3', 'code_pm10', 'code_pm25',\n",
       "       'x_wgs84', 'y_wgs84', 'x_reg', 'y_reg', 'epsg_reg', 'etat_indice',\n",
       "       'geom_type', 'geom_coordinates', 'geo_point_2d_lon', 'geo_point_2d_lat',\n",
       "       'has_event_near_troncon', 'weekday', 'hour', 'minute', 'troncon_enc'],\n",
       "      dtype='object')"
      ]
     },
     "execution_count": 4,
     "metadata": {},
     "output_type": "execute_result"
    }
   ],
   "source": [
    "df_trafic.columns"
   ]
  },
  {
   "cell_type": "code",
   "execution_count": null,
   "id": "5e35720d",
   "metadata": {},
   "outputs": [],
   "source": [
    "# --- Vérifie que CUDA est dispo ---\n",
    "device = torch.device(\"cuda\" if torch.cuda.is_available() else \"cpu\")\n",
    "print(f\"Using device: {device}\")"
   ]
  },
  {
   "cell_type": "code",
   "execution_count": null,
   "id": "f265cb85",
   "metadata": {},
   "outputs": [],
   "source": [
    "# --- Chargement et tri du DataFrame ---\n",
    "df = df_trafic.copy()\n",
    "df['date_time'] = pd.to_datetime(df['heure_arrondie'])\n",
    "df.sort_values(by=['troncon_enc', 'date_time'], inplace=True)"
   ]
  },
  {
   "cell_type": "code",
   "execution_count": 16,
   "id": "0c9e7403",
   "metadata": {},
   "outputs": [],
   "source": [
    "n_troncons = df['troncon_enc'].nunique()"
   ]
  },
  {
   "cell_type": "code",
   "execution_count": 6,
   "id": "23655b2a",
   "metadata": {},
   "outputs": [],
   "source": [
    "# --- Features numériques à normaliser ---\n",
    "features = ['taux_occupation', 'temps_de_parcours', 'temperature_2m', 'precipitation', 'visibility','wind_speed_10m',\n",
    "            'has_event_near_troncon', 'weekday', 'is_vacances', 'is_ferie']\n",
    "scaler = StandardScaler()\n",
    "df[features] = scaler.fit_transform(df[features])"
   ]
  },
  {
   "cell_type": "code",
   "execution_count": 7,
   "id": "9a3fd595",
   "metadata": {},
   "outputs": [],
   "source": [
    "# --- Ajoute l'encodage du tronçon à chaque ligne comme feature supplémentaire ---\n",
    "df['troncon_feature'] = df['troncon_enc']"
   ]
  },
  {
   "cell_type": "code",
   "execution_count": 8,
   "id": "6f66752b",
   "metadata": {},
   "outputs": [],
   "source": [
    "# --- Split Train / Test ---\n",
    "train_df = df[df['date_time'] < '2025-03-08']\n",
    "test_df = df[df['date_time'] >= '2025-03-08']"
   ]
  },
  {
   "cell_type": "code",
   "execution_count": 9,
   "id": "02bc4048",
   "metadata": {},
   "outputs": [],
   "source": [
    "# --- Création des séquences avec tronçon ---\n",
    "SEQ_LEN = 96"
   ]
  },
  {
   "cell_type": "code",
   "execution_count": 11,
   "id": "0904c227",
   "metadata": {},
   "outputs": [],
   "source": [
    "def create_sequences(data, seq_len):\n",
    "    xs, ys, tr_ids = [], [], []\n",
    "    grouped = data.groupby('troncon_enc')\n",
    "    \n",
    "    for troncon_id, group in grouped:\n",
    "        group = group.sort_values('heure_arrondie')\n",
    "        feats = group[features].values\n",
    "        for i in range(len(feats) - seq_len):\n",
    "            x = feats[i:i+seq_len]\n",
    "            y = feats[i+seq_len, :2]  # [taux_occupation, temps_de_parcours]\n",
    "            xs.append(x)\n",
    "            ys.append(y)\n",
    "            tr_ids.append(troncon_id)  # tronçon associé à cette séquence\n",
    "\n",
    "    return np.array(xs), np.array(ys), np.array(tr_ids)\n",
    "\n",
    "X_train, y_train, tr_train = create_sequences(train_df, SEQ_LEN)\n",
    "X_test, y_test, tr_test = create_sequences(test_df, SEQ_LEN)"
   ]
  },
  {
   "cell_type": "code",
   "execution_count": 13,
   "id": "6fd6988e",
   "metadata": {},
   "outputs": [],
   "source": [
    "# --- Dataset PyTorch ---\n",
    "class TrafficDataset(Dataset):\n",
    "    def __init__(self, X, y, troncon_ids):\n",
    "        self.X = torch.tensor(X, dtype=torch.float32)\n",
    "        self.y = torch.tensor(y, dtype=torch.float32)\n",
    "        self.troncon_ids = torch.tensor(troncon_ids, dtype=torch.long)\n",
    "\n",
    "    def __len__(self):\n",
    "        return len(self.X)\n",
    "\n",
    "    def __getitem__(self, idx):\n",
    "        return self.X[idx], self.troncon_ids[idx], self.y[idx]\n",
    "\n",
    "train_dataset = TrafficDataset(X_train, y_train, tr_train)\n",
    "test_dataset = TrafficDataset(X_test, y_test, tr_test)\n",
    "\n",
    "train_loader = DataLoader(train_dataset, batch_size=64, shuffle=True)\n",
    "test_loader = DataLoader(test_dataset, batch_size=64, shuffle=False)"
   ]
  },
  {
   "cell_type": "code",
   "execution_count": 14,
   "id": "4f11d13b",
   "metadata": {},
   "outputs": [],
   "source": [
    "# --- Modèle LSTM avec Embedding tronçon ---\n",
    "class LSTMWithTronconEmbedding(nn.Module):\n",
    "    def __init__(self, input_dim, embedding_dim, hidden_dim=64, output_dim=2, num_layers=2, n_troncons=1):\n",
    "        super().__init__()\n",
    "        self.embedding = nn.Embedding(n_troncons, embedding_dim)\n",
    "        self.lstm = nn.LSTM(input_dim + embedding_dim, hidden_dim, num_layers, batch_first=True)\n",
    "        self.fc = nn.Linear(hidden_dim, output_dim)\n",
    "\n",
    "    def forward(self, x, troncon_id):\n",
    "        # x shape: (batch, seq_len, input_dim)\n",
    "        emb = self.embedding(troncon_id)  # (batch, embedding_dim)\n",
    "        emb_seq = emb.unsqueeze(1).expand(-1, x.size(1), -1)  # (batch, seq_len, embedding_dim)\n",
    "        x_cat = torch.cat([x, emb_seq], dim=2)  # (batch, seq_len, input_dim + embedding_dim)\n",
    "        out, _ = self.lstm(x_cat)\n",
    "        out = out[:, -1, :]  # prend le dernier pas de temps\n",
    "        out = self.fc(out)\n",
    "        return out"
   ]
  },
  {
   "cell_type": "code",
   "execution_count": 17,
   "id": "a2726137",
   "metadata": {},
   "outputs": [
    {
     "ename": "NameError",
     "evalue": "name 'device' is not defined",
     "output_type": "error",
     "traceback": [
      "\u001b[0;31m---------------------------------------------------------------------------\u001b[0m",
      "\u001b[0;31mNameError\u001b[0m                                 Traceback (most recent call last)",
      "Cell \u001b[0;32mIn[17], line 9\u001b[0m\n\u001b[1;32m      1\u001b[0m \u001b[38;5;66;03m# --- Initialisation ---\u001b[39;00m\n\u001b[1;32m      2\u001b[0m model \u001b[38;5;241m=\u001b[39m LSTMWithTronconEmbedding(\n\u001b[1;32m      3\u001b[0m     input_dim\u001b[38;5;241m=\u001b[39m\u001b[38;5;28mlen\u001b[39m(features),\n\u001b[1;32m      4\u001b[0m     embedding_dim\u001b[38;5;241m=\u001b[39m\u001b[38;5;241m8\u001b[39m,\n\u001b[1;32m      5\u001b[0m     hidden_dim\u001b[38;5;241m=\u001b[39m\u001b[38;5;241m64\u001b[39m,\n\u001b[1;32m      6\u001b[0m     output_dim\u001b[38;5;241m=\u001b[39m\u001b[38;5;241m2\u001b[39m,\n\u001b[1;32m      7\u001b[0m     num_layers\u001b[38;5;241m=\u001b[39m\u001b[38;5;241m2\u001b[39m,\n\u001b[1;32m      8\u001b[0m     n_troncons\u001b[38;5;241m=\u001b[39mn_troncons\n\u001b[0;32m----> 9\u001b[0m )\u001b[38;5;241m.\u001b[39mto(\u001b[43mdevice\u001b[49m)\n\u001b[1;32m     11\u001b[0m loss_fn \u001b[38;5;241m=\u001b[39m nn\u001b[38;5;241m.\u001b[39mMSELoss()\n\u001b[1;32m     12\u001b[0m optimizer \u001b[38;5;241m=\u001b[39m torch\u001b[38;5;241m.\u001b[39moptim\u001b[38;5;241m.\u001b[39mAdam(model\u001b[38;5;241m.\u001b[39mparameters(), lr\u001b[38;5;241m=\u001b[39m\u001b[38;5;241m1e-3\u001b[39m)\n",
      "\u001b[0;31mNameError\u001b[0m: name 'device' is not defined"
     ]
    }
   ],
   "source": [
    "# --- Initialisation ---\n",
    "model = LSTMWithTronconEmbedding(\n",
    "    input_dim=len(features),\n",
    "    embedding_dim=8,\n",
    "    hidden_dim=64,\n",
    "    output_dim=2,\n",
    "    num_layers=2,\n",
    "    n_troncons=n_troncons\n",
    ").to(device)\n",
    "\n",
    "loss_fn = nn.MSELoss()\n",
    "optimizer = torch.optim.Adam(model.parameters(), lr=1e-3)"
   ]
  },
  {
   "cell_type": "code",
   "execution_count": null,
   "id": "73e9d255",
   "metadata": {},
   "outputs": [],
   "source": [
    "# --- Entraînement ---\n",
    "EPOCHS = 20\n",
    "for epoch in range(EPOCHS):\n",
    "    model.train()\n",
    "    total_loss = 0\n",
    "    for X_batch, tr_ids, y_batch in train_loader:\n",
    "        X_batch = X_batch.to(device)\n",
    "        tr_ids = tr_ids.to(device)\n",
    "        y_batch = y_batch.to(device)\n",
    "\n",
    "        optimizer.zero_grad()\n",
    "        preds = model(X_batch, tr_ids)\n",
    "        loss = loss_fn(preds, y_batch)\n",
    "        loss.backward()\n",
    "        optimizer.step()\n",
    "        total_loss += loss.item()\n",
    "\n",
    "    print(f\"Epoch {epoch+1}/{EPOCHS} - Loss: {total_loss / len(train_loader):.4f}\")"
   ]
  },
  {
   "cell_type": "code",
   "execution_count": null,
   "id": "a1738558",
   "metadata": {},
   "outputs": [],
   "source": [
    "# --- Évaluation ---\n",
    "model.eval()\n",
    "all_preds, all_targets, all_tr_enc = [], [], []\n",
    "\n",
    "with torch.no_grad():\n",
    "    for X_batch, tr_ids, y_batch in test_loader:\n",
    "        X_batch = X_batch.to(device)\n",
    "        tr_ids = tr_ids.to(device)\n",
    "        preds = model(X_batch, tr_ids).cpu().numpy()\n",
    "        \n",
    "        all_preds.append(preds)\n",
    "        all_targets.append(y_batch.numpy())\n",
    "        all_tr_enc.append(tr_ids.cpu().numpy())\n",
    "\n",
    "y_pred = np.concatenate(all_preds)\n",
    "y_true = np.concatenate(all_targets)\n",
    "tr_enc = np.concatenate(all_tr_enc)\n",
    "\n",
    "# Calcul du MSE\n",
    "mse = np.mean((y_true - y_pred)**2, axis=0)\n",
    "print(f\"\\nTest MSE - taux_occupation: {mse[0]:.4f}, temps_de_parcours: {mse[1]:.4f}\")\n",
    "\n",
    "# --- Création des colonnes heure_arrondie et nom_du_troncon correspondantes ---\n",
    "\n",
    "def get_seq_start_times(data, seq_len):\n",
    "    times = []\n",
    "    grouped = data.groupby('troncon_enc')\n",
    "    for troncon_id, group in grouped:\n",
    "        group = group.sort_values('heure_arrondie').reset_index(drop=True)\n",
    "        for i in range(len(group) - seq_len):\n",
    "            times.append(group.loc[i, 'heure_arrondie'])\n",
    "    return times\n",
    "\n",
    "def get_seq_troncon_names(data, seq_len):\n",
    "    noms = []\n",
    "    grouped = data.groupby('troncon_enc')\n",
    "    for troncon_id, group in grouped:\n",
    "        group = group.sort_values('heure_arrondie').reset_index(drop=True)\n",
    "        for i in range(len(group) - seq_len):\n",
    "            noms.append(group.loc[i, 'nom_du_troncon'])\n",
    "    return noms\n",
    "\n",
    "heure_arrondie_seq = get_seq_start_times(test_df, SEQ_LEN)\n",
    "nom_du_troncon_seq = get_seq_troncon_names(test_df, SEQ_LEN)\n",
    "\n",
    "# --- Création des DataFrames pour CSV ---\n",
    "\n",
    "df_taux = pd.DataFrame({\n",
    "    'heure_arrondie': heure_arrondie_seq,\n",
    "    'nom_du_troncon': nom_du_troncon_seq,\n",
    "    'taux_occupation_reel': y_true[:, 0],\n",
    "    'taux_occupation_pred': y_pred[:, 0]\n",
    "})\n",
    "\n",
    "df_temps = pd.DataFrame({\n",
    "    'heure_arrondie': heure_arrondie_seq,\n",
    "    'nom_du_troncon': nom_du_troncon_seq,\n",
    "    'temps_de_parcours_reel': y_true[:, 1],\n",
    "    'temps_de_parcours_pred': y_pred[:, 1]\n",
    "})\n",
    "\n",
    "df_taux.to_csv('taux_occupation_predictions.csv', index=False)\n",
    "df_temps.to_csv('temps_de_parcours_predictions.csv', index=False)\n",
    "\n",
    "print(\"Fichiers CSV sauvegardés.\")"
   ]
  },
  {
   "cell_type": "code",
   "execution_count": null,
   "id": "351bf751",
   "metadata": {},
   "outputs": [],
   "source": [
    "\n",
    "# --- Reconstruire les tableaux si nécessaire ---\n",
    "# y_true, y_pred doivent déjà être définis après l'évaluation (voir code précédent)\n",
    "\n",
    "# --- Variable 1 : taux_occupation ---\n",
    "plt.figure(figsize=(14, 4))\n",
    "plt.plot(y_true[:, 0], label='Réel - taux_occupation', alpha=0.7)\n",
    "plt.plot(y_pred[:, 0], label='Prédit - taux_occupation', alpha=0.7)\n",
    "plt.title(\"Comparaison Réel vs Prédit : taux_occupation\")\n",
    "plt.xlabel(\"Échantillons (temps)\")\n",
    "plt.ylabel(\"Valeur normalisée\")\n",
    "plt.legend()\n",
    "plt.grid(True)\n",
    "plt.tight_layout()\n",
    "plt.show()\n",
    "\n",
    "# --- Variable 2 : temps_de_parcours ---\n",
    "plt.figure(figsize=(14, 4))\n",
    "plt.plot(y_true[:, 1], label='Réel - temps_de_parcours', alpha=0.7)\n",
    "plt.plot(y_pred[:, 1], label='Prédit - temps_de_parcours', alpha=0.7)\n",
    "plt.title(\"Comparaison Réel vs Prédit : temps_de_parcours\")\n",
    "plt.xlabel(\"Échantillons (temps)\")\n",
    "plt.ylabel(\"Valeur normalisée\")\n",
    "plt.legend()\n",
    "plt.grid(True)\n",
    "plt.tight_layout()\n",
    "plt.show()\n"
   ]
  }
 ],
 "metadata": {
  "kernelspec": {
   "display_name": "Projet2",
   "language": "python",
   "name": "python3"
  },
  "language_info": {
   "codemirror_mode": {
    "name": "ipython",
    "version": 3
   },
   "file_extension": ".py",
   "mimetype": "text/x-python",
   "name": "python",
   "nbconvert_exporter": "python",
   "pygments_lexer": "ipython3",
   "version": "3.9.21"
  }
 },
 "nbformat": 4,
 "nbformat_minor": 5
}
