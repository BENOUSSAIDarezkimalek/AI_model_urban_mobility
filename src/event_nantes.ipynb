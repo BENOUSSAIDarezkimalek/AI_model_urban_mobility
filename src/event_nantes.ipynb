{
 "cells": [
  {
   "cell_type": "code",
   "execution_count": null,
   "metadata": {},
   "outputs": [],
   "source": [
    "import time\n",
    "from datetime import time\n",
    "import pandas as pd\n",
    "from datetime import datetime, timedelta\n",
    "import os\n",
    "import json"
   ]
  },
  {
   "cell_type": "code",
   "execution_count": null,
   "metadata": {},
   "outputs": [],
   "source": [
    "from modules.scrapping_functions import init_driver, fetch_json_event"
   ]
  },
  {
   "cell_type": "markdown",
   "metadata": {},
   "source": [
    "# Récupération sur OpenAgenda"
   ]
  },
  {
   "cell_type": "code",
   "execution_count": null,
   "metadata": {},
   "outputs": [
    {
     "name": "stdout",
     "output_type": "stream",
     "text": [
      "📡 Fetching data for 2025-12 - Location 47538434...\n",
      "📡 Fetching data for 2025-12 - Location 21547859...\n",
      "📡 Fetching data for 2025-12 - Location 95545941...\n",
      "📡 Fetching data for 2025-12 - Location 41936666...\n",
      "📡 Fetching data for 2025-12 - Location 34310089...\n",
      "📡 Fetching data for 2025-12 - Location 57179132...\n",
      "📡 Fetching data for 2025-12 - Location 57196237...\n",
      "📡 Fetching data for 2025-12 - Location 79753849...\n",
      "📡 Fetching data for 2025-12 - Location 91702963...\n",
      "📡 Fetching data for 2025-12 - Location 27572337...\n",
      "📡 Fetching data for 2025-12 - Location 45334118...\n"
     ]
    }
   ],
   "source": [
    "# Liste des ID de lieux (plusieurs ID possible pour un seul lieu)\n",
    "location_uids = [\n",
    "    \"47538434\", \"21547859\", \"95545941\", \"41936666\", \"34310089\",\n",
    "    \"57179132\", \"57196237\", \"79753849\", \"91702963\", \"27572337\", \"45334118\"\n",
    "]\n",
    "\n",
    "start_date = datetime(2025, 2, 15)\n",
    "api_base_url = \"https://openagenda.com/fr/nantesmetropole?timings%5Bgte%5D={start}&timings%5Blte%5D={end}&timings%5Btz%5D=Europe%2FParis&locationUid%5B0%5D={location}\"\n",
    "\n",
    "os.makedirs(\"json_data\", exist_ok=True)\n",
    "\n",
    "driver = init_driver()\n",
    "\n",
    "dataframes = []\n",
    "\n",
    "# Boucle sur les mois jusqu’en décembre\n",
    "while start_date.year == 2025:\n",
    "    first_day = start_date if start_date.month == 2 else datetime(start_date.year, start_date.month, 1)\n",
    "    next_month = first_day.replace(day=28) + timedelta(days=4)  \n",
    "    last_day = next_month.replace(day=1) - timedelta(seconds=1)  \n",
    "\n",
    "    for location_uid in location_uids:\n",
    "        start_iso = first_day.isoformat() + \"Z\"\n",
    "        end_iso = last_day.isoformat() + \"Z\"\n",
    "        url = api_base_url.format(start=start_iso, end=end_iso, location=location_uid)\n",
    "\n",
    "        print(f\"Collecting data for {first_day.strftime('%Y-%m')} - Location {location_uid}...\")\n",
    "\n",
    "        # Ajout de 3 tentatives avant d’abandonner\n",
    "        for attempt in range(3):\n",
    "            response_json = fetch_json_event(url, driver)\n",
    "            if response_json:\n",
    "                break\n",
    "            print(f\"Tentative {attempt + 1} échouée, nouvelle tentative...\")\n",
    "            time.sleep(5) \n",
    "\n",
    "        if response_json:\n",
    "            file_name = f\"json_data/{first_day.strftime('%Y-%m')}_{location_uid}.json\"\n",
    "            with open(file_name, \"w\", encoding=\"utf-8\") as f:\n",
    "                json.dump(response_json, f, indent=4, ensure_ascii=False)\n",
    "\n",
    "\n",
    "        time.sleep(3)\n",
    "\n",
    "    start_date = next_month  \n",
    "\n",
    "# Fermer Selenium après toutes les requêtes\n",
    "driver.quit()\n"
   ]
  },
  {
   "cell_type": "code",
   "execution_count": null,
   "metadata": {},
   "outputs": [
    {
     "name": "stdout",
     "output_type": "stream",
     "text": [
      "Extraction et sauvegarde des événements terminées !\n"
     ]
    }
   ],
   "source": [
    "# Dossier contenant les fichiers JSON\n",
    "folder_path = \"data/raw/json_data\"\n",
    "\n",
    "event_rows = []\n",
    "\n",
    "# Lire tous les fichiers JSON\n",
    "for file_name in os.listdir(folder_path):\n",
    "    if file_name.endswith(\".json\"):  \n",
    "        file_path = os.path.join(folder_path, file_name)\n",
    "        \n",
    "        with open(file_path, \"r\", encoding=\"utf-8\") as f:\n",
    "            json_data = json.load(f)\n",
    "\n",
    "        # Extraire le mois et le location_uid depuis le nom du fichier\n",
    "        parts = file_name.replace(\".json\", \"\").split(\"_\")\n",
    "        month = parts[0]  \n",
    "        location_uid = parts[1]  \n",
    "\n",
    "        # Vérifier si @graph contient des événements\n",
    "        if \"@graph\" in json_data and len(json_data[\"@graph\"]) > 0:\n",
    "            for event in json_data[\"@graph\"]:\n",
    "                event_data = {\n",
    "                    \"event_id\": event.get(\"@id\", \"\"),\n",
    "                    \"name\": event.get(\"name\", \"\"),\n",
    "                    \"description\": event.get(\"description\", \"\"),\n",
    "                    \"startDate\": event.get(\"startDate\", \"\"),\n",
    "                    \"endDate\": event.get(\"endDate\", \"\"),\n",
    "                    \"eventAttendanceMode\": event.get(\"eventAttendanceMode\", \"\"),\n",
    "                    \"eventStatus\": event.get(\"eventStatus\", \"\"),\n",
    "                    \"image\": event.get(\"image\", \"\"),\n",
    "                    \"url\": event.get(\"url\", \"\"),\n",
    "                    \"location_name\": event.get(\"location\", {}).get(\"name\", \"\"),\n",
    "                    \"address\": event.get(\"location\", {}).get(\"address\", {}).get(\"streetAddress\", \"\"),\n",
    "                    \"city\": event.get(\"location\", {}).get(\"address\", {}).get(\"addressLocality\", \"\"),\n",
    "                    \"region\": event.get(\"location\", {}).get(\"address\", {}).get(\"addressRegion\", \"\"),\n",
    "                    \"postalCode\": event.get(\"location\", {}).get(\"address\", {}).get(\"postalCode\", \"\"),\n",
    "                    \"country\": event.get(\"location\", {}).get(\"address\", {}).get(\"addressCountry\", \"\"),\n",
    "                    \"latitude\": event.get(\"location\", {}).get(\"geo\", {}).get(\"latitude\", \"\"),\n",
    "                    \"longitude\": event.get(\"location\", {}).get(\"geo\", {}).get(\"longitude\", \"\"),\n",
    "                    \"month\": month,\n",
    "                    \"location_uid\": location_uid\n",
    "                }\n",
    "                event_rows.append(event_data)\n",
    "\n",
    "df_clean = pd.DataFrame(event_rows)\n",
    "\n",
    "df_clean.to_csv(\"/Users/manu/Desktop/SUP/Projet 2/AI_model_urban_mobility/data/preprocessed/event_data_nanntes_last_version.csv\", index=False, encoding=\"utf-8\")\n",
    "\n",
    "print(\"Extraction et sauvegarde des événements terminées !\")\n"
   ]
  }
 ],
 "metadata": {
  "kernelspec": {
   "display_name": "Projet2",
   "language": "python",
   "name": "python3"
  },
  "language_info": {
   "codemirror_mode": {
    "name": "ipython",
    "version": 3
   },
   "file_extension": ".py",
   "mimetype": "text/x-python",
   "name": "python",
   "nbconvert_exporter": "python",
   "pygments_lexer": "ipython3",
   "version": "3.9.21"
  }
 },
 "nbformat": 4,
 "nbformat_minor": 2
}
